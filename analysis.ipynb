{
 "cells": [
  {
   "cell_type": "code",
   "execution_count": 1,
   "metadata": {},
   "outputs": [],
   "source": [
    "import pandas as pd \n",
    "import matplotlib.pyplot as plt \n",
    "import seaborn as sns\n",
    "from collections import Counter\n",
    "import nltk\n",
    "from nltk.corpus import stopwords\n",
    "import string\n",
    "from wordcloud import WordCloud"
   ]
  },
  {
   "cell_type": "code",
   "execution_count": 2,
   "metadata": {},
   "outputs": [
    {
     "data": {
      "text/html": [
       "<div>\n",
       "<style scoped>\n",
       "    .dataframe tbody tr th:only-of-type {\n",
       "        vertical-align: middle;\n",
       "    }\n",
       "\n",
       "    .dataframe tbody tr th {\n",
       "        vertical-align: top;\n",
       "    }\n",
       "\n",
       "    .dataframe thead th {\n",
       "        text-align: right;\n",
       "    }\n",
       "</style>\n",
       "<table border=\"1\" class=\"dataframe\">\n",
       "  <thead>\n",
       "    <tr style=\"text-align: right;\">\n",
       "      <th></th>\n",
       "      <th>Unnamed: 0</th>\n",
       "      <th>ASIN</th>\n",
       "      <th>Name</th>\n",
       "      <th>Price</th>\n",
       "      <th>List Price</th>\n",
       "      <th>Features</th>\n",
       "      <th>Image</th>\n",
       "      <th>Rating</th>\n",
       "      <th>Reviews</th>\n",
       "      <th>Supplier</th>\n",
       "      <th>Supplier_url</th>\n",
       "    </tr>\n",
       "  </thead>\n",
       "  <tbody>\n",
       "    <tr>\n",
       "      <th>0</th>\n",
       "      <td>0</td>\n",
       "      <td>B0DHZ6CNDL</td>\n",
       "      <td>Military Smart Watch for Men(Answer/Dial Calls...</td>\n",
       "      <td>$72.99</td>\n",
       "      <td>NaN</td>\n",
       "      <td>➤【Military Grade】SUNKTA smart watch breaks a...</td>\n",
       "      <td>https://m.media-amazon.com/images/I/71pc1LaYUF...</td>\n",
       "      <td>5.0</td>\n",
       "      <td>6</td>\n",
       "      <td>SUNKTA Store</td>\n",
       "      <td>https://www.amazon.com/stores/SUNKTA/page/5C6D...</td>\n",
       "    </tr>\n",
       "    <tr>\n",
       "      <th>1</th>\n",
       "      <td>1</td>\n",
       "      <td>B07WLJWMHM</td>\n",
       "      <td>BENYAR Mens Watches Chronograph Date Waterproo...</td>\n",
       "      <td>$39.98</td>\n",
       "      <td>NaN</td>\n",
       "      <td>\\n\\n  \\nClasp type \\n  \\nBuckle \\n  \\n\\n  \\nCo...</td>\n",
       "      <td>https://m.media-amazon.com/images/I/81bZU86djq...</td>\n",
       "      <td>4.5</td>\n",
       "      <td>2,024</td>\n",
       "      <td>CEYADG Store</td>\n",
       "      <td>https://www.amazon.com/stores/CEYADG/page/4FC7...</td>\n",
       "    </tr>\n",
       "    <tr>\n",
       "      <th>2</th>\n",
       "      <td>2</td>\n",
       "      <td>B0DK3KQ55X</td>\n",
       "      <td>Pagani Design Watches for Men, 38mm Dial, Stai...</td>\n",
       "      <td>$69.99</td>\n",
       "      <td>NaN</td>\n",
       "      <td>\\n\\n  \\nClasp type \\n  \\nPush Button Foldover ...</td>\n",
       "      <td>https://m.media-amazon.com/images/I/71PWwg5nXy...</td>\n",
       "      <td>4.7</td>\n",
       "      <td>11</td>\n",
       "      <td>Orizontime Store</td>\n",
       "      <td>https://www.amazon.com/stores/Orizontime/page/...</td>\n",
       "    </tr>\n",
       "    <tr>\n",
       "      <th>3</th>\n",
       "      <td>3</td>\n",
       "      <td>B09P1GHH3M</td>\n",
       "      <td>FORSINING Vintage Watch for Men Engraved Autom...</td>\n",
       "      <td>$41.99</td>\n",
       "      <td>NaN</td>\n",
       "      <td>\\n\\n  \\nItem width \\n  \\n11 centimeters \\n  \\n...</td>\n",
       "      <td>https://m.media-amazon.com/images/I/81jjRDkzcd...</td>\n",
       "      <td>4.2</td>\n",
       "      <td>98</td>\n",
       "      <td>FORSINING Store</td>\n",
       "      <td>https://www.amazon.com/stores/FORSINING/page/A...</td>\n",
       "    </tr>\n",
       "    <tr>\n",
       "      <th>4</th>\n",
       "      <td>4</td>\n",
       "      <td>B07JZFQQYL</td>\n",
       "      <td>Invicta Mens Pro Diver Quartz Watch, Black, 28001</td>\n",
       "      <td>$64.90</td>\n",
       "      <td>NaN</td>\n",
       "      <td>Black dial, Black silicone band 50mm stainles...</td>\n",
       "      <td>https://m.media-amazon.com/images/I/7135J0dg1g...</td>\n",
       "      <td>4.7</td>\n",
       "      <td>50</td>\n",
       "      <td>Invicta Store</td>\n",
       "      <td>https://www.amazon.com/stores/InvictaStores/pa...</td>\n",
       "    </tr>\n",
       "  </tbody>\n",
       "</table>\n",
       "</div>"
      ],
      "text/plain": [
       "   Unnamed: 0        ASIN                                               Name  \\\n",
       "0           0  B0DHZ6CNDL  Military Smart Watch for Men(Answer/Dial Calls...   \n",
       "1           1  B07WLJWMHM  BENYAR Mens Watches Chronograph Date Waterproo...   \n",
       "2           2  B0DK3KQ55X  Pagani Design Watches for Men, 38mm Dial, Stai...   \n",
       "3           3  B09P1GHH3M  FORSINING Vintage Watch for Men Engraved Autom...   \n",
       "4           4  B07JZFQQYL  Invicta Mens Pro Diver Quartz Watch, Black, 28001   \n",
       "\n",
       "     Price List Price                                           Features  \\\n",
       "0   $72.99        NaN    ➤【Military Grade】SUNKTA smart watch breaks a...   \n",
       "1   $39.98        NaN  \\n\\n  \\nClasp type \\n  \\nBuckle \\n  \\n\\n  \\nCo...   \n",
       "2   $69.99        NaN  \\n\\n  \\nClasp type \\n  \\nPush Button Foldover ...   \n",
       "3   $41.99        NaN  \\n\\n  \\nItem width \\n  \\n11 centimeters \\n  \\n...   \n",
       "4   $64.90        NaN   Black dial, Black silicone band 50mm stainles...   \n",
       "\n",
       "                                               Image  Rating Reviews  \\\n",
       "0  https://m.media-amazon.com/images/I/71pc1LaYUF...     5.0      6    \n",
       "1  https://m.media-amazon.com/images/I/81bZU86djq...     4.5  2,024    \n",
       "2  https://m.media-amazon.com/images/I/71PWwg5nXy...     4.7     11    \n",
       "3  https://m.media-amazon.com/images/I/81jjRDkzcd...     4.2     98    \n",
       "4  https://m.media-amazon.com/images/I/7135J0dg1g...     4.7     50    \n",
       "\n",
       "           Supplier                                       Supplier_url  \n",
       "0      SUNKTA Store  https://www.amazon.com/stores/SUNKTA/page/5C6D...  \n",
       "1      CEYADG Store  https://www.amazon.com/stores/CEYADG/page/4FC7...  \n",
       "2  Orizontime Store  https://www.amazon.com/stores/Orizontime/page/...  \n",
       "3   FORSINING Store  https://www.amazon.com/stores/FORSINING/page/A...  \n",
       "4     Invicta Store  https://www.amazon.com/stores/InvictaStores/pa...  "
      ]
     },
     "execution_count": 2,
     "metadata": {},
     "output_type": "execute_result"
    }
   ],
   "source": [
    "df = pd.read_csv('Amazon_data.csv')\n",
    "df.head()"
   ]
  },
  {
   "cell_type": "code",
   "execution_count": 3,
   "metadata": {},
   "outputs": [],
   "source": [
    "df['Reviews'] = df['Reviews'].str.replace(',','').str.strip().astype(int)\n",
    "df['Price'] = df['Price'].str.replace('$','').str.strip().astype(float)"
   ]
  },
  {
   "cell_type": "code",
   "execution_count": 4,
   "metadata": {},
   "outputs": [
    {
     "data": {
      "text/html": [
       "<div>\n",
       "<style scoped>\n",
       "    .dataframe tbody tr th:only-of-type {\n",
       "        vertical-align: middle;\n",
       "    }\n",
       "\n",
       "    .dataframe tbody tr th {\n",
       "        vertical-align: top;\n",
       "    }\n",
       "\n",
       "    .dataframe thead th {\n",
       "        text-align: right;\n",
       "    }\n",
       "</style>\n",
       "<table border=\"1\" class=\"dataframe\">\n",
       "  <thead>\n",
       "    <tr style=\"text-align: right;\">\n",
       "      <th></th>\n",
       "      <th>Unnamed: 0</th>\n",
       "      <th>ASIN</th>\n",
       "      <th>Name</th>\n",
       "      <th>Price</th>\n",
       "      <th>Features</th>\n",
       "      <th>Image</th>\n",
       "      <th>Rating</th>\n",
       "      <th>Reviews</th>\n",
       "      <th>Supplier</th>\n",
       "      <th>Supplier_url</th>\n",
       "    </tr>\n",
       "  </thead>\n",
       "  <tbody>\n",
       "    <tr>\n",
       "      <th>0</th>\n",
       "      <td>0</td>\n",
       "      <td>B0DHZ6CNDL</td>\n",
       "      <td>Military Smart Watch for Men(Answer/Dial Calls...</td>\n",
       "      <td>72.99</td>\n",
       "      <td>➤【Military Grade】SUNKTA smart watch breaks a...</td>\n",
       "      <td>https://m.media-amazon.com/images/I/71pc1LaYUF...</td>\n",
       "      <td>5.0</td>\n",
       "      <td>6</td>\n",
       "      <td>SUNKTA Store</td>\n",
       "      <td>https://www.amazon.com/stores/SUNKTA/page/5C6D...</td>\n",
       "    </tr>\n",
       "    <tr>\n",
       "      <th>1</th>\n",
       "      <td>1</td>\n",
       "      <td>B07WLJWMHM</td>\n",
       "      <td>BENYAR Mens Watches Chronograph Date Waterproo...</td>\n",
       "      <td>39.98</td>\n",
       "      <td>\\n\\n  \\nClasp type \\n  \\nBuckle \\n  \\n\\n  \\nCo...</td>\n",
       "      <td>https://m.media-amazon.com/images/I/81bZU86djq...</td>\n",
       "      <td>4.5</td>\n",
       "      <td>2024</td>\n",
       "      <td>CEYADG Store</td>\n",
       "      <td>https://www.amazon.com/stores/CEYADG/page/4FC7...</td>\n",
       "    </tr>\n",
       "    <tr>\n",
       "      <th>2</th>\n",
       "      <td>2</td>\n",
       "      <td>B0DK3KQ55X</td>\n",
       "      <td>Pagani Design Watches for Men, 38mm Dial, Stai...</td>\n",
       "      <td>69.99</td>\n",
       "      <td>\\n\\n  \\nClasp type \\n  \\nPush Button Foldover ...</td>\n",
       "      <td>https://m.media-amazon.com/images/I/71PWwg5nXy...</td>\n",
       "      <td>4.7</td>\n",
       "      <td>11</td>\n",
       "      <td>Orizontime Store</td>\n",
       "      <td>https://www.amazon.com/stores/Orizontime/page/...</td>\n",
       "    </tr>\n",
       "    <tr>\n",
       "      <th>3</th>\n",
       "      <td>3</td>\n",
       "      <td>B09P1GHH3M</td>\n",
       "      <td>FORSINING Vintage Watch for Men Engraved Autom...</td>\n",
       "      <td>41.99</td>\n",
       "      <td>\\n\\n  \\nItem width \\n  \\n11 centimeters \\n  \\n...</td>\n",
       "      <td>https://m.media-amazon.com/images/I/81jjRDkzcd...</td>\n",
       "      <td>4.2</td>\n",
       "      <td>98</td>\n",
       "      <td>FORSINING Store</td>\n",
       "      <td>https://www.amazon.com/stores/FORSINING/page/A...</td>\n",
       "    </tr>\n",
       "    <tr>\n",
       "      <th>4</th>\n",
       "      <td>4</td>\n",
       "      <td>B07JZFQQYL</td>\n",
       "      <td>Invicta Mens Pro Diver Quartz Watch, Black, 28001</td>\n",
       "      <td>64.90</td>\n",
       "      <td>Black dial, Black silicone band 50mm stainles...</td>\n",
       "      <td>https://m.media-amazon.com/images/I/7135J0dg1g...</td>\n",
       "      <td>4.7</td>\n",
       "      <td>50</td>\n",
       "      <td>Invicta Store</td>\n",
       "      <td>https://www.amazon.com/stores/InvictaStores/pa...</td>\n",
       "    </tr>\n",
       "    <tr>\n",
       "      <th>...</th>\n",
       "      <td>...</td>\n",
       "      <td>...</td>\n",
       "      <td>...</td>\n",
       "      <td>...</td>\n",
       "      <td>...</td>\n",
       "      <td>...</td>\n",
       "      <td>...</td>\n",
       "      <td>...</td>\n",
       "      <td>...</td>\n",
       "      <td>...</td>\n",
       "    </tr>\n",
       "    <tr>\n",
       "      <th>262</th>\n",
       "      <td>262</td>\n",
       "      <td>B0733PT6VC</td>\n",
       "      <td>Bulova Men's Marine Star Series C Stainless St...</td>\n",
       "      <td>256.00</td>\n",
       "      <td>\\n\\n  \\nMaterial \\n  \\nStainless-steel \\n  \\n\\...</td>\n",
       "      <td>https://m.media-amazon.com/images/I/81GbXYQRp8...</td>\n",
       "      <td>4.6</td>\n",
       "      <td>499</td>\n",
       "      <td>Bulova Store</td>\n",
       "      <td>https://www.amazon.com/stores/BulovaCorporatio...</td>\n",
       "    </tr>\n",
       "    <tr>\n",
       "      <th>263</th>\n",
       "      <td>263</td>\n",
       "      <td>B09VGFS21M</td>\n",
       "      <td>FILIEKEU Men Smart Watch for Android iOS, Blue...</td>\n",
       "      <td>49.99</td>\n",
       "      <td>\\n\\n  \\nItem width \\n  \\n4.2 centimeters \\n  \\...</td>\n",
       "      <td>https://m.media-amazon.com/images/I/615S7jF9tT...</td>\n",
       "      <td>4.0</td>\n",
       "      <td>1657</td>\n",
       "      <td>FILIEKEU</td>\n",
       "      <td>https://www.amazon.com/FILIEKEU/b/ref=bl_sl_s_...</td>\n",
       "    </tr>\n",
       "    <tr>\n",
       "      <th>264</th>\n",
       "      <td>264</td>\n",
       "      <td>B0BTBX691N</td>\n",
       "      <td>Smart Watch for Men(Answer/Make Call),Alexa Bu...</td>\n",
       "      <td>77.99</td>\n",
       "      <td>【Make/Answer Call】After connecting to your p...</td>\n",
       "      <td>https://m.media-amazon.com/images/I/61IiAwla6H...</td>\n",
       "      <td>4.1</td>\n",
       "      <td>7145</td>\n",
       "      <td>Woneligo Store</td>\n",
       "      <td>https://www.amazon.com/stores/WoneligoSmartwat...</td>\n",
       "    </tr>\n",
       "    <tr>\n",
       "      <th>265</th>\n",
       "      <td>265</td>\n",
       "      <td>B07G5Q8LKH</td>\n",
       "      <td>Bulova Men's Crystal Octava Chronograph Quartz...</td>\n",
       "      <td>301.96</td>\n",
       "      <td>From the Bulova Men's Crystal Collection, mak...</td>\n",
       "      <td>https://m.media-amazon.com/images/I/71Yb3ng2PB...</td>\n",
       "      <td>4.7</td>\n",
       "      <td>1852</td>\n",
       "      <td>Bulova Store</td>\n",
       "      <td>https://www.amazon.com/stores/BulovaCorporatio...</td>\n",
       "    </tr>\n",
       "    <tr>\n",
       "      <th>266</th>\n",
       "      <td>266</td>\n",
       "      <td>B06XMQH34J</td>\n",
       "      <td>Skagen Signatur Minimalist Men's Watch with St...</td>\n",
       "      <td>92.10</td>\n",
       "      <td>Editor's Notes: This 40mm Signatur has a sand...</td>\n",
       "      <td>https://m.media-amazon.com/images/I/71NDpUA4Bu...</td>\n",
       "      <td>4.4</td>\n",
       "      <td>628</td>\n",
       "      <td>Skagen Store</td>\n",
       "      <td>https://www.amazon.com/stores/SkagenWatches/pa...</td>\n",
       "    </tr>\n",
       "  </tbody>\n",
       "</table>\n",
       "<p>267 rows × 10 columns</p>\n",
       "</div>"
      ],
      "text/plain": [
       "     Unnamed: 0        ASIN  \\\n",
       "0             0  B0DHZ6CNDL   \n",
       "1             1  B07WLJWMHM   \n",
       "2             2  B0DK3KQ55X   \n",
       "3             3  B09P1GHH3M   \n",
       "4             4  B07JZFQQYL   \n",
       "..          ...         ...   \n",
       "262         262  B0733PT6VC   \n",
       "263         263  B09VGFS21M   \n",
       "264         264  B0BTBX691N   \n",
       "265         265  B07G5Q8LKH   \n",
       "266         266  B06XMQH34J   \n",
       "\n",
       "                                                  Name   Price  \\\n",
       "0    Military Smart Watch for Men(Answer/Dial Calls...   72.99   \n",
       "1    BENYAR Mens Watches Chronograph Date Waterproo...   39.98   \n",
       "2    Pagani Design Watches for Men, 38mm Dial, Stai...   69.99   \n",
       "3    FORSINING Vintage Watch for Men Engraved Autom...   41.99   \n",
       "4    Invicta Mens Pro Diver Quartz Watch, Black, 28001   64.90   \n",
       "..                                                 ...     ...   \n",
       "262  Bulova Men's Marine Star Series C Stainless St...  256.00   \n",
       "263  FILIEKEU Men Smart Watch for Android iOS, Blue...   49.99   \n",
       "264  Smart Watch for Men(Answer/Make Call),Alexa Bu...   77.99   \n",
       "265  Bulova Men's Crystal Octava Chronograph Quartz...  301.96   \n",
       "266  Skagen Signatur Minimalist Men's Watch with St...   92.10   \n",
       "\n",
       "                                              Features  \\\n",
       "0      ➤【Military Grade】SUNKTA smart watch breaks a...   \n",
       "1    \\n\\n  \\nClasp type \\n  \\nBuckle \\n  \\n\\n  \\nCo...   \n",
       "2    \\n\\n  \\nClasp type \\n  \\nPush Button Foldover ...   \n",
       "3    \\n\\n  \\nItem width \\n  \\n11 centimeters \\n  \\n...   \n",
       "4     Black dial, Black silicone band 50mm stainles...   \n",
       "..                                                 ...   \n",
       "262  \\n\\n  \\nMaterial \\n  \\nStainless-steel \\n  \\n\\...   \n",
       "263  \\n\\n  \\nItem width \\n  \\n4.2 centimeters \\n  \\...   \n",
       "264    【Make/Answer Call】After connecting to your p...   \n",
       "265   From the Bulova Men's Crystal Collection, mak...   \n",
       "266   Editor's Notes: This 40mm Signatur has a sand...   \n",
       "\n",
       "                                                 Image  Rating  Reviews  \\\n",
       "0    https://m.media-amazon.com/images/I/71pc1LaYUF...     5.0        6   \n",
       "1    https://m.media-amazon.com/images/I/81bZU86djq...     4.5     2024   \n",
       "2    https://m.media-amazon.com/images/I/71PWwg5nXy...     4.7       11   \n",
       "3    https://m.media-amazon.com/images/I/81jjRDkzcd...     4.2       98   \n",
       "4    https://m.media-amazon.com/images/I/7135J0dg1g...     4.7       50   \n",
       "..                                                 ...     ...      ...   \n",
       "262  https://m.media-amazon.com/images/I/81GbXYQRp8...     4.6      499   \n",
       "263  https://m.media-amazon.com/images/I/615S7jF9tT...     4.0     1657   \n",
       "264  https://m.media-amazon.com/images/I/61IiAwla6H...     4.1     7145   \n",
       "265  https://m.media-amazon.com/images/I/71Yb3ng2PB...     4.7     1852   \n",
       "266  https://m.media-amazon.com/images/I/71NDpUA4Bu...     4.4      628   \n",
       "\n",
       "             Supplier                                       Supplier_url  \n",
       "0        SUNKTA Store  https://www.amazon.com/stores/SUNKTA/page/5C6D...  \n",
       "1        CEYADG Store  https://www.amazon.com/stores/CEYADG/page/4FC7...  \n",
       "2    Orizontime Store  https://www.amazon.com/stores/Orizontime/page/...  \n",
       "3     FORSINING Store  https://www.amazon.com/stores/FORSINING/page/A...  \n",
       "4       Invicta Store  https://www.amazon.com/stores/InvictaStores/pa...  \n",
       "..                ...                                                ...  \n",
       "262      Bulova Store  https://www.amazon.com/stores/BulovaCorporatio...  \n",
       "263          FILIEKEU  https://www.amazon.com/FILIEKEU/b/ref=bl_sl_s_...  \n",
       "264    Woneligo Store  https://www.amazon.com/stores/WoneligoSmartwat...  \n",
       "265      Bulova Store  https://www.amazon.com/stores/BulovaCorporatio...  \n",
       "266      Skagen Store  https://www.amazon.com/stores/SkagenWatches/pa...  \n",
       "\n",
       "[267 rows x 10 columns]"
      ]
     },
     "execution_count": 4,
     "metadata": {},
     "output_type": "execute_result"
    }
   ],
   "source": [
    "df.drop('List Price',axis = 1,inplace=True)\n",
    "df"
   ]
  },
  {
   "cell_type": "code",
   "execution_count": 15,
   "metadata": {},
   "outputs": [
    {
     "data": {
      "image/png": "[encoded data removed]",
      "text/plain": [
       "<Figure size 1000x600 with 1 Axes>"
      ]
     },
     "metadata": {},
     "output_type": "display_data"
    }
   ],
   "source": [
    "#Popular Product\n",
    "df['Popularity'] = df['Rating']*df['Reviews']\n",
    "popularity = df.nlargest(20,'Popularity')\n",
    "plt.figure(figsize=(10,6))\n",
    "plt.bar(popularity['ASIN'],popularity['Popularity'],color='skyblue')\n",
    "plt.title('Top 10 Popular Products')\n",
    "plt.xlabel('Product ASIN')\n",
    "plt.ylabel('Popularity')\n",
    "plt.xticks(rotation=45,ha='right')\n",
    "plt.grid(axis='y',linestyle='--',alpha=0.7)\n",
    "plt.tight_layout()\n",
    "plt.show()"
   ]
  },
  {
   "cell_type": "markdown",
   "metadata": {},
   "source": [
    "## Top Five Suppliers With Most Number of Products"
   ]
  },
  {
   "cell_type": "code",
   "execution_count": 35,
   "metadata": {},
   "outputs": [
    {
     "name": "stderr",
     "output_type": "stream",
     "text": [
      "/var/folders/6k/9lcwl8q960scjdl32lqz8h_80000gn/T/ipykernel_80974/2885503688.py:7: FutureWarning: \n",
      "\n",
      "Passing `palette` without assigning `hue` is deprecated and will be removed in v0.14.0. Assign the `y` variable to `hue` and set `legend=False` for the same effect.\n",
      "\n",
      "  ax = sns.barplot(x='num_products', y='Supplier', data=top_5_products, palette='viridis')\n"
     ]
    },
    {
     "data": {
      "image/png": "[encoded data removed]",
      "text/plain": [
       "<Figure size 1000x600 with 1 Axes>"
      ]
     },
     "metadata": {},
     "output_type": "display_data"
    }
   ],
   "source": [
    "product_counts = df['Supplier'].value_counts().reset_index()\n",
    "product_counts.columns = ['Supplier','num_products']\n",
    "top_5_products = product_counts.sort_values(by='num_products',ascending=False).head(5)\n",
    "sns.set(style=\"whitegrid\")\n",
    "\n",
    "plt.figure(figsize=(10, 6))\n",
    "ax = sns.barplot(x='num_products', y='Supplier', data=top_5_products, palette='viridis')\n",
    "\n",
    "for p in ax.patches:\n",
    "    width = p.get_width()\n",
    "    plt.text(width + 0.1, \n",
    "             p.get_y() + p.get_height() / 2, \n",
    "             f'{int(width)}',\n",
    "             va='center')  \n",
    "\n",
    "plt.title('Top 5 Suppliers by Number of Products')\n",
    "plt.xlabel('Number of Products')\n",
    "plt.ylabel('Supplier')\n",
    "plt.show()"
   ]
  },
  {
   "cell_type": "markdown",
   "metadata": {},
   "source": [
    "## Top 5 Suppliers with Highest Ratings"
   ]
  },
  {
   "cell_type": "code",
   "execution_count": 39,
   "metadata": {},
   "outputs": [
    {
     "data": {
      "text/html": [
       "<div>\n",
       "<style scoped>\n",
       "    .dataframe tbody tr th:only-of-type {\n",
       "        vertical-align: middle;\n",
       "    }\n",
       "\n",
       "    .dataframe tbody tr th {\n",
       "        vertical-align: top;\n",
       "    }\n",
       "\n",
       "    .dataframe thead th {\n",
       "        text-align: right;\n",
       "    }\n",
       "</style>\n",
       "<table border=\"1\" class=\"dataframe\">\n",
       "  <thead>\n",
       "    <tr style=\"text-align: right;\">\n",
       "      <th></th>\n",
       "      <th>Supplier</th>\n",
       "      <th>Rating</th>\n",
       "    </tr>\n",
       "  </thead>\n",
       "  <tbody>\n",
       "    <tr>\n",
       "      <th>41</th>\n",
       "      <td>OUPINKE Store</td>\n",
       "      <td>5.0</td>\n",
       "    </tr>\n",
       "    <tr>\n",
       "      <th>50</th>\n",
       "      <td>SUNKTA Store</td>\n",
       "      <td>5.0</td>\n",
       "    </tr>\n",
       "    <tr>\n",
       "      <th>31</th>\n",
       "      <td>Invicta Store</td>\n",
       "      <td>4.9</td>\n",
       "    </tr>\n",
       "    <tr>\n",
       "      <th>23</th>\n",
       "      <td>G-Shock Store</td>\n",
       "      <td>4.7</td>\n",
       "    </tr>\n",
       "    <tr>\n",
       "      <th>15</th>\n",
       "      <td>Citizen Store</td>\n",
       "      <td>4.7</td>\n",
       "    </tr>\n",
       "  </tbody>\n",
       "</table>\n",
       "</div>"
      ],
      "text/plain": [
       "         Supplier  Rating\n",
       "41  OUPINKE Store     5.0\n",
       "50   SUNKTA Store     5.0\n",
       "31  Invicta Store     4.9\n",
       "23  G-Shock Store     4.7\n",
       "15  Citizen Store     4.7"
      ]
     },
     "execution_count": 39,
     "metadata": {},
     "output_type": "execute_result"
    }
   ],
   "source": [
    "max_rating = df.groupby('Supplier')['Rating'].max().reset_index()\n",
    "top_5_by_rating = max_rating.sort_values(by='Rating',ascending=False).head(5)\n",
    "top_5_by_rating"
   ]
  },
  {
   "cell_type": "code",
   "execution_count": 41,
   "metadata": {},
   "outputs": [
    {
     "name": "stderr",
     "output_type": "stream",
     "text": [
      "/var/folders/6k/9lcwl8q960scjdl32lqz8h_80000gn/T/ipykernel_80974/2803060321.py:3: FutureWarning: \n",
      "\n",
      "Passing `palette` without assigning `hue` is deprecated and will be removed in v0.14.0. Assign the `y` variable to `hue` and set `legend=False` for the same effect.\n",
      "\n",
      "  ax = sns.barplot(x='Rating',y='Supplier',data=top_5_by_rating,palette='viridis')\n"
     ]
    },
    {
     "data": {
      "text/plain": [
       "<function matplotlib.pyplot.show(close=None, block=None)>"
      ]
     },
     "execution_count": 41,
     "metadata": {},
     "output_type": "execute_result"
    },
    {
     "data": {
      "image/png": "[encoded data removed]",
      "text/plain": [
       "<Figure size 1000x600 with 1 Axes>"
      ]
     },
     "metadata": {},
     "output_type": "display_data"
    }
   ],
   "source": [
    "sns.set(style='whitegrid')\n",
    "plt.figure(figsize=(10,6))\n",
    "ax = sns.barplot(x='Rating',y='Supplier',data=top_5_by_rating,palette='viridis')\n",
    "for p in ax.patches:\n",
    "    width = p.get_width()\n",
    "    plt.text(width+0.1,\n",
    "             p.get_y()+p.get_height()/2,\n",
    "             f'{float(width)}',\n",
    "             va='center')\n",
    "plt.title('Top 5 Suppliers By Highest Rated Products')\n",
    "plt.xlabel('Maximum Rating')\n",
    "plt.ylabel('Supplier')\n",
    "plt.show    "
   ]
  },
  {
   "cell_type": "markdown",
   "metadata": {},
   "source": [
    "## Feature Keywords Analysis"
   ]
  },
  {
   "cell_type": "markdown",
   "metadata": {},
   "source": [
    "#### Top 50 Keywords"
   ]
  },
  {
   "cell_type": "code",
   "execution_count": 49,
   "metadata": {},
   "outputs": [
    {
     "name": "stderr",
     "output_type": "stream",
     "text": [
      "[nltk_data] Downloading package stopwords to\n",
      "[nltk_data]     /Users/hydermac/nltk_data...\n",
      "[nltk_data]   Package stopwords is already up-to-date!\n"
     ]
    }
   ],
   "source": [
    "# Extract Matching Keywords\n",
    "nltk.download('stopwords')\n",
    "stop_words = set(stopwords.words('english'))\n",
    "def extract_words(text):\n",
    "    text = text.translate(str.maketrans(\"\",\"\",string.punctuation)).lower()\n",
    "    words = text.split()\n",
    "    words = [word for word in words if word not in stop_words]\n",
    "    return words\n",
    "all_keyword = []\n",
    "for feature in df['Features']:\n",
    "    all_keyword.extend(extract_words(feature))\n",
    "keyword_freq = Counter(all_keyword)\n",
    "keyword_df = pd.DataFrame(keyword_freq.most_common(),columns=['Keywords','Frequency']).head(50)\n"
   ]
  },
  {
   "cell_type": "code",
   "execution_count": 10,
   "metadata": {},
   "outputs": [
    {
     "data": {
      "image/png": "[encoded data removed]",
      "text/plain": [
       "<Figure size 1000x500 with 1 Axes>"
      ]
     },
     "metadata": {},
     "output_type": "display_data"
    }
   ],
   "source": [
    "word_cloud = WordCloud(width=800,height=400,background_color='white').generate_from_frequencies(keyword_freq)\n",
    "plt.figure(figsize=(10,5))\n",
    "plt.imshow(word_cloud,interpolation='bilinear')\n",
    "plt.axis('off')\n",
    "plt.title('Frequently Mentioned Keyword in Features')\n",
    "plt.show()"
   ]
  },
  {
   "cell_type": "markdown",
   "metadata": {},
   "source": [
    "### Feature Rating Correlation"
   ]
  },
  {
   "cell_type": "code",
   "execution_count": 75,
   "metadata": {},
   "outputs": [],
   "source": [
    "keyword_df = keyword_df.head(25)\n",
    "new_df = df\n",
    "for keyword in keyword_df['Keywords']:\n",
    "    new_df[keyword] = new_df['Features'].apply(lambda x: 1 if keyword in x.lower() else 0)\n",
    "numeric_df = new_df.drop(columns=['ASIN','Name','Price','Features','Image','Supplier','Supplier_url'])\n",
    "correlation_df = numeric_df.corr()['Rating'].drop('Rating').reset_index()\n",
    "correlation_df.columns = ['Keyword','Correlation']\n",
    "correlation_df['Abs_Correlation'] = correlation_df['Correlation'].abs()\n",
    "correlation_df = correlation_df.sort_values(by='Abs_Correlation',ascending=False)\n"
   ]
  },
  {
   "cell_type": "code",
   "execution_count": 76,
   "metadata": {},
   "outputs": [
    {
     "name": "stderr",
     "output_type": "stream",
     "text": [
      "/var/folders/6k/9lcwl8q960scjdl32lqz8h_80000gn/T/ipykernel_82399/511607957.py:2: FutureWarning: \n",
      "\n",
      "Passing `palette` without assigning `hue` is deprecated and will be removed in v0.14.0. Assign the `y` variable to `hue` and set `legend=False` for the same effect.\n",
      "\n",
      "  sns.barplot(x='Correlation',y='Keyword',data=correlation_df,palette='coolwarm')\n"
     ]
    },
    {
     "data": {
      "image/png": "[encoded data removed]",
      "text/plain": [
       "<Figure size 1000x600 with 1 Axes>"
      ]
     },
     "metadata": {},
     "output_type": "display_data"
    }
   ],
   "source": [
    "plt.figure(figsize=(10,6))\n",
    "sns.barplot(x='Correlation',y='Keyword',data=correlation_df,palette='coolwarm')\n",
    "plt.title('Correlation Between Features and Rating')\n",
    "plt.xlabel('Correlation')\n",
    "plt.ylabel('Keyword')\n",
    "plt.show()"
   ]
  },
  {
   "cell_type": "code",
   "execution_count": 66,
   "metadata": {},
   "outputs": [
    {
     "data": {
      "image/png": "[encoded data removed]",
      "text/plain": [
       "<Figure size 1000x600 with 1 Axes>"
      ]
     },
     "metadata": {},
     "output_type": "display_data"
    }
   ],
   "source": [
    "#Average Rating Distribution\n",
    "plt.figure(figsize=(10,6))\n",
    "sns.histplot(df['Rating'],bins=10,kde=True,color='blue')\n",
    "plt.title('Distribution of Average Rating')\n",
    "plt.xlabel('Rating')\n",
    "plt.ylabel('Frequency')\n",
    "plt.show()"
   ]
  },
  {
   "cell_type": "markdown",
   "metadata": {},
   "source": [
    "### Identify Products with High Reviews but Low Ratings"
   ]
  },
  {
   "cell_type": "code",
   "execution_count": 85,
   "metadata": {},
   "outputs": [
    {
     "data": {
      "text/html": [
       "<div>\n",
       "<style scoped>\n",
       "    .dataframe tbody tr th:only-of-type {\n",
       "        vertical-align: middle;\n",
       "    }\n",
       "\n",
       "    .dataframe tbody tr th {\n",
       "        vertical-align: top;\n",
       "    }\n",
       "\n",
       "    .dataframe thead th {\n",
       "        text-align: right;\n",
       "    }\n",
       "</style>\n",
       "<table border=\"1\" class=\"dataframe\">\n",
       "  <thead>\n",
       "    <tr style=\"text-align: right;\">\n",
       "      <th></th>\n",
       "      <th>Unnamed: 0</th>\n",
       "      <th>ASIN</th>\n",
       "      <th>Name</th>\n",
       "      <th>Price</th>\n",
       "      <th>Features</th>\n",
       "      <th>Image</th>\n",
       "      <th>Rating</th>\n",
       "      <th>Reviews</th>\n",
       "      <th>Supplier</th>\n",
       "      <th>Supplier_url</th>\n",
       "      <th>...</th>\n",
       "      <th>mens</th>\n",
       "      <th>clasp</th>\n",
       "      <th>type</th>\n",
       "      <th>sports</th>\n",
       "      <th>movement</th>\n",
       "      <th>resistant</th>\n",
       "      <th>sleep</th>\n",
       "      <th>suitable</th>\n",
       "      <th>waterproof</th>\n",
       "      <th>day</th>\n",
       "    </tr>\n",
       "  </thead>\n",
       "  <tbody>\n",
       "    <tr>\n",
       "      <th>95</th>\n",
       "      <td>95</td>\n",
       "      <td>B07RHYYFSK</td>\n",
       "      <td>MEGALITH Mens Watches Waterproof Digital Milit...</td>\n",
       "      <td>$45.99</td>\n",
       "      <td>\\n\\n  \\nClasp type \\n  \\nBuckle \\n  \\n\\n  \\nIt...</td>\n",
       "      <td>https://m.media-amazon.com/images/I/71epWt+deT...</td>\n",
       "      <td>4.1</td>\n",
       "      <td>4085</td>\n",
       "      <td>MEGALITH Store</td>\n",
       "      <td>https://www.amazon.com/stores/MEGALITH/page/75...</td>\n",
       "      <td>...</td>\n",
       "      <td>0</td>\n",
       "      <td>1</td>\n",
       "      <td>1</td>\n",
       "      <td>0</td>\n",
       "      <td>0</td>\n",
       "      <td>0</td>\n",
       "      <td>0</td>\n",
       "      <td>0</td>\n",
       "      <td>0</td>\n",
       "      <td>0</td>\n",
       "    </tr>\n",
       "    <tr>\n",
       "      <th>199</th>\n",
       "      <td>199</td>\n",
       "      <td>B09J8SKX9G</td>\n",
       "      <td>GRV Smart Watch for iOS and Android Phones (An...</td>\n",
       "      <td>$29.99</td>\n",
       "      <td>【Smart Watch Compatible with iPhone/Android ...</td>\n",
       "      <td>https://m.media-amazon.com/images/I/61uC5wH8-Q...</td>\n",
       "      <td>4.0</td>\n",
       "      <td>21852</td>\n",
       "      <td>GRV Store</td>\n",
       "      <td>https://www.amazon.com/stores/GRV/page/88AD777...</td>\n",
       "      <td>...</td>\n",
       "      <td>1</td>\n",
       "      <td>0</td>\n",
       "      <td>0</td>\n",
       "      <td>1</td>\n",
       "      <td>0</td>\n",
       "      <td>0</td>\n",
       "      <td>1</td>\n",
       "      <td>0</td>\n",
       "      <td>1</td>\n",
       "      <td>1</td>\n",
       "    </tr>\n",
       "    <tr>\n",
       "      <th>222</th>\n",
       "      <td>222</td>\n",
       "      <td>B09J8SKX9G</td>\n",
       "      <td>GRV Smart Watch for iOS and Android Phones (An...</td>\n",
       "      <td>$29.99</td>\n",
       "      <td>【Smart Watch Compatible with iPhone/Android ...</td>\n",
       "      <td>https://m.media-amazon.com/images/I/61uC5wH8-Q...</td>\n",
       "      <td>4.0</td>\n",
       "      <td>21852</td>\n",
       "      <td>GRV Store</td>\n",
       "      <td>https://www.amazon.com/stores/GRV/page/88AD777...</td>\n",
       "      <td>...</td>\n",
       "      <td>1</td>\n",
       "      <td>0</td>\n",
       "      <td>0</td>\n",
       "      <td>1</td>\n",
       "      <td>0</td>\n",
       "      <td>0</td>\n",
       "      <td>1</td>\n",
       "      <td>0</td>\n",
       "      <td>1</td>\n",
       "      <td>1</td>\n",
       "    </tr>\n",
       "    <tr>\n",
       "      <th>256</th>\n",
       "      <td>256</td>\n",
       "      <td>B0C8CHJLH1</td>\n",
       "      <td>RUIMEN Smart Watches for Men Women (Answer/Mak...</td>\n",
       "      <td>$27.99</td>\n",
       "      <td>【Large HD Color Screen &amp; IP68 Waterproof】The...</td>\n",
       "      <td>https://m.media-amazon.com/images/I/61PajHLMfl...</td>\n",
       "      <td>4.1</td>\n",
       "      <td>11182</td>\n",
       "      <td>RUIMEN Store</td>\n",
       "      <td>https://www.amazon.com/stores/RUIMEN/page/849D...</td>\n",
       "      <td>...</td>\n",
       "      <td>0</td>\n",
       "      <td>0</td>\n",
       "      <td>0</td>\n",
       "      <td>1</td>\n",
       "      <td>0</td>\n",
       "      <td>0</td>\n",
       "      <td>1</td>\n",
       "      <td>0</td>\n",
       "      <td>1</td>\n",
       "      <td>0</td>\n",
       "    </tr>\n",
       "    <tr>\n",
       "      <th>264</th>\n",
       "      <td>264</td>\n",
       "      <td>B0BTBX691N</td>\n",
       "      <td>Smart Watch for Men(Answer/Make Call),Alexa Bu...</td>\n",
       "      <td>$77.99</td>\n",
       "      <td>【Make/Answer Call】After connecting to your p...</td>\n",
       "      <td>https://m.media-amazon.com/images/I/61IiAwla6H...</td>\n",
       "      <td>4.1</td>\n",
       "      <td>7145</td>\n",
       "      <td>Woneligo Store</td>\n",
       "      <td>https://www.amazon.com/stores/WoneligoSmartwat...</td>\n",
       "      <td>...</td>\n",
       "      <td>0</td>\n",
       "      <td>0</td>\n",
       "      <td>0</td>\n",
       "      <td>1</td>\n",
       "      <td>0</td>\n",
       "      <td>0</td>\n",
       "      <td>1</td>\n",
       "      <td>0</td>\n",
       "      <td>1</td>\n",
       "      <td>0</td>\n",
       "    </tr>\n",
       "  </tbody>\n",
       "</table>\n",
       "<p>5 rows × 30 columns</p>\n",
       "</div>"
      ],
      "text/plain": [
       "     Unnamed: 0        ASIN  \\\n",
       "95           95  B07RHYYFSK   \n",
       "199         199  B09J8SKX9G   \n",
       "222         222  B09J8SKX9G   \n",
       "256         256  B0C8CHJLH1   \n",
       "264         264  B0BTBX691N   \n",
       "\n",
       "                                                  Name    Price  \\\n",
       "95   MEGALITH Mens Watches Waterproof Digital Milit...   $45.99   \n",
       "199  GRV Smart Watch for iOS and Android Phones (An...   $29.99   \n",
       "222  GRV Smart Watch for iOS and Android Phones (An...   $29.99   \n",
       "256  RUIMEN Smart Watches for Men Women (Answer/Mak...   $27.99   \n",
       "264  Smart Watch for Men(Answer/Make Call),Alexa Bu...   $77.99   \n",
       "\n",
       "                                              Features  \\\n",
       "95   \\n\\n  \\nClasp type \\n  \\nBuckle \\n  \\n\\n  \\nIt...   \n",
       "199    【Smart Watch Compatible with iPhone/Android ...   \n",
       "222    【Smart Watch Compatible with iPhone/Android ...   \n",
       "256    【Large HD Color Screen & IP68 Waterproof】The...   \n",
       "264    【Make/Answer Call】After connecting to your p...   \n",
       "\n",
       "                                                 Image  Rating  Reviews  \\\n",
       "95   https://m.media-amazon.com/images/I/71epWt+deT...     4.1     4085   \n",
       "199  https://m.media-amazon.com/images/I/61uC5wH8-Q...     4.0    21852   \n",
       "222  https://m.media-amazon.com/images/I/61uC5wH8-Q...     4.0    21852   \n",
       "256  https://m.media-amazon.com/images/I/61PajHLMfl...     4.1    11182   \n",
       "264  https://m.media-amazon.com/images/I/61IiAwla6H...     4.1     7145   \n",
       "\n",
       "           Supplier                                       Supplier_url  ...  \\\n",
       "95   MEGALITH Store  https://www.amazon.com/stores/MEGALITH/page/75...  ...   \n",
       "199       GRV Store  https://www.amazon.com/stores/GRV/page/88AD777...  ...   \n",
       "222       GRV Store  https://www.amazon.com/stores/GRV/page/88AD777...  ...   \n",
       "256    RUIMEN Store  https://www.amazon.com/stores/RUIMEN/page/849D...  ...   \n",
       "264  Woneligo Store  https://www.amazon.com/stores/WoneligoSmartwat...  ...   \n",
       "\n",
       "     mens  clasp  type  sports  movement  resistant  sleep  suitable  \\\n",
       "95      0      1     1       0         0          0      0         0   \n",
       "199     1      0     0       1         0          0      1         0   \n",
       "222     1      0     0       1         0          0      1         0   \n",
       "256     0      0     0       1         0          0      1         0   \n",
       "264     0      0     0       1         0          0      1         0   \n",
       "\n",
       "     waterproof  day  \n",
       "95            0    0  \n",
       "199           1    1  \n",
       "222           1    1  \n",
       "256           1    0  \n",
       "264           1    0  \n",
       "\n",
       "[5 rows x 30 columns]"
      ]
     },
     "execution_count": 85,
     "metadata": {},
     "output_type": "execute_result"
    }
   ],
   "source": [
    "high_review_threshold = df['Reviews'].quantile(0.75)\n",
    "low_rating_threshold = df['Rating'].quantile(0.25)\n",
    "dissatisfied_products = df[(df['Reviews']>high_review_threshold) & (df['Rating']<low_rating_threshold)]\n",
    "dissatisfied_products"
   ]
  },
  {
   "cell_type": "markdown",
   "metadata": {},
   "source": [
    "### Highlight Product with Few Reviews But High Ratings"
   ]
  },
  {
   "cell_type": "code",
   "execution_count": 86,
   "metadata": {},
   "outputs": [
    {
     "data": {
      "text/html": [
       "<div>\n",
       "<style scoped>\n",
       "    .dataframe tbody tr th:only-of-type {\n",
       "        vertical-align: middle;\n",
       "    }\n",
       "\n",
       "    .dataframe tbody tr th {\n",
       "        vertical-align: top;\n",
       "    }\n",
       "\n",
       "    .dataframe thead th {\n",
       "        text-align: right;\n",
       "    }\n",
       "</style>\n",
       "<table border=\"1\" class=\"dataframe\">\n",
       "  <thead>\n",
       "    <tr style=\"text-align: right;\">\n",
       "      <th></th>\n",
       "      <th>Unnamed: 0</th>\n",
       "      <th>ASIN</th>\n",
       "      <th>Name</th>\n",
       "      <th>Price</th>\n",
       "      <th>Features</th>\n",
       "      <th>Image</th>\n",
       "      <th>Rating</th>\n",
       "      <th>Reviews</th>\n",
       "      <th>Supplier</th>\n",
       "      <th>Supplier_url</th>\n",
       "      <th>...</th>\n",
       "      <th>mens</th>\n",
       "      <th>clasp</th>\n",
       "      <th>type</th>\n",
       "      <th>sports</th>\n",
       "      <th>movement</th>\n",
       "      <th>resistant</th>\n",
       "      <th>sleep</th>\n",
       "      <th>suitable</th>\n",
       "      <th>waterproof</th>\n",
       "      <th>day</th>\n",
       "    </tr>\n",
       "  </thead>\n",
       "  <tbody>\n",
       "    <tr>\n",
       "      <th>0</th>\n",
       "      <td>0</td>\n",
       "      <td>B0DHZ6CNDL</td>\n",
       "      <td>Military Smart Watch for Men(Answer/Dial Calls...</td>\n",
       "      <td>$72.99</td>\n",
       "      <td>➤【Military Grade】SUNKTA smart watch breaks a...</td>\n",
       "      <td>https://m.media-amazon.com/images/I/71pc1LaYUF...</td>\n",
       "      <td>5.0</td>\n",
       "      <td>6</td>\n",
       "      <td>SUNKTA Store</td>\n",
       "      <td>https://www.amazon.com/stores/SUNKTA/page/5C6D...</td>\n",
       "      <td>...</td>\n",
       "      <td>0</td>\n",
       "      <td>0</td>\n",
       "      <td>0</td>\n",
       "      <td>1</td>\n",
       "      <td>1</td>\n",
       "      <td>1</td>\n",
       "      <td>1</td>\n",
       "      <td>0</td>\n",
       "      <td>1</td>\n",
       "      <td>1</td>\n",
       "    </tr>\n",
       "    <tr>\n",
       "      <th>2</th>\n",
       "      <td>2</td>\n",
       "      <td>B0DK3KQ55X</td>\n",
       "      <td>Pagani Design Watches for Men, 38mm Dial, Stai...</td>\n",
       "      <td>$69.99</td>\n",
       "      <td>\\n\\n  \\nClasp type \\n  \\nPush Button Foldover ...</td>\n",
       "      <td>https://m.media-amazon.com/images/I/71PWwg5nXy...</td>\n",
       "      <td>4.7</td>\n",
       "      <td>11</td>\n",
       "      <td>Orizontime Store</td>\n",
       "      <td>https://www.amazon.com/stores/Orizontime/page/...</td>\n",
       "      <td>...</td>\n",
       "      <td>0</td>\n",
       "      <td>1</td>\n",
       "      <td>1</td>\n",
       "      <td>0</td>\n",
       "      <td>0</td>\n",
       "      <td>0</td>\n",
       "      <td>0</td>\n",
       "      <td>0</td>\n",
       "      <td>0</td>\n",
       "      <td>0</td>\n",
       "    </tr>\n",
       "    <tr>\n",
       "      <th>4</th>\n",
       "      <td>4</td>\n",
       "      <td>B07JZFQQYL</td>\n",
       "      <td>Invicta Mens Pro Diver Quartz Watch, Black, 28001</td>\n",
       "      <td>$64.90</td>\n",
       "      <td>Black dial, Black silicone band 50mm stainles...</td>\n",
       "      <td>https://m.media-amazon.com/images/I/7135J0dg1g...</td>\n",
       "      <td>4.7</td>\n",
       "      <td>50</td>\n",
       "      <td>Invicta Store</td>\n",
       "      <td>https://www.amazon.com/stores/InvictaStores/pa...</td>\n",
       "      <td>...</td>\n",
       "      <td>0</td>\n",
       "      <td>0</td>\n",
       "      <td>0</td>\n",
       "      <td>0</td>\n",
       "      <td>0</td>\n",
       "      <td>1</td>\n",
       "      <td>0</td>\n",
       "      <td>0</td>\n",
       "      <td>0</td>\n",
       "      <td>1</td>\n",
       "    </tr>\n",
       "    <tr>\n",
       "      <th>17</th>\n",
       "      <td>17</td>\n",
       "      <td>B0DFQJF45P</td>\n",
       "      <td>Timex Men's Legacy 41mm Watch - Stainless Stee...</td>\n",
       "      <td>$122.10</td>\n",
       "      <td>41mmmm stainless steel case 8 inch black two-...</td>\n",
       "      <td>https://m.media-amazon.com/images/I/71fqZIZGGq...</td>\n",
       "      <td>4.7</td>\n",
       "      <td>32</td>\n",
       "      <td>Timex Store</td>\n",
       "      <td>https://www.amazon.com/stores/Timex/page/4619E...</td>\n",
       "      <td>...</td>\n",
       "      <td>0</td>\n",
       "      <td>0</td>\n",
       "      <td>0</td>\n",
       "      <td>0</td>\n",
       "      <td>0</td>\n",
       "      <td>1</td>\n",
       "      <td>0</td>\n",
       "      <td>0</td>\n",
       "      <td>0</td>\n",
       "      <td>0</td>\n",
       "    </tr>\n",
       "    <tr>\n",
       "      <th>31</th>\n",
       "      <td>31</td>\n",
       "      <td>B0DHZ6CNDL</td>\n",
       "      <td>Military Smart Watch for Men(Answer/Dial Calls...</td>\n",
       "      <td>$72.99</td>\n",
       "      <td>➤【Military Grade】SUNKTA smart watch breaks a...</td>\n",
       "      <td>https://m.media-amazon.com/images/I/71pc1LaYUF...</td>\n",
       "      <td>5.0</td>\n",
       "      <td>6</td>\n",
       "      <td>SUNKTA Store</td>\n",
       "      <td>https://www.amazon.com/stores/SUNKTA/page/5C6D...</td>\n",
       "      <td>...</td>\n",
       "      <td>0</td>\n",
       "      <td>0</td>\n",
       "      <td>0</td>\n",
       "      <td>1</td>\n",
       "      <td>1</td>\n",
       "      <td>1</td>\n",
       "      <td>1</td>\n",
       "      <td>0</td>\n",
       "      <td>1</td>\n",
       "      <td>1</td>\n",
       "    </tr>\n",
       "    <tr>\n",
       "      <th>32</th>\n",
       "      <td>32</td>\n",
       "      <td>B0DK3N3ZVL</td>\n",
       "      <td>Pagani Design Watches for Men, 38mm Dial, Stai...</td>\n",
       "      <td>$63.99</td>\n",
       "      <td>Janpan TMI VH31 movement: The vh31 is a quart...</td>\n",
       "      <td>https://m.media-amazon.com/images/I/81qi0ySKai...</td>\n",
       "      <td>4.7</td>\n",
       "      <td>11</td>\n",
       "      <td>Orizontime Store</td>\n",
       "      <td>https://www.amazon.com/stores/Orizontime/page/...</td>\n",
       "      <td>...</td>\n",
       "      <td>0</td>\n",
       "      <td>0</td>\n",
       "      <td>0</td>\n",
       "      <td>0</td>\n",
       "      <td>1</td>\n",
       "      <td>1</td>\n",
       "      <td>0</td>\n",
       "      <td>0</td>\n",
       "      <td>1</td>\n",
       "      <td>0</td>\n",
       "    </tr>\n",
       "    <tr>\n",
       "      <th>88</th>\n",
       "      <td>88</td>\n",
       "      <td>B0DHZ6CNDL</td>\n",
       "      <td>Military Smart Watch for Men(Answer/Dial Calls...</td>\n",
       "      <td>$72.99</td>\n",
       "      <td>➤【Military Grade】SUNKTA smart watch breaks a...</td>\n",
       "      <td>https://m.media-amazon.com/images/I/71pc1LaYUF...</td>\n",
       "      <td>5.0</td>\n",
       "      <td>6</td>\n",
       "      <td>SUNKTA Store</td>\n",
       "      <td>https://www.amazon.com/stores/SUNKTA/page/5C6D...</td>\n",
       "      <td>...</td>\n",
       "      <td>0</td>\n",
       "      <td>0</td>\n",
       "      <td>0</td>\n",
       "      <td>1</td>\n",
       "      <td>1</td>\n",
       "      <td>1</td>\n",
       "      <td>1</td>\n",
       "      <td>0</td>\n",
       "      <td>1</td>\n",
       "      <td>1</td>\n",
       "    </tr>\n",
       "    <tr>\n",
       "      <th>101</th>\n",
       "      <td>101</td>\n",
       "      <td>B0DGKX2PD6</td>\n",
       "      <td>OUPINKE Watch for Men Automatic Wristwatch Sap...</td>\n",
       "      <td>$368.00</td>\n",
       "      <td>\\n\\n  \\nClasp type \\n  \\nDeployment Clasp \\n  ...</td>\n",
       "      <td>https://m.media-amazon.com/images/I/71zyJZ+-0z...</td>\n",
       "      <td>5.0</td>\n",
       "      <td>6</td>\n",
       "      <td>OUPINKE Store</td>\n",
       "      <td>https://www.amazon.com/stores/OUPINKE/page/F91...</td>\n",
       "      <td>...</td>\n",
       "      <td>0</td>\n",
       "      <td>1</td>\n",
       "      <td>1</td>\n",
       "      <td>0</td>\n",
       "      <td>0</td>\n",
       "      <td>0</td>\n",
       "      <td>0</td>\n",
       "      <td>0</td>\n",
       "      <td>0</td>\n",
       "      <td>0</td>\n",
       "    </tr>\n",
       "    <tr>\n",
       "      <th>139</th>\n",
       "      <td>139</td>\n",
       "      <td>B0D3QZQVLJ</td>\n",
       "      <td>Invicta Racing Men 52mm Plastic Black Black di...</td>\n",
       "      <td>$39.90</td>\n",
       "      <td>Case Size and Tone: 52mm, Black Movement Type...</td>\n",
       "      <td>https://m.media-amazon.com/images/I/71Fgbr+AnX...</td>\n",
       "      <td>4.9</td>\n",
       "      <td>24</td>\n",
       "      <td>Invicta Store</td>\n",
       "      <td>https://www.amazon.com/stores/InvictaWatches/p...</td>\n",
       "      <td>...</td>\n",
       "      <td>0</td>\n",
       "      <td>1</td>\n",
       "      <td>1</td>\n",
       "      <td>0</td>\n",
       "      <td>1</td>\n",
       "      <td>1</td>\n",
       "      <td>0</td>\n",
       "      <td>0</td>\n",
       "      <td>0</td>\n",
       "      <td>0</td>\n",
       "    </tr>\n",
       "    <tr>\n",
       "      <th>169</th>\n",
       "      <td>169</td>\n",
       "      <td>B0DHZ6CNDL</td>\n",
       "      <td>Military Smart Watch for Men(Answer/Dial Calls...</td>\n",
       "      <td>$72.99</td>\n",
       "      <td>➤【Military Grade】SUNKTA smart watch breaks a...</td>\n",
       "      <td>https://m.media-amazon.com/images/I/71pc1LaYUF...</td>\n",
       "      <td>5.0</td>\n",
       "      <td>6</td>\n",
       "      <td>SUNKTA Store</td>\n",
       "      <td>https://www.amazon.com/stores/SUNKTA/page/5C6D...</td>\n",
       "      <td>...</td>\n",
       "      <td>0</td>\n",
       "      <td>0</td>\n",
       "      <td>0</td>\n",
       "      <td>1</td>\n",
       "      <td>1</td>\n",
       "      <td>1</td>\n",
       "      <td>1</td>\n",
       "      <td>0</td>\n",
       "      <td>1</td>\n",
       "      <td>1</td>\n",
       "    </tr>\n",
       "    <tr>\n",
       "      <th>180</th>\n",
       "      <td>180</td>\n",
       "      <td>B07MQWCNHB</td>\n",
       "      <td>Citizen Men's Eco-Drive Weekender 3-Hand Date ...</td>\n",
       "      <td>$210.95</td>\n",
       "      <td>Men's luxury timepieces with technical advanc...</td>\n",
       "      <td>https://m.media-amazon.com/images/I/81bEPa4mUj...</td>\n",
       "      <td>4.7</td>\n",
       "      <td>287</td>\n",
       "      <td>Citizen Store</td>\n",
       "      <td>https://www.amazon.com/stores/Citizen/page/25B...</td>\n",
       "      <td>...</td>\n",
       "      <td>0</td>\n",
       "      <td>0</td>\n",
       "      <td>0</td>\n",
       "      <td>0</td>\n",
       "      <td>0</td>\n",
       "      <td>1</td>\n",
       "      <td>0</td>\n",
       "      <td>0</td>\n",
       "      <td>0</td>\n",
       "      <td>0</td>\n",
       "    </tr>\n",
       "    <tr>\n",
       "      <th>207</th>\n",
       "      <td>207</td>\n",
       "      <td>B0DHZ6CNDL</td>\n",
       "      <td>Military Smart Watch for Men(Answer/Dial Calls...</td>\n",
       "      <td>$72.99</td>\n",
       "      <td>➤【Military Grade】SUNKTA smart watch breaks a...</td>\n",
       "      <td>https://m.media-amazon.com/images/I/71pc1LaYUF...</td>\n",
       "      <td>5.0</td>\n",
       "      <td>6</td>\n",
       "      <td>SUNKTA Store</td>\n",
       "      <td>https://www.amazon.com/stores/SUNKTA/page/5C6D...</td>\n",
       "      <td>...</td>\n",
       "      <td>0</td>\n",
       "      <td>0</td>\n",
       "      <td>0</td>\n",
       "      <td>1</td>\n",
       "      <td>1</td>\n",
       "      <td>1</td>\n",
       "      <td>1</td>\n",
       "      <td>0</td>\n",
       "      <td>1</td>\n",
       "      <td>1</td>\n",
       "    </tr>\n",
       "    <tr>\n",
       "      <th>233</th>\n",
       "      <td>233</td>\n",
       "      <td>B0DGKX2PD6</td>\n",
       "      <td>OUPINKE Watch for Men Automatic Wristwatch Sap...</td>\n",
       "      <td>$368.00</td>\n",
       "      <td>\\n\\n  \\nClasp type \\n  \\nDeployment Clasp \\n  ...</td>\n",
       "      <td>https://m.media-amazon.com/images/I/71zyJZ+-0z...</td>\n",
       "      <td>5.0</td>\n",
       "      <td>6</td>\n",
       "      <td>OUPINKE Store</td>\n",
       "      <td>https://www.amazon.com/stores/OUPINKE/page/F91...</td>\n",
       "      <td>...</td>\n",
       "      <td>0</td>\n",
       "      <td>1</td>\n",
       "      <td>1</td>\n",
       "      <td>0</td>\n",
       "      <td>0</td>\n",
       "      <td>0</td>\n",
       "      <td>0</td>\n",
       "      <td>0</td>\n",
       "      <td>0</td>\n",
       "      <td>0</td>\n",
       "    </tr>\n",
       "    <tr>\n",
       "      <th>242</th>\n",
       "      <td>242</td>\n",
       "      <td>B0D3QZQVLJ</td>\n",
       "      <td>Invicta Racing Men 52mm Plastic Black Black di...</td>\n",
       "      <td>$39.90</td>\n",
       "      <td>Case Size and Tone: 52mm, Black Movement Type...</td>\n",
       "      <td>https://m.media-amazon.com/images/I/71Fgbr+AnX...</td>\n",
       "      <td>4.9</td>\n",
       "      <td>24</td>\n",
       "      <td>Invicta Store</td>\n",
       "      <td>https://www.amazon.com/stores/InvictaWatches/p...</td>\n",
       "      <td>...</td>\n",
       "      <td>0</td>\n",
       "      <td>1</td>\n",
       "      <td>1</td>\n",
       "      <td>0</td>\n",
       "      <td>1</td>\n",
       "      <td>1</td>\n",
       "      <td>0</td>\n",
       "      <td>0</td>\n",
       "      <td>0</td>\n",
       "      <td>0</td>\n",
       "    </tr>\n",
       "    <tr>\n",
       "      <th>257</th>\n",
       "      <td>257</td>\n",
       "      <td>B0D5ZNGJQS</td>\n",
       "      <td>TIMEX Men's IRONMAN Classic 30 38mm Watch</td>\n",
       "      <td>$44.63</td>\n",
       "      <td>38mm black case 8 inch black strap digital di...</td>\n",
       "      <td>https://m.media-amazon.com/images/I/719UDn1895...</td>\n",
       "      <td>4.7</td>\n",
       "      <td>4</td>\n",
       "      <td>Timex Store</td>\n",
       "      <td>https://www.amazon.com/stores/Timex/page/4619E...</td>\n",
       "      <td>...</td>\n",
       "      <td>0</td>\n",
       "      <td>0</td>\n",
       "      <td>0</td>\n",
       "      <td>0</td>\n",
       "      <td>0</td>\n",
       "      <td>1</td>\n",
       "      <td>0</td>\n",
       "      <td>0</td>\n",
       "      <td>0</td>\n",
       "      <td>0</td>\n",
       "    </tr>\n",
       "  </tbody>\n",
       "</table>\n",
       "<p>15 rows × 30 columns</p>\n",
       "</div>"
      ],
      "text/plain": [
       "     Unnamed: 0        ASIN  \\\n",
       "0             0  B0DHZ6CNDL   \n",
       "2             2  B0DK3KQ55X   \n",
       "4             4  B07JZFQQYL   \n",
       "17           17  B0DFQJF45P   \n",
       "31           31  B0DHZ6CNDL   \n",
       "32           32  B0DK3N3ZVL   \n",
       "88           88  B0DHZ6CNDL   \n",
       "101         101  B0DGKX2PD6   \n",
       "139         139  B0D3QZQVLJ   \n",
       "169         169  B0DHZ6CNDL   \n",
       "180         180  B07MQWCNHB   \n",
       "207         207  B0DHZ6CNDL   \n",
       "233         233  B0DGKX2PD6   \n",
       "242         242  B0D3QZQVLJ   \n",
       "257         257  B0D5ZNGJQS   \n",
       "\n",
       "                                                  Name     Price  \\\n",
       "0    Military Smart Watch for Men(Answer/Dial Calls...    $72.99   \n",
       "2    Pagani Design Watches for Men, 38mm Dial, Stai...    $69.99   \n",
       "4    Invicta Mens Pro Diver Quartz Watch, Black, 28001    $64.90   \n",
       "17   Timex Men's Legacy 41mm Watch - Stainless Stee...   $122.10   \n",
       "31   Military Smart Watch for Men(Answer/Dial Calls...    $72.99   \n",
       "32   Pagani Design Watches for Men, 38mm Dial, Stai...    $63.99   \n",
       "88   Military Smart Watch for Men(Answer/Dial Calls...    $72.99   \n",
       "101  OUPINKE Watch for Men Automatic Wristwatch Sap...   $368.00   \n",
       "139  Invicta Racing Men 52mm Plastic Black Black di...    $39.90   \n",
       "169  Military Smart Watch for Men(Answer/Dial Calls...    $72.99   \n",
       "180  Citizen Men's Eco-Drive Weekender 3-Hand Date ...   $210.95   \n",
       "207  Military Smart Watch for Men(Answer/Dial Calls...    $72.99   \n",
       "233  OUPINKE Watch for Men Automatic Wristwatch Sap...   $368.00   \n",
       "242  Invicta Racing Men 52mm Plastic Black Black di...    $39.90   \n",
       "257          TIMEX Men's IRONMAN Classic 30 38mm Watch    $44.63   \n",
       "\n",
       "                                              Features  \\\n",
       "0      ➤【Military Grade】SUNKTA smart watch breaks a...   \n",
       "2    \\n\\n  \\nClasp type \\n  \\nPush Button Foldover ...   \n",
       "4     Black dial, Black silicone band 50mm stainles...   \n",
       "17    41mmmm stainless steel case 8 inch black two-...   \n",
       "31     ➤【Military Grade】SUNKTA smart watch breaks a...   \n",
       "32    Janpan TMI VH31 movement: The vh31 is a quart...   \n",
       "88     ➤【Military Grade】SUNKTA smart watch breaks a...   \n",
       "101  \\n\\n  \\nClasp type \\n  \\nDeployment Clasp \\n  ...   \n",
       "139   Case Size and Tone: 52mm, Black Movement Type...   \n",
       "169    ➤【Military Grade】SUNKTA smart watch breaks a...   \n",
       "180   Men's luxury timepieces with technical advanc...   \n",
       "207    ➤【Military Grade】SUNKTA smart watch breaks a...   \n",
       "233  \\n\\n  \\nClasp type \\n  \\nDeployment Clasp \\n  ...   \n",
       "242   Case Size and Tone: 52mm, Black Movement Type...   \n",
       "257   38mm black case 8 inch black strap digital di...   \n",
       "\n",
       "                                                 Image  Rating  Reviews  \\\n",
       "0    https://m.media-amazon.com/images/I/71pc1LaYUF...     5.0        6   \n",
       "2    https://m.media-amazon.com/images/I/71PWwg5nXy...     4.7       11   \n",
       "4    https://m.media-amazon.com/images/I/7135J0dg1g...     4.7       50   \n",
       "17   https://m.media-amazon.com/images/I/71fqZIZGGq...     4.7       32   \n",
       "31   https://m.media-amazon.com/images/I/71pc1LaYUF...     5.0        6   \n",
       "32   https://m.media-amazon.com/images/I/81qi0ySKai...     4.7       11   \n",
       "88   https://m.media-amazon.com/images/I/71pc1LaYUF...     5.0        6   \n",
       "101  https://m.media-amazon.com/images/I/71zyJZ+-0z...     5.0        6   \n",
       "139  https://m.media-amazon.com/images/I/71Fgbr+AnX...     4.9       24   \n",
       "169  https://m.media-amazon.com/images/I/71pc1LaYUF...     5.0        6   \n",
       "180  https://m.media-amazon.com/images/I/81bEPa4mUj...     4.7      287   \n",
       "207  https://m.media-amazon.com/images/I/71pc1LaYUF...     5.0        6   \n",
       "233  https://m.media-amazon.com/images/I/71zyJZ+-0z...     5.0        6   \n",
       "242  https://m.media-amazon.com/images/I/71Fgbr+AnX...     4.9       24   \n",
       "257  https://m.media-amazon.com/images/I/719UDn1895...     4.7        4   \n",
       "\n",
       "             Supplier                                       Supplier_url  ...  \\\n",
       "0        SUNKTA Store  https://www.amazon.com/stores/SUNKTA/page/5C6D...  ...   \n",
       "2    Orizontime Store  https://www.amazon.com/stores/Orizontime/page/...  ...   \n",
       "4       Invicta Store  https://www.amazon.com/stores/InvictaStores/pa...  ...   \n",
       "17        Timex Store  https://www.amazon.com/stores/Timex/page/4619E...  ...   \n",
       "31       SUNKTA Store  https://www.amazon.com/stores/SUNKTA/page/5C6D...  ...   \n",
       "32   Orizontime Store  https://www.amazon.com/stores/Orizontime/page/...  ...   \n",
       "88       SUNKTA Store  https://www.amazon.com/stores/SUNKTA/page/5C6D...  ...   \n",
       "101     OUPINKE Store  https://www.amazon.com/stores/OUPINKE/page/F91...  ...   \n",
       "139     Invicta Store  https://www.amazon.com/stores/InvictaWatches/p...  ...   \n",
       "169      SUNKTA Store  https://www.amazon.com/stores/SUNKTA/page/5C6D...  ...   \n",
       "180     Citizen Store  https://www.amazon.com/stores/Citizen/page/25B...  ...   \n",
       "207      SUNKTA Store  https://www.amazon.com/stores/SUNKTA/page/5C6D...  ...   \n",
       "233     OUPINKE Store  https://www.amazon.com/stores/OUPINKE/page/F91...  ...   \n",
       "242     Invicta Store  https://www.amazon.com/stores/InvictaWatches/p...  ...   \n",
       "257       Timex Store  https://www.amazon.com/stores/Timex/page/4619E...  ...   \n",
       "\n",
       "     mens  clasp  type  sports  movement  resistant  sleep  suitable  \\\n",
       "0       0      0     0       1         1          1      1         0   \n",
       "2       0      1     1       0         0          0      0         0   \n",
       "4       0      0     0       0         0          1      0         0   \n",
       "17      0      0     0       0         0          1      0         0   \n",
       "31      0      0     0       1         1          1      1         0   \n",
       "32      0      0     0       0         1          1      0         0   \n",
       "88      0      0     0       1         1          1      1         0   \n",
       "101     0      1     1       0         0          0      0         0   \n",
       "139     0      1     1       0         1          1      0         0   \n",
       "169     0      0     0       1         1          1      1         0   \n",
       "180     0      0     0       0         0          1      0         0   \n",
       "207     0      0     0       1         1          1      1         0   \n",
       "233     0      1     1       0         0          0      0         0   \n",
       "242     0      1     1       0         1          1      0         0   \n",
       "257     0      0     0       0         0          1      0         0   \n",
       "\n",
       "     waterproof  day  \n",
       "0             1    1  \n",
       "2             0    0  \n",
       "4             0    1  \n",
       "17            0    0  \n",
       "31            1    1  \n",
       "32            1    0  \n",
       "88            1    1  \n",
       "101           0    0  \n",
       "139           0    0  \n",
       "169           1    1  \n",
       "180           0    0  \n",
       "207           1    1  \n",
       "233           0    0  \n",
       "242           0    0  \n",
       "257           0    0  \n",
       "\n",
       "[15 rows x 30 columns]"
      ]
     },
     "execution_count": 86,
     "metadata": {},
     "output_type": "execute_result"
    }
   ],
   "source": [
    "few_reviews_threshold = df['Reviews'].quantile(0.25)\n",
    "high_rating_threshold = df['Rating'].quantile(0.75)\n",
    "hidden_gem = df[(df['Reviews'] < few_reviews_threshold) & (df['Rating'] > high_rating_threshold)]\n",
    "hidden_gem"
   ]
  },
  {
   "cell_type": "code",
   "execution_count": 95,
   "metadata": {},
   "outputs": [
    {
     "data": {
      "image/png": "[encoded data removed]",
      "text/plain": [
       "<Figure size 1000x600 with 1 Axes>"
      ]
     },
     "metadata": {},
     "output_type": "display_data"
    }
   ],
   "source": [
    "# Scatter plot: Reviews vs. Ratings\n",
    "plt.figure(figsize=(10, 6))\n",
    "sns.scatterplot(x='Reviews', y='Rating', data=df, hue='ASIN', s=100, palette='viridis',alpha=0.7,legend=False)\n",
    "plt.axhline(y=low_rating_threshold, color='red', linestyle='--', label='Low Rating Threshold')\n",
    "plt.axhline(y=high_rating_threshold, color='green', linestyle='--', label='High Rating Threshold')\n",
    "plt.axvline(x=high_review_threshold, color='orange', linestyle='--', label='High Review Threshold')\n",
    "plt.axvline(x=few_reviews_threshold, color='purple', linestyle='--', label='Few Review Threshold')\n",
    "plt.title('Review Trends: Reviews vs. Ratings')\n",
    "plt.xlabel('Number of Reviews')\n",
    "plt.ylabel('Rating')\n",
    "plt.tight_layout()  # Adjust layout to prevent overlap\n",
    "plt.show()"
   ]
  },
  {
   "cell_type": "code",
   "execution_count": 5,
   "metadata": {},
   "outputs": [
    {
     "data": {
      "text/html": [
       "<div>\n",
       "<style scoped>\n",
       "    .dataframe tbody tr th:only-of-type {\n",
       "        vertical-align: middle;\n",
       "    }\n",
       "\n",
       "    .dataframe tbody tr th {\n",
       "        vertical-align: top;\n",
       "    }\n",
       "\n",
       "    .dataframe thead th {\n",
       "        text-align: right;\n",
       "    }\n",
       "</style>\n",
       "<table border=\"1\" class=\"dataframe\">\n",
       "  <thead>\n",
       "    <tr style=\"text-align: right;\">\n",
       "      <th></th>\n",
       "      <th>Unnamed: 0</th>\n",
       "      <th>ASIN</th>\n",
       "      <th>Name</th>\n",
       "      <th>Price</th>\n",
       "      <th>Features</th>\n",
       "      <th>Image</th>\n",
       "      <th>Rating</th>\n",
       "      <th>Reviews</th>\n",
       "      <th>Supplier</th>\n",
       "      <th>Supplier_url</th>\n",
       "    </tr>\n",
       "  </thead>\n",
       "  <tbody>\n",
       "    <tr>\n",
       "      <th>27</th>\n",
       "      <td>27</td>\n",
       "      <td>B0DBHWQ58D</td>\n",
       "      <td>Motorola Moto Watch 120 - Premium Smartwatch f...</td>\n",
       "      <td>129.97</td>\n",
       "      <td>Long Battery Life - Unleash your potential w...</td>\n",
       "      <td>https://m.media-amazon.com/images/I/510fsAqx4v...</td>\n",
       "      <td>4.1</td>\n",
       "      <td>144</td>\n",
       "      <td>Motorola</td>\n",
       "      <td>https://www.amazon.com/Motorola/b/ref=bl_dp_s_...</td>\n",
       "    </tr>\n",
       "    <tr>\n",
       "      <th>89</th>\n",
       "      <td>89</td>\n",
       "      <td>B0CT4VCLW5</td>\n",
       "      <td>Men's Smart Watch Round HD 1.53\" Gold Blue Sma...</td>\n",
       "      <td>79.00</td>\n",
       "      <td>OHUGNA Smart Watch for men: The OHUGNA men's...</td>\n",
       "      <td>https://m.media-amazon.com/images/I/71qk-M-J3Z...</td>\n",
       "      <td>4.1</td>\n",
       "      <td>135</td>\n",
       "      <td>OHUGNA Store</td>\n",
       "      <td>https://www.amazon.com/stores/OHUGNA/page/9DD7...</td>\n",
       "    </tr>\n",
       "    <tr>\n",
       "      <th>218</th>\n",
       "      <td>218</td>\n",
       "      <td>B00189VBSM</td>\n",
       "      <td>SEIKO Men's Watches 5 SNKE03-4</td>\n",
       "      <td>130.99</td>\n",
       "      <td>Case Width: 1.4 inches (36 mm) Wrist Circumfe...</td>\n",
       "      <td>https://m.media-amazon.com/images/I/611juWDOc-...</td>\n",
       "      <td>3.9</td>\n",
       "      <td>1155</td>\n",
       "      <td>SEIKO Store</td>\n",
       "      <td>https://www.amazon.com/stores/Seiko/page/45C89...</td>\n",
       "    </tr>\n",
       "    <tr>\n",
       "      <th>254</th>\n",
       "      <td>254</td>\n",
       "      <td>B0D4RDHLQN</td>\n",
       "      <td>Perry Ellis Solar Powered Mens Watch | Vegan L...</td>\n",
       "      <td>79.99</td>\n",
       "      <td>\\n\\n  \\nClasp type \\n  \\nTang Buckle \\n  \\n\\n ...</td>\n",
       "      <td>https://m.media-amazon.com/images/I/612LtO+O9k...</td>\n",
       "      <td>4.0</td>\n",
       "      <td>25</td>\n",
       "      <td>Perry Ellis Store</td>\n",
       "      <td>https://www.amazon.com/stores/PerryEllis/page/...</td>\n",
       "    </tr>\n",
       "  </tbody>\n",
       "</table>\n",
       "</div>"
      ],
      "text/plain": [
       "     Unnamed: 0        ASIN  \\\n",
       "27           27  B0DBHWQ58D   \n",
       "89           89  B0CT4VCLW5   \n",
       "218         218  B00189VBSM   \n",
       "254         254  B0D4RDHLQN   \n",
       "\n",
       "                                                  Name   Price  \\\n",
       "27   Motorola Moto Watch 120 - Premium Smartwatch f...  129.97   \n",
       "89   Men's Smart Watch Round HD 1.53\" Gold Blue Sma...   79.00   \n",
       "218                     SEIKO Men's Watches 5 SNKE03-4  130.99   \n",
       "254  Perry Ellis Solar Powered Mens Watch | Vegan L...   79.99   \n",
       "\n",
       "                                              Features  \\\n",
       "27     Long Battery Life - Unleash your potential w...   \n",
       "89     OHUGNA Smart Watch for men: The OHUGNA men's...   \n",
       "218   Case Width: 1.4 inches (36 mm) Wrist Circumfe...   \n",
       "254  \\n\\n  \\nClasp type \\n  \\nTang Buckle \\n  \\n\\n ...   \n",
       "\n",
       "                                                 Image  Rating  Reviews  \\\n",
       "27   https://m.media-amazon.com/images/I/510fsAqx4v...     4.1      144   \n",
       "89   https://m.media-amazon.com/images/I/71qk-M-J3Z...     4.1      135   \n",
       "218  https://m.media-amazon.com/images/I/611juWDOc-...     3.9     1155   \n",
       "254  https://m.media-amazon.com/images/I/612LtO+O9k...     4.0       25   \n",
       "\n",
       "              Supplier                                       Supplier_url  \n",
       "27            Motorola  https://www.amazon.com/Motorola/b/ref=bl_dp_s_...  \n",
       "89        OHUGNA Store  https://www.amazon.com/stores/OHUGNA/page/9DD7...  \n",
       "218        SEIKO Store  https://www.amazon.com/stores/Seiko/page/45C89...  \n",
       "254  Perry Ellis Store  https://www.amazon.com/stores/PerryEllis/page/...  "
      ]
     },
     "execution_count": 5,
     "metadata": {},
     "output_type": "execute_result"
    }
   ],
   "source": [
    "low_price_threshold = df['Price'].quantile(0.25)\n",
    "high_price_threshold = df['Price'].quantile(0.75)\n",
    "low_rating_threshold = df['Rating'].quantile(0.25)\n",
    "high_rating_threshold = df['Rating'].quantile(0.75)\n",
    "value_for_money = df[(df['Price']<low_price_threshold) & (df['Rating']>high_rating_threshold)]\n",
    "overpriced = df[(df['Price']>high_price_threshold) & (df['Rating']<low_rating_threshold)]\n",
    "overpriced"
   ]
  },
  {
   "cell_type": "code",
   "execution_count": 6,
   "metadata": {},
   "outputs": [
    {
     "data": {
      "application/vnd.plotly.v1+json": {
       "config": {
        "plotlyServerURL": "https://plot.ly"
       },
       "data": [
        {
         "hovertemplate": "<b>%{hovertext}</b><br><br>ASIN=B0DHZ6CNDL<br>Price=%{x}<br>Rating=%{y}<extra></extra>",
         "hovertext": [
          "B0DHZ6CNDL",
          "B0DHZ6CNDL",
          "B0DHZ6CNDL",
          "B0DHZ6CNDL",
          "B0DHZ6CNDL"
         ],
         "legendgroup": "B0DHZ6CNDL",
         "marker": {
          "color": "#636efa",
          "symbol": "circle"
         },
         "mode": "markers",
         "name": "B0DHZ6CNDL",
         "orientation": "v",
         "showlegend": true,
         "type": "scatter",
         "x": {
          "bdata": "j8L1KFw/UkCPwvUoXD9SQI/C9ShcP1JAj8L1KFw/UkCPwvUoXD9SQA==",
          "dtype": "f8"
         },
         "xaxis": "x",
         "y": {
          "bdata": "AAAAAAAAFEAAAAAAAAAUQAAAAAAAABRAAAAAAAAAFEAAAAAAAAAUQA==",
          "dtype": "f8"
         },
         "yaxis": "y"
        },
        {
         "hovertemplate": "<b>%{hovertext}</b><br><br>ASIN=B07WLJWMHM<br>Price=%{x}<br>Rating=%{y}<extra></extra>",
         "hovertext": [
          "B07WLJWMHM",
          "B07WLJWMHM",
          "B07WLJWMHM",
          "B07WLJWMHM"
         ],
         "legendgroup": "B07WLJWMHM",
         "marker": {
          "color": "#EF553B",
          "symbol": "circle"
         },
         "mode": "markers",
         "name": "B07WLJWMHM",
         "orientation": "v",
         "showlegend": true,
         "type": "scatter",
         "x": {
          "bdata": "PQrXo3D9Q0A9CtejcP1DQD0K16Nw/UNAPQrXo3D9Q0A=",
          "dtype": "f8"
         },
         "xaxis": "x",
         "y": {
          "bdata": "AAAAAAAAEkAAAAAAAAASQAAAAAAAABJAAAAAAAAAEkA=",
          "dtype": "f8"
         },
         "yaxis": "y"
        },
        {
         "hovertemplate": "<b>%{hovertext}</b><br><br>ASIN=B0DK3KQ55X<br>Price=%{x}<br>Rating=%{y}<extra></extra>",
         "hovertext": [
          "B0DK3KQ55X"
         ],
         "legendgroup": "B0DK3KQ55X",
         "marker": {
          "color": "#00cc96",
          "symbol": "circle"
         },
         "mode": "markers",
         "name": "B0DK3KQ55X",
         "orientation": "v",
         "showlegend": true,
         "type": "scatter",
         "x": {
          "bdata": "j8L1KFx/UUA=",
          "dtype": "f8"
         },
         "xaxis": "x",
         "y": {
          "bdata": "zczMzMzMEkA=",
          "dtype": "f8"
         },
         "yaxis": "y"
        },
        {
         "hovertemplate": "<b>%{hovertext}</b><br><br>ASIN=B09P1GHH3M<br>Price=%{x}<br>Rating=%{y}<extra></extra>",
         "hovertext": [
          "B09P1GHH3M",
          "B09P1GHH3M",
          "B09P1GHH3M",
          "B09P1GHH3M"
         ],
         "legendgroup": "B09P1GHH3M",
         "marker": {
          "color": "#ab63fa",
          "symbol": "circle"
         },
         "mode": "markers",
         "name": "B09P1GHH3M",
         "orientation": "v",
         "showlegend": true,
         "type": "scatter",
         "x": {
          "bdata": "H4XrUbj+REAfhetRuP5EQB+F61G4/kRAH4XrUbj+REA=",
          "dtype": "f8"
         },
         "xaxis": "x",
         "y": {
          "bdata": "zczMzMzMEEDNzMzMzMwQQM3MzMzMzBBAzczMzMzMEEA=",
          "dtype": "f8"
         },
         "yaxis": "y"
        },
        {
         "hovertemplate": "<b>%{hovertext}</b><br><br>ASIN=B07JZFQQYL<br>Price=%{x}<br>Rating=%{y}<extra></extra>",
         "hovertext": [
          "B07JZFQQYL"
         ],
         "legendgroup": "B07JZFQQYL",
         "marker": {
          "color": "#FFA15A",
          "symbol": "circle"
         },
         "mode": "markers",
         "name": "B07JZFQQYL",
         "orientation": "v",
         "showlegend": true,
         "type": "scatter",
         "x": {
          "bdata": "mpmZmZk5UEA=",
          "dtype": "f8"
         },
         "xaxis": "x",
         "y": {
          "bdata": "zczMzMzMEkA=",
          "dtype": "f8"
         },
         "yaxis": "y"
        },
        {
         "hovertemplate": "<b>%{hovertext}</b><br><br>ASIN=B07B3WPZZX<br>Price=%{x}<br>Rating=%{y}<extra></extra>",
         "hovertext": [
          "B07B3WPZZX"
         ],
         "legendgroup": "B07B3WPZZX",
         "marker": {
          "color": "#19d3f3",
          "symbol": "circle"
         },
         "mode": "markers",
         "name": "B07B3WPZZX",
         "orientation": "v",
         "showlegend": true,
         "type": "scatter",
         "x": {
          "bdata": "zczMzMw8UUA=",
          "dtype": "f8"
         },
         "xaxis": "x",
         "y": {
          "bdata": "AAAAAAAAEkA=",
          "dtype": "f8"
         },
         "yaxis": "y"
        },
        {
         "hovertemplate": "<b>%{hovertext}</b><br><br>ASIN=B0C3YQ9P7X<br>Price=%{x}<br>Rating=%{y}<extra></extra>",
         "hovertext": [
          "B0C3YQ9P7X"
         ],
         "legendgroup": "B0C3YQ9P7X",
         "marker": {
          "color": "#FF6692",
          "symbol": "circle"
         },
         "mode": "markers",
         "name": "B0C3YQ9P7X",
         "orientation": "v",
         "showlegend": true,
         "type": "scatter",
         "x": {
          "bdata": "cT0K16NwQ0A=",
          "dtype": "f8"
         },
         "xaxis": "x",
         "y": {
          "bdata": "zczMzMzMEEA=",
          "dtype": "f8"
         },
         "yaxis": "y"
        },
        {
         "hovertemplate": "<b>%{hovertext}</b><br><br>ASIN=B0CDPQ3MQN<br>Price=%{x}<br>Rating=%{y}<extra></extra>",
         "hovertext": [
          "B0CDPQ3MQN"
         ],
         "legendgroup": "B0CDPQ3MQN",
         "marker": {
          "color": "#B6E880",
          "symbol": "circle"
         },
         "mode": "markers",
         "name": "B0CDPQ3MQN",
         "orientation": "v",
         "showlegend": true,
         "type": "scatter",
         "x": {
          "bdata": "FK5H4Xr0XEA=",
          "dtype": "f8"
         },
         "xaxis": "x",
         "y": {
          "bdata": "ZmZmZmZmEkA=",
          "dtype": "f8"
         },
         "yaxis": "y"
        },
        {
         "hovertemplate": "<b>%{hovertext}</b><br><br>ASIN=B000AQVRWO<br>Price=%{x}<br>Rating=%{y}<extra></extra>",
         "hovertext": [
          "B000AQVRWO"
         ],
         "legendgroup": "B000AQVRWO",
         "marker": {
          "color": "#FF97FF",
          "symbol": "circle"
         },
         "mode": "markers",
         "name": "B000AQVRWO",
         "orientation": "v",
         "showlegend": true,
         "type": "scatter",
         "x": {
          "bdata": "ZmZmZmZmQEA=",
          "dtype": "f8"
         },
         "xaxis": "x",
         "y": {
          "bdata": "ZmZmZmZmEkA=",
          "dtype": "f8"
         },
         "yaxis": "y"
        },
        {
         "hovertemplate": "<b>%{hovertext}</b><br><br>ASIN=B0D3PQC6XP<br>Price=%{x}<br>Rating=%{y}<extra></extra>",
         "hovertext": [
          "B0D3PQC6XP",
          "B0D3PQC6XP"
         ],
         "legendgroup": "B0D3PQC6XP",
         "marker": {
          "color": "#FECB52",
          "symbol": "circle"
         },
         "mode": "markers",
         "name": "B0D3PQC6XP",
         "orientation": "v",
         "showlegend": true,
         "type": "scatter",
         "x": {
          "bdata": "pHA9CtdjQ0CkcD0K12NDQA==",
          "dtype": "f8"
         },
         "xaxis": "x",
         "y": {
          "bdata": "mpmZmZmZEUCamZmZmZkRQA==",
          "dtype": "f8"
         },
         "yaxis": "y"
        },
        {
         "hovertemplate": "<b>%{hovertext}</b><br><br>ASIN=B079111HJ3<br>Price=%{x}<br>Rating=%{y}<extra></extra>",
         "hovertext": [
          "B079111HJ3"
         ],
         "legendgroup": "B079111HJ3",
         "marker": {
          "color": "#636efa",
          "symbol": "circle"
         },
         "mode": "markers",
         "name": "B079111HJ3",
         "orientation": "v",
         "showlegend": true,
         "type": "scatter",
         "x": {
          "bdata": "ZmZmZmYGWUA=",
          "dtype": "f8"
         },
         "xaxis": "x",
         "y": {
          "bdata": "ZmZmZmZmEkA=",
          "dtype": "f8"
         },
         "yaxis": "y"
        },
        {
         "hovertemplate": "<b>%{hovertext}</b><br><br>ASIN=B0BXQ4RZZF<br>Price=%{x}<br>Rating=%{y}<extra></extra>",
         "hovertext": [
          "B0BXQ4RZZF"
         ],
         "legendgroup": "B0BXQ4RZZF",
         "marker": {
          "color": "#EF553B",
          "symbol": "circle"
         },
         "mode": "markers",
         "name": "B0BXQ4RZZF",
         "orientation": "v",
         "showlegend": true,
         "type": "scatter",
         "x": {
          "bdata": "AAAAAACAZkA=",
          "dtype": "f8"
         },
         "xaxis": "x",
         "y": {
          "bdata": "ZmZmZmZmEkA=",
          "dtype": "f8"
         },
         "yaxis": "y"
        },
        {
         "hovertemplate": "<b>%{hovertext}</b><br><br>ASIN=B0DJP73QWV<br>Price=%{x}<br>Rating=%{y}<extra></extra>",
         "hovertext": [
          "B0DJP73QWV"
         ],
         "legendgroup": "B0DJP73QWV",
         "marker": {
          "color": "#00cc96",
          "symbol": "circle"
         },
         "mode": "markers",
         "name": "B0DJP73QWV",
         "orientation": "v",
         "showlegend": true,
         "type": "scatter",
         "x": {
          "bdata": "j8L1KFx/UUA=",
          "dtype": "f8"
         },
         "xaxis": "x",
         "y": {
          "bdata": "ZmZmZmZmEkA=",
          "dtype": "f8"
         },
         "yaxis": "y"
        },
        {
         "hovertemplate": "<b>%{hovertext}</b><br><br>ASIN=B00AG37H8Y<br>Price=%{x}<br>Rating=%{y}<extra></extra>",
         "hovertext": [
          "B00AG37H8Y",
          "B00AG37H8Y"
         ],
         "legendgroup": "B00AG37H8Y",
         "marker": {
          "color": "#ab63fa",
          "symbol": "circle"
         },
         "mode": "markers",
         "name": "B00AG37H8Y",
         "orientation": "v",
         "showlegend": true,
         "type": "scatter",
         "x": {
          "bdata": "AAAAAABgXkAAAAAAAGBeQA==",
          "dtype": "f8"
         },
         "xaxis": "x",
         "y": {
          "bdata": "ZmZmZmZmEkBmZmZmZmYSQA==",
          "dtype": "f8"
         },
         "yaxis": "y"
        },
        {
         "hovertemplate": "<b>%{hovertext}</b><br><br>ASIN=B00AFTTQQ0<br>Price=%{x}<br>Rating=%{y}<extra></extra>",
         "hovertext": [
          "B00AFTTQQ0"
         ],
         "legendgroup": "B00AFTTQQ0",
         "marker": {
          "color": "#FFA15A",
          "symbol": "circle"
         },
         "mode": "markers",
         "name": "B00AFTTQQ0",
         "orientation": "v",
         "showlegend": true,
         "type": "scatter",
         "x": {
          "bdata": "zczMzMz8VUA=",
          "dtype": "f8"
         },
         "xaxis": "x",
         "y": {
          "bdata": "ZmZmZmZmEkA=",
          "dtype": "f8"
         },
         "yaxis": "y"
        },
        {
         "hovertemplate": "<b>%{hovertext}</b><br><br>ASIN=B07VDF1Q38<br>Price=%{x}<br>Rating=%{y}<extra></extra>",
         "hovertext": [
          "B07VDF1Q38",
          "B07VDF1Q38"
         ],
         "legendgroup": "B07VDF1Q38",
         "marker": {
          "color": "#19d3f3",
          "symbol": "circle"
         },
         "mode": "markers",
         "name": "B07VDF1Q38",
         "orientation": "v",
         "showlegend": true,
         "type": "scatter",
         "x": {
          "bdata": "w/UoXI/iQ0DD9Shcj+JDQA==",
          "dtype": "f8"
         },
         "xaxis": "x",
         "y": {
          "bdata": "zczMzMzMEEDNzMzMzMwQQA==",
          "dtype": "f8"
         },
         "yaxis": "y"
        },
        {
         "hovertemplate": "<b>%{hovertext}</b><br><br>ASIN=B001T6OPZ0<br>Price=%{x}<br>Rating=%{y}<extra></extra>",
         "hovertext": [
          "B001T6OPZ0",
          "B001T6OPZ0",
          "B001T6OPZ0"
         ],
         "legendgroup": "B001T6OPZ0",
         "marker": {
          "color": "#FF6692",
          "symbol": "circle"
         },
         "mode": "markers",
         "name": "B001T6OPZ0",
         "orientation": "v",
         "showlegend": true,
         "type": "scatter",
         "x": {
          "bdata": "16NwPQrnXEDXo3A9CudcQNejcD0K51xA",
          "dtype": "f8"
         },
         "xaxis": "x",
         "y": {
          "bdata": "ZmZmZmZmEkBmZmZmZmYSQGZmZmZmZhJA",
          "dtype": "f8"
         },
         "yaxis": "y"
        },
        {
         "hovertemplate": "<b>%{hovertext}</b><br><br>ASIN=B0DFQJF45P<br>Price=%{x}<br>Rating=%{y}<extra></extra>",
         "hovertext": [
          "B0DFQJF45P"
         ],
         "legendgroup": "B0DFQJF45P",
         "marker": {
          "color": "#B6E880",
          "symbol": "circle"
         },
         "mode": "markers",
         "name": "B0DFQJF45P",
         "orientation": "v",
         "showlegend": true,
         "type": "scatter",
         "x": {
          "bdata": "ZmZmZmaGXkA=",
          "dtype": "f8"
         },
         "xaxis": "x",
         "y": {
          "bdata": "zczMzMzMEkA=",
          "dtype": "f8"
         },
         "yaxis": "y"
        },
        {
         "hovertemplate": "<b>%{hovertext}</b><br><br>ASIN=B06XP738YV<br>Price=%{x}<br>Rating=%{y}<extra></extra>",
         "hovertext": [
          "B06XP738YV"
         ],
         "legendgroup": "B06XP738YV",
         "marker": {
          "color": "#FF97FF",
          "symbol": "circle"
         },
         "mode": "markers",
         "name": "B06XP738YV",
         "orientation": "v",
         "showlegend": true,
         "type": "scatter",
         "x": {
          "bdata": "PQrXo3D9MEA=",
          "dtype": "f8"
         },
         "xaxis": "x",
         "y": {
          "bdata": "AAAAAAAAEkA=",
          "dtype": "f8"
         },
         "yaxis": "y"
        },
        {
         "hovertemplate": "<b>%{hovertext}</b><br><br>ASIN=B07M5LRY7M<br>Price=%{x}<br>Rating=%{y}<extra></extra>",
         "hovertext": [
          "B07M5LRY7M"
         ],
         "legendgroup": "B07M5LRY7M",
         "marker": {
          "color": "#FECB52",
          "symbol": "circle"
         },
         "mode": "markers",
         "name": "B07M5LRY7M",
         "orientation": "v",
         "showlegend": true,
         "type": "scatter",
         "x": {
          "bdata": "CtejcD2aaUA=",
          "dtype": "f8"
         },
         "xaxis": "x",
         "y": {
          "bdata": "ZmZmZmZmEkA=",
          "dtype": "f8"
         },
         "yaxis": "y"
        },
        {
         "hovertemplate": "<b>%{hovertext}</b><br><br>ASIN=B087JQ2GNR<br>Price=%{x}<br>Rating=%{y}<extra></extra>",
         "hovertext": [
          "B087JQ2GNR",
          "B087JQ2GNR"
         ],
         "legendgroup": "B087JQ2GNR",
         "marker": {
          "color": "#636efa",
          "symbol": "circle"
         },
         "mode": "markers",
         "name": "B087JQ2GNR",
         "orientation": "v",
         "showlegend": true,
         "type": "scatter",
         "x": {
          "bdata": "hetRuB5FQkCF61G4HkVCQA==",
          "dtype": "f8"
         },
         "xaxis": "x",
         "y": {
          "bdata": "AAAAAAAAEkAAAAAAAAASQA==",
          "dtype": "f8"
         },
         "yaxis": "y"
        },
        {
         "hovertemplate": "<b>%{hovertext}</b><br><br>ASIN=B07JG9NX8G<br>Price=%{x}<br>Rating=%{y}<extra></extra>",
         "hovertext": [
          "B07JG9NX8G"
         ],
         "legendgroup": "B07JG9NX8G",
         "marker": {
          "color": "#EF553B",
          "symbol": "circle"
         },
         "mode": "markers",
         "name": "B07JG9NX8G",
         "orientation": "v",
         "showlegend": true,
         "type": "scatter",
         "x": {
          "bdata": "PQrXo3D9Q0A=",
          "dtype": "f8"
         },
         "xaxis": "x",
         "y": {
          "bdata": "AAAAAAAAEkA=",
          "dtype": "f8"
         },
         "yaxis": "y"
        },
        {
         "hovertemplate": "<b>%{hovertext}</b><br><br>ASIN=B07X7MC5LQ<br>Price=%{x}<br>Rating=%{y}<extra></extra>",
         "hovertext": [
          "B07X7MC5LQ",
          "B07X7MC5LQ"
         ],
         "legendgroup": "B07X7MC5LQ",
         "marker": {
          "color": "#00cc96",
          "symbol": "circle"
         },
         "mode": "markers",
         "name": "B07X7MC5LQ",
         "orientation": "v",
         "showlegend": true,
         "type": "scatter",
         "x": {
          "bdata": "PQrXo3D9Q0A9CtejcP1DQA==",
          "dtype": "f8"
         },
         "xaxis": "x",
         "y": {
          "bdata": "mpmZmZmZEUCamZmZmZkRQA==",
          "dtype": "f8"
         },
         "yaxis": "y"
        },
        {
         "hovertemplate": "<b>%{hovertext}</b><br><br>ASIN=B0BMKQP4RH<br>Price=%{x}<br>Rating=%{y}<extra></extra>",
         "hovertext": [
          "B0BMKQP4RH",
          "B0BMKQP4RH",
          "B0BMKQP4RH"
         ],
         "legendgroup": "B0BMKQP4RH",
         "marker": {
          "color": "#ab63fa",
          "symbol": "circle"
         },
         "mode": "markers",
         "name": "B0BMKQP4RH",
         "orientation": "v",
         "showlegend": true,
         "type": "scatter",
         "x": {
          "bdata": "UrgehetxQ0BSuB6F63FDQFK4HoXrcUNA",
          "dtype": "f8"
         },
         "xaxis": "x",
         "y": {
          "bdata": "zczMzMzMEEDNzMzMzMwQQM3MzMzMzBBA",
          "dtype": "f8"
         },
         "yaxis": "y"
        },
        {
         "hovertemplate": "<b>%{hovertext}</b><br><br>ASIN=B01N6RXH2C<br>Price=%{x}<br>Rating=%{y}<extra></extra>",
         "hovertext": [
          "B01N6RXH2C"
         ],
         "legendgroup": "B01N6RXH2C",
         "marker": {
          "color": "#FFA15A",
          "symbol": "circle"
         },
         "mode": "markers",
         "name": "B01N6RXH2C",
         "orientation": "v",
         "showlegend": true,
         "type": "scatter",
         "x": {
          "bdata": "zczMzMx8W0A=",
          "dtype": "f8"
         },
         "xaxis": "x",
         "y": {
          "bdata": "ZmZmZmZmEkA=",
          "dtype": "f8"
         },
         "yaxis": "y"
        },
        {
         "hovertemplate": "<b>%{hovertext}</b><br><br>ASIN=B00EVPMFUS<br>Price=%{x}<br>Rating=%{y}<extra></extra>",
         "hovertext": [
          "B00EVPMFUS"
         ],
         "legendgroup": "B00EVPMFUS",
         "marker": {
          "color": "#19d3f3",
          "symbol": "circle"
         },
         "mode": "markers",
         "name": "B00EVPMFUS",
         "orientation": "v",
         "showlegend": true,
         "type": "scatter",
         "x": {
          "bdata": "AAAAAABgZkA=",
          "dtype": "f8"
         },
         "xaxis": "x",
         "y": {
          "bdata": "MzMzMzMzEUA=",
          "dtype": "f8"
         },
         "yaxis": "y"
        },
        {
         "hovertemplate": "<b>%{hovertext}</b><br><br>ASIN=B01N0R1T2T<br>Price=%{x}<br>Rating=%{y}<extra></extra>",
         "hovertext": [
          "B01N0R1T2T"
         ],
         "legendgroup": "B01N0R1T2T",
         "marker": {
          "color": "#FF6692",
          "symbol": "circle"
         },
         "mode": "markers",
         "name": "B01N0R1T2T",
         "orientation": "v",
         "showlegend": true,
         "type": "scatter",
         "x": {
          "bdata": "MzMzMzNzR0A=",
          "dtype": "f8"
         },
         "xaxis": "x",
         "y": {
          "bdata": "mpmZmZmZEUA=",
          "dtype": "f8"
         },
         "yaxis": "y"
        },
        {
         "hovertemplate": "<b>%{hovertext}</b><br><br>ASIN=B0DBHWQ58D<br>Price=%{x}<br>Rating=%{y}<extra></extra>",
         "hovertext": [
          "B0DBHWQ58D"
         ],
         "legendgroup": "B0DBHWQ58D",
         "marker": {
          "color": "#B6E880",
          "symbol": "circle"
         },
         "mode": "markers",
         "name": "B0DBHWQ58D",
         "orientation": "v",
         "showlegend": true,
         "type": "scatter",
         "x": {
          "bdata": "16NwPQo/YEA=",
          "dtype": "f8"
         },
         "xaxis": "x",
         "y": {
          "bdata": "ZmZmZmZmEEA=",
          "dtype": "f8"
         },
         "yaxis": "y"
        },
        {
         "hovertemplate": "<b>%{hovertext}</b><br><br>ASIN=B00451ZGCW<br>Price=%{x}<br>Rating=%{y}<extra></extra>",
         "hovertext": [
          "B00451ZGCW"
         ],
         "legendgroup": "B00451ZGCW",
         "marker": {
          "color": "#FF97FF",
          "symbol": "circle"
         },
         "mode": "markers",
         "name": "B00451ZGCW",
         "orientation": "v",
         "showlegend": true,
         "type": "scatter",
         "x": {
          "bdata": "4XoUrkchMUA=",
          "dtype": "f8"
         },
         "xaxis": "x",
         "y": {
          "bdata": "mpmZmZmZEUA=",
          "dtype": "f8"
         },
         "yaxis": "y"
        },
        {
         "hovertemplate": "<b>%{hovertext}</b><br><br>ASIN=B0CVTNV1Q5<br>Price=%{x}<br>Rating=%{y}<extra></extra>",
         "hovertext": [
          "B0CVTNV1Q5"
         ],
         "legendgroup": "B0CVTNV1Q5",
         "marker": {
          "color": "#FECB52",
          "symbol": "circle"
         },
         "mode": "markers",
         "name": "B0CVTNV1Q5",
         "orientation": "v",
         "showlegend": true,
         "type": "scatter",
         "x": {
          "bdata": "w/UoXI9iQ0A=",
          "dtype": "f8"
         },
         "xaxis": "x",
         "y": {
          "bdata": "MzMzMzMzC0A=",
          "dtype": "f8"
         },
         "yaxis": "y"
        },
        {
         "hovertemplate": "<b>%{hovertext}</b><br><br>ASIN=B0DK3N3ZVL<br>Price=%{x}<br>Rating=%{y}<extra></extra>",
         "hovertext": [
          "B0DK3N3ZVL"
         ],
         "legendgroup": "B0DK3N3ZVL",
         "marker": {
          "color": "#636efa",
          "symbol": "circle"
         },
         "mode": "markers",
         "name": "B0DK3N3ZVL",
         "orientation": "v",
         "showlegend": true,
         "type": "scatter",
         "x": {
          "bdata": "H4XrUbj+T0A=",
          "dtype": "f8"
         },
         "xaxis": "x",
         "y": {
          "bdata": "zczMzMzMEkA=",
          "dtype": "f8"
         },
         "yaxis": "y"
        },
        {
         "hovertemplate": "<b>%{hovertext}</b><br><br>ASIN=B07KM5P98G<br>Price=%{x}<br>Rating=%{y}<extra></extra>",
         "hovertext": [
          "B07KM5P98G",
          "B07KM5P98G"
         ],
         "legendgroup": "B07KM5P98G",
         "marker": {
          "color": "#EF553B",
          "symbol": "circle"
         },
         "mode": "markers",
         "name": "B07KM5P98G",
         "orientation": "v",
         "showlegend": true,
         "type": "scatter",
         "x": {
          "bdata": "AAAAAAAgXEAAAAAAACBcQA==",
          "dtype": "f8"
         },
         "xaxis": "x",
         "y": {
          "bdata": "ZmZmZmZmEkBmZmZmZmYSQA==",
          "dtype": "f8"
         },
         "yaxis": "y"
        },
        {
         "hovertemplate": "<b>%{hovertext}</b><br><br>ASIN=B0006AAS7E<br>Price=%{x}<br>Rating=%{y}<extra></extra>",
         "hovertext": [
          "B0006AAS7E"
         ],
         "legendgroup": "B0006AAS7E",
         "marker": {
          "color": "#00cc96",
          "symbol": "circle"
         },
         "mode": "markers",
         "name": "B0006AAS7E",
         "orientation": "v",
         "showlegend": true,
         "type": "scatter",
         "x": {
          "bdata": "9ihcj8KVSkA=",
          "dtype": "f8"
         },
         "xaxis": "x",
         "y": {
          "bdata": "AAAAAAAAEkA=",
          "dtype": "f8"
         },
         "yaxis": "y"
        },
        {
         "hovertemplate": "<b>%{hovertext}</b><br><br>ASIN=B000JQFX1G<br>Price=%{x}<br>Rating=%{y}<extra></extra>",
         "hovertext": [
          "B000JQFX1G"
         ],
         "legendgroup": "B000JQFX1G",
         "marker": {
          "color": "#ab63fa",
          "symbol": "circle"
         },
         "mode": "markers",
         "name": "B000JQFX1G",
         "orientation": "v",
         "showlegend": true,
         "type": "scatter",
         "x": {
          "bdata": "4XoUrkdhVEA=",
          "dtype": "f8"
         },
         "xaxis": "x",
         "y": {
          "bdata": "AAAAAAAAEkA=",
          "dtype": "f8"
         },
         "yaxis": "y"
        },
        {
         "hovertemplate": "<b>%{hovertext}</b><br><br>ASIN=B0C815F81Q<br>Price=%{x}<br>Rating=%{y}<extra></extra>",
         "hovertext": [
          "B0C815F81Q"
         ],
         "legendgroup": "B0C815F81Q",
         "marker": {
          "color": "#FFA15A",
          "symbol": "circle"
         },
         "mode": "markers",
         "name": "B0C815F81Q",
         "orientation": "v",
         "showlegend": true,
         "type": "scatter",
         "x": {
          "bdata": "cT0K16NwQEA=",
          "dtype": "f8"
         },
         "xaxis": "x",
         "y": {
          "bdata": "ZmZmZmZmEEA=",
          "dtype": "f8"
         },
         "yaxis": "y"
        },
        {
         "hovertemplate": "<b>%{hovertext}</b><br><br>ASIN=B0D4YFFBKW<br>Price=%{x}<br>Rating=%{y}<extra></extra>",
         "hovertext": [
          "B0D4YFFBKW",
          "B0D4YFFBKW",
          "B0D4YFFBKW"
         ],
         "legendgroup": "B0D4YFFBKW",
         "marker": {
          "color": "#19d3f3",
          "symbol": "circle"
         },
         "mode": "markers",
         "name": "B0D4YFFBKW",
         "orientation": "v",
         "showlegend": true,
         "type": "scatter",
         "x": {
          "bdata": "H4XrUbj+TUAfhetRuP5NQB+F61G4/k1A",
          "dtype": "f8"
         },
         "xaxis": "x",
         "y": {
          "bdata": "AAAAAAAAEEAAAAAAAAAQQAAAAAAAABBA",
          "dtype": "f8"
         },
         "yaxis": "y"
        },
        {
         "hovertemplate": "<b>%{hovertext}</b><br><br>ASIN=B0DCZ9PRCP<br>Price=%{x}<br>Rating=%{y}<extra></extra>",
         "hovertext": [
          "B0DCZ9PRCP"
         ],
         "legendgroup": "B0DCZ9PRCP",
         "marker": {
          "color": "#FF6692",
          "symbol": "circle"
         },
         "mode": "markers",
         "name": "B0DCZ9PRCP",
         "orientation": "v",
         "showlegend": true,
         "type": "scatter",
         "x": {
          "bdata": "SOF6FK5fbUA=",
          "dtype": "f8"
         },
         "xaxis": "x",
         "y": {
          "bdata": "mpmZmZmZEUA=",
          "dtype": "f8"
         },
         "yaxis": "y"
        },
        {
         "hovertemplate": "<b>%{hovertext}</b><br><br>ASIN=B07125K116<br>Price=%{x}<br>Rating=%{y}<extra></extra>",
         "hovertext": [
          "B07125K116",
          "B07125K116"
         ],
         "legendgroup": "B07125K116",
         "marker": {
          "color": "#B6E880",
          "symbol": "circle"
         },
         "mode": "markers",
         "name": "B07125K116",
         "orientation": "v",
         "showlegend": true,
         "type": "scatter",
         "x": {
          "bdata": "ZmZmZmZOYEBmZmZmZk5gQA==",
          "dtype": "f8"
         },
         "xaxis": "x",
         "y": {
          "bdata": "ZmZmZmZmEkBmZmZmZmYSQA==",
          "dtype": "f8"
         },
         "yaxis": "y"
        },
        {
         "hovertemplate": "<b>%{hovertext}</b><br><br>ASIN=B09TR2NNJS<br>Price=%{x}<br>Rating=%{y}<extra></extra>",
         "hovertext": [
          "B09TR2NNJS"
         ],
         "legendgroup": "B09TR2NNJS",
         "marker": {
          "color": "#FF97FF",
          "symbol": "circle"
         },
         "mode": "markers",
         "name": "B09TR2NNJS",
         "orientation": "v",
         "showlegend": true,
         "type": "scatter",
         "x": {
          "bdata": "PQrXo3D9MkA=",
          "dtype": "f8"
         },
         "xaxis": "x",
         "y": {
          "bdata": "ZmZmZmZmEEA=",
          "dtype": "f8"
         },
         "yaxis": "y"
        },
        {
         "hovertemplate": "<b>%{hovertext}</b><br><br>ASIN=B06XPDP85T<br>Price=%{x}<br>Rating=%{y}<extra></extra>",
         "hovertext": [
          "B06XPDP85T",
          "B06XPDP85T"
         ],
         "legendgroup": "B06XPDP85T",
         "marker": {
          "color": "#FECB52",
          "symbol": "circle"
         },
         "mode": "markers",
         "name": "B06XPDP85T",
         "orientation": "v",
         "showlegend": true,
         "type": "scatter",
         "x": {
          "bdata": "hetRuB4FNECF61G4HgU0QA==",
          "dtype": "f8"
         },
         "xaxis": "x",
         "y": {
          "bdata": "mpmZmZmZEUCamZmZmZkRQA==",
          "dtype": "f8"
         },
         "yaxis": "y"
        },
        {
         "hovertemplate": "<b>%{hovertext}</b><br><br>ASIN=B00D3DTPTI<br>Price=%{x}<br>Rating=%{y}<extra></extra>",
         "hovertext": [
          "B00D3DTPTI"
         ],
         "legendgroup": "B00D3DTPTI",
         "marker": {
          "color": "#636efa",
          "symbol": "circle"
         },
         "mode": "markers",
         "name": "B00D3DTPTI",
         "orientation": "v",
         "showlegend": true,
         "type": "scatter",
         "x": {
          "bdata": "9ihcj8L1Q0A=",
          "dtype": "f8"
         },
         "xaxis": "x",
         "y": {
          "bdata": "AAAAAAAAEkA=",
          "dtype": "f8"
         },
         "yaxis": "y"
        },
        {
         "hovertemplate": "<b>%{hovertext}</b><br><br>ASIN=B09NDZ41M1<br>Price=%{x}<br>Rating=%{y}<extra></extra>",
         "hovertext": [
          "B09NDZ41M1"
         ],
         "legendgroup": "B09NDZ41M1",
         "marker": {
          "color": "#EF553B",
          "symbol": "circle"
         },
         "mode": "markers",
         "name": "B09NDZ41M1",
         "orientation": "v",
         "showlegend": true,
         "type": "scatter",
         "x": {
          "bdata": "rkfhehQuQUA=",
          "dtype": "f8"
         },
         "xaxis": "x",
         "y": {
          "bdata": "AAAAAAAAEkA=",
          "dtype": "f8"
         },
         "yaxis": "y"
        },
        {
         "hovertemplate": "<b>%{hovertext}</b><br><br>ASIN=B0B31G681W<br>Price=%{x}<br>Rating=%{y}<extra></extra>",
         "hovertext": [
          "B0B31G681W",
          "B0B31G681W",
          "B0B31G681W",
          "B0B31G681W"
         ],
         "legendgroup": "B0B31G681W",
         "marker": {
          "color": "#00cc96",
          "symbol": "circle"
         },
         "mode": "markers",
         "name": "B0B31G681W",
         "orientation": "v",
         "showlegend": true,
         "type": "scatter",
         "x": {
          "bdata": "w/UoXI9iQ0DD9Shcj2JDQMP1KFyPYkNAw/UoXI9iQ0A=",
          "dtype": "f8"
         },
         "xaxis": "x",
         "y": {
          "bdata": "MzMzMzMzEUAzMzMzMzMRQDMzMzMzMxFAMzMzMzMzEUA=",
          "dtype": "f8"
         },
         "yaxis": "y"
        },
        {
         "hovertemplate": "<b>%{hovertext}</b><br><br>ASIN=B08BG28VXD<br>Price=%{x}<br>Rating=%{y}<extra></extra>",
         "hovertext": [
          "B08BG28VXD",
          "B08BG28VXD",
          "B08BG28VXD",
          "B08BG28VXD"
         ],
         "legendgroup": "B08BG28VXD",
         "marker": {
          "color": "#ab63fa",
          "symbol": "circle"
         },
         "mode": "markers",
         "name": "B08BG28VXD",
         "orientation": "v",
         "showlegend": true,
         "type": "scatter",
         "x": {
          "bdata": "w/UoXI/iQ0DD9Shcj+JDQMP1KFyP4kNAw/UoXI/iQ0A=",
          "dtype": "f8"
         },
         "xaxis": "x",
         "y": {
          "bdata": "zczMzMzMEEDNzMzMzMwQQM3MzMzMzBBAzczMzMzMEEA=",
          "dtype": "f8"
         },
         "yaxis": "y"
        },
        {
         "hovertemplate": "<b>%{hovertext}</b><br><br>ASIN=B07G2NN1VS<br>Price=%{x}<br>Rating=%{y}<extra></extra>",
         "hovertext": [
          "B07G2NN1VS"
         ],
         "legendgroup": "B07G2NN1VS",
         "marker": {
          "color": "#FFA15A",
          "symbol": "circle"
         },
         "mode": "markers",
         "name": "B07G2NN1VS",
         "orientation": "v",
         "showlegend": true,
         "type": "scatter",
         "x": {
          "bdata": "MzMzMzPzNkA=",
          "dtype": "f8"
         },
         "xaxis": "x",
         "y": {
          "bdata": "zczMzMzMEkA=",
          "dtype": "f8"
         },
         "yaxis": "y"
        },
        {
         "hovertemplate": "<b>%{hovertext}</b><br><br>ASIN=B00WUAMKJW<br>Price=%{x}<br>Rating=%{y}<extra></extra>",
         "hovertext": [
          "B00WUAMKJW"
         ],
         "legendgroup": "B00WUAMKJW",
         "marker": {
          "color": "#19d3f3",
          "symbol": "circle"
         },
         "mode": "markers",
         "name": "B00WUAMKJW",
         "orientation": "v",
         "showlegend": true,
         "type": "scatter",
         "x": {
          "bdata": "j8L1KFwfUkA=",
          "dtype": "f8"
         },
         "xaxis": "x",
         "y": {
          "bdata": "zczMzMzMEkA=",
          "dtype": "f8"
         },
         "yaxis": "y"
        },
        {
         "hovertemplate": "<b>%{hovertext}</b><br><br>ASIN=B004FG8BY2<br>Price=%{x}<br>Rating=%{y}<extra></extra>",
         "hovertext": [
          "B004FG8BY2"
         ],
         "legendgroup": "B004FG8BY2",
         "marker": {
          "color": "#FF6692",
          "symbol": "circle"
         },
         "mode": "markers",
         "name": "B004FG8BY2",
         "orientation": "v",
         "showlegend": true,
         "type": "scatter",
         "x": {
          "bdata": "H4XrUbg+UEA=",
          "dtype": "f8"
         },
         "xaxis": "x",
         "y": {
          "bdata": "ZmZmZmZmEkA=",
          "dtype": "f8"
         },
         "yaxis": "y"
        },
        {
         "hovertemplate": "<b>%{hovertext}</b><br><br>ASIN=B09W9C9K9X<br>Price=%{x}<br>Rating=%{y}<extra></extra>",
         "hovertext": [
          "B09W9C9K9X",
          "B09W9C9K9X",
          "B09W9C9K9X",
          "B09W9C9K9X"
         ],
         "legendgroup": "B09W9C9K9X",
         "marker": {
          "color": "#B6E880",
          "symbol": "circle"
         },
         "mode": "markers",
         "name": "B09W9C9K9X",
         "orientation": "v",
         "showlegend": true,
         "type": "scatter",
         "x": {
          "bdata": "cT0K16NwQ0BxPQrXo3BDQHE9CtejcENAcT0K16NwQ0A=",
          "dtype": "f8"
         },
         "xaxis": "x",
         "y": {
          "bdata": "zczMzMzMEEDNzMzMzMwQQM3MzMzMzBBAzczMzMzMEEA=",
          "dtype": "f8"
         },
         "yaxis": "y"
        },
        {
         "hovertemplate": "<b>%{hovertext}</b><br><br>ASIN=B0B1MM234Y<br>Price=%{x}<br>Rating=%{y}<extra></extra>",
         "hovertext": [
          "B0B1MM234Y",
          "B0B1MM234Y",
          "B0B1MM234Y"
         ],
         "legendgroup": "B0B1MM234Y",
         "marker": {
          "color": "#FF97FF",
          "symbol": "circle"
         },
         "mode": "markers",
         "name": "B0B1MM234Y",
         "orientation": "v",
         "showlegend": true,
         "type": "scatter",
         "x": {
          "bdata": "cT0K16NwQ0BxPQrXo3BDQHE9CtejcENA",
          "dtype": "f8"
         },
         "xaxis": "x",
         "y": {
          "bdata": "zczMzMzMEEDNzMzMzMwQQM3MzMzMzBBA",
          "dtype": "f8"
         },
         "yaxis": "y"
        },
        {
         "hovertemplate": "<b>%{hovertext}</b><br><br>ASIN=B0D35Q7W6G<br>Price=%{x}<br>Rating=%{y}<extra></extra>",
         "hovertext": [
          "B0D35Q7W6G"
         ],
         "legendgroup": "B0D35Q7W6G",
         "marker": {
          "color": "#FECB52",
          "symbol": "circle"
         },
         "mode": "markers",
         "name": "B0D35Q7W6G",
         "orientation": "v",
         "showlegend": true,
         "type": "scatter",
         "x": {
          "bdata": "w/UoXI/iQ0A=",
          "dtype": "f8"
         },
         "xaxis": "x",
         "y": {
          "bdata": "AAAAAAAAEEA=",
          "dtype": "f8"
         },
         "yaxis": "y"
        },
        {
         "hovertemplate": "<b>%{hovertext}</b><br><br>ASIN=B09ZL1MY5Z<br>Price=%{x}<br>Rating=%{y}<extra></extra>",
         "hovertext": [
          "B09ZL1MY5Z",
          "B09ZL1MY5Z"
         ],
         "legendgroup": "B09ZL1MY5Z",
         "marker": {
          "color": "#636efa",
          "symbol": "circle"
         },
         "mode": "markers",
         "name": "B09ZL1MY5Z",
         "orientation": "v",
         "showlegend": true,
         "type": "scatter",
         "x": {
          "bdata": "FK5H4XpUQ0AUrkfhelRDQA==",
          "dtype": "f8"
         },
         "xaxis": "x",
         "y": {
          "bdata": "zczMzMzMEEDNzMzMzMwQQA==",
          "dtype": "f8"
         },
         "yaxis": "y"
        },
        {
         "hovertemplate": "<b>%{hovertext}</b><br><br>ASIN=B09LJ1ZN59<br>Price=%{x}<br>Rating=%{y}<extra></extra>",
         "hovertext": [
          "B09LJ1ZN59",
          "B09LJ1ZN59"
         ],
         "legendgroup": "B09LJ1ZN59",
         "marker": {
          "color": "#EF553B",
          "symbol": "circle"
         },
         "mode": "markers",
         "name": "B09LJ1ZN59",
         "orientation": "v",
         "showlegend": true,
         "type": "scatter",
         "x": {
          "bdata": "pHA9CtcTWECkcD0K1xNYQA==",
          "dtype": "f8"
         },
         "xaxis": "x",
         "y": {
          "bdata": "MzMzMzMzEUAzMzMzMzMRQA==",
          "dtype": "f8"
         },
         "yaxis": "y"
        },
        {
         "hovertemplate": "<b>%{hovertext}</b><br><br>ASIN=B0D812KV92<br>Price=%{x}<br>Rating=%{y}<extra></extra>",
         "hovertext": [
          "B0D812KV92"
         ],
         "legendgroup": "B0D812KV92",
         "marker": {
          "color": "#00cc96",
          "symbol": "circle"
         },
         "mode": "markers",
         "name": "B0D812KV92",
         "orientation": "v",
         "showlegend": true,
         "type": "scatter",
         "x": {
          "bdata": "AAAAAABAUUA=",
          "dtype": "f8"
         },
         "xaxis": "x",
         "y": {
          "bdata": "zczMzMzMEEA=",
          "dtype": "f8"
         },
         "yaxis": "y"
        },
        {
         "hovertemplate": "<b>%{hovertext}</b><br><br>ASIN=B00093CZV0<br>Price=%{x}<br>Rating=%{y}<extra></extra>",
         "hovertext": [
          "B00093CZV0"
         ],
         "legendgroup": "B00093CZV0",
         "marker": {
          "color": "#ab63fa",
          "symbol": "circle"
         },
         "mode": "markers",
         "name": "B00093CZV0",
         "orientation": "v",
         "showlegend": true,
         "type": "scatter",
         "x": {
          "bdata": "MzMzMzNzTkA=",
          "dtype": "f8"
         },
         "xaxis": "x",
         "y": {
          "bdata": "AAAAAAAAEkA=",
          "dtype": "f8"
         },
         "yaxis": "y"
        },
        {
         "hovertemplate": "<b>%{hovertext}</b><br><br>ASIN=B00HYUT71W<br>Price=%{x}<br>Rating=%{y}<extra></extra>",
         "hovertext": [
          "B00HYUT71W"
         ],
         "legendgroup": "B00HYUT71W",
         "marker": {
          "color": "#FFA15A",
          "symbol": "circle"
         },
         "mode": "markers",
         "name": "B00HYUT71W",
         "orientation": "v",
         "showlegend": true,
         "type": "scatter",
         "x": {
          "bdata": "AAAAAADARkA=",
          "dtype": "f8"
         },
         "xaxis": "x",
         "y": {
          "bdata": "AAAAAAAAEkA=",
          "dtype": "f8"
         },
         "yaxis": "y"
        },
        {
         "hovertemplate": "<b>%{hovertext}</b><br><br>ASIN=B003ZYZEWM<br>Price=%{x}<br>Rating=%{y}<extra></extra>",
         "hovertext": [
          "B003ZYZEWM"
         ],
         "legendgroup": "B003ZYZEWM",
         "marker": {
          "color": "#19d3f3",
          "symbol": "circle"
         },
         "mode": "markers",
         "name": "B003ZYZEWM",
         "orientation": "v",
         "showlegend": true,
         "type": "scatter",
         "x": {
          "bdata": "j8L1KFzvRUA=",
          "dtype": "f8"
         },
         "xaxis": "x",
         "y": {
          "bdata": "AAAAAAAAEkA=",
          "dtype": "f8"
         },
         "yaxis": "y"
        },
        {
         "hovertemplate": "<b>%{hovertext}</b><br><br>ASIN=B083X4SM2Z<br>Price=%{x}<br>Rating=%{y}<extra></extra>",
         "hovertext": [
          "B083X4SM2Z"
         ],
         "legendgroup": "B083X4SM2Z",
         "marker": {
          "color": "#FF6692",
          "symbol": "circle"
         },
         "mode": "markers",
         "name": "B083X4SM2Z",
         "orientation": "v",
         "showlegend": true,
         "type": "scatter",
         "x": {
          "bdata": "AAAAAACQUkA=",
          "dtype": "f8"
         },
         "xaxis": "x",
         "y": {
          "bdata": "MzMzMzMzEUA=",
          "dtype": "f8"
         },
         "yaxis": "y"
        },
        {
         "hovertemplate": "<b>%{hovertext}</b><br><br>ASIN=B0CMX53HVW<br>Price=%{x}<br>Rating=%{y}<extra></extra>",
         "hovertext": [
          "B0CMX53HVW"
         ],
         "legendgroup": "B0CMX53HVW",
         "marker": {
          "color": "#B6E880",
          "symbol": "circle"
         },
         "mode": "markers",
         "name": "B0CMX53HVW",
         "orientation": "v",
         "showlegend": true,
         "type": "scatter",
         "x": {
          "bdata": "H4XrUbj+Q0A=",
          "dtype": "f8"
         },
         "xaxis": "x",
         "y": {
          "bdata": "MzMzMzMzEUA=",
          "dtype": "f8"
         },
         "yaxis": "y"
        },
        {
         "hovertemplate": "<b>%{hovertext}</b><br><br>ASIN=B0995YG831<br>Price=%{x}<br>Rating=%{y}<extra></extra>",
         "hovertext": [
          "B0995YG831"
         ],
         "legendgroup": "B0995YG831",
         "marker": {
          "color": "#FF97FF",
          "symbol": "circle"
         },
         "mode": "markers",
         "name": "B0995YG831",
         "orientation": "v",
         "showlegend": true,
         "type": "scatter",
         "x": {
          "bdata": "H4XrUbj+RkA=",
          "dtype": "f8"
         },
         "xaxis": "x",
         "y": {
          "bdata": "MzMzMzMzEUA=",
          "dtype": "f8"
         },
         "yaxis": "y"
        },
        {
         "hovertemplate": "<b>%{hovertext}</b><br><br>ASIN=B00134OJYA<br>Price=%{x}<br>Rating=%{y}<extra></extra>",
         "hovertext": [
          "B00134OJYA"
         ],
         "legendgroup": "B00134OJYA",
         "marker": {
          "color": "#FECB52",
          "symbol": "circle"
         },
         "mode": "markers",
         "name": "B00134OJYA",
         "orientation": "v",
         "showlegend": true,
         "type": "scatter",
         "x": {
          "bdata": "AAAAAAAATUA=",
          "dtype": "f8"
         },
         "xaxis": "x",
         "y": {
          "bdata": "AAAAAAAAEkA=",
          "dtype": "f8"
         },
         "yaxis": "y"
        },
        {
         "hovertemplate": "<b>%{hovertext}</b><br><br>ASIN=B003MYUQKA<br>Price=%{x}<br>Rating=%{y}<extra></extra>",
         "hovertext": [
          "B003MYUQKA"
         ],
         "legendgroup": "B003MYUQKA",
         "marker": {
          "color": "#636efa",
          "symbol": "circle"
         },
         "mode": "markers",
         "name": "B003MYUQKA",
         "orientation": "v",
         "showlegend": true,
         "type": "scatter",
         "x": {
          "bdata": "pHA9CtczU0A=",
          "dtype": "f8"
         },
         "xaxis": "x",
         "y": {
          "bdata": "zczMzMzMEkA=",
          "dtype": "f8"
         },
         "yaxis": "y"
        },
        {
         "hovertemplate": "<b>%{hovertext}</b><br><br>ASIN=B01BM7J3HU<br>Price=%{x}<br>Rating=%{y}<extra></extra>",
         "hovertext": [
          "B01BM7J3HU"
         ],
         "legendgroup": "B01BM7J3HU",
         "marker": {
          "color": "#EF553B",
          "symbol": "circle"
         },
         "mode": "markers",
         "name": "B01BM7J3HU",
         "orientation": "v",
         "showlegend": true,
         "type": "scatter",
         "x": {
          "bdata": "XI/C9SgcOEA=",
          "dtype": "f8"
         },
         "xaxis": "x",
         "y": {
          "bdata": "AAAAAAAAEkA=",
          "dtype": "f8"
         },
         "yaxis": "y"
        },
        {
         "hovertemplate": "<b>%{hovertext}</b><br><br>ASIN=B00OI8IIS6<br>Price=%{x}<br>Rating=%{y}<extra></extra>",
         "hovertext": [
          "B00OI8IIS6"
         ],
         "legendgroup": "B00OI8IIS6",
         "marker": {
          "color": "#00cc96",
          "symbol": "circle"
         },
         "mode": "markers",
         "name": "B00OI8IIS6",
         "orientation": "v",
         "showlegend": true,
         "type": "scatter",
         "x": {
          "bdata": "mpmZmZn5QEA=",
          "dtype": "f8"
         },
         "xaxis": "x",
         "y": {
          "bdata": "AAAAAAAAEkA=",
          "dtype": "f8"
         },
         "yaxis": "y"
        },
        {
         "hovertemplate": "<b>%{hovertext}</b><br><br>ASIN=B07KY8MQGT<br>Price=%{x}<br>Rating=%{y}<extra></extra>",
         "hovertext": [
          "B07KY8MQGT"
         ],
         "legendgroup": "B07KY8MQGT",
         "marker": {
          "color": "#ab63fa",
          "symbol": "circle"
         },
         "mode": "markers",
         "name": "B07KY8MQGT",
         "orientation": "v",
         "showlegend": true,
         "type": "scatter",
         "x": {
          "bdata": "H4XrUbj+SEA=",
          "dtype": "f8"
         },
         "xaxis": "x",
         "y": {
          "bdata": "ZmZmZmZmEEA=",
          "dtype": "f8"
         },
         "yaxis": "y"
        },
        {
         "hovertemplate": "<b>%{hovertext}</b><br><br>ASIN=B06ZYXZNXY<br>Price=%{x}<br>Rating=%{y}<extra></extra>",
         "hovertext": [
          "B06ZYXZNXY"
         ],
         "legendgroup": "B06ZYXZNXY",
         "marker": {
          "color": "#FFA15A",
          "symbol": "circle"
         },
         "mode": "markers",
         "name": "B06ZYXZNXY",
         "orientation": "v",
         "showlegend": true,
         "type": "scatter",
         "x": {
          "bdata": "PQrXo3D9O0A=",
          "dtype": "f8"
         },
         "xaxis": "x",
         "y": {
          "bdata": "mpmZmZmZEUA=",
          "dtype": "f8"
         },
         "yaxis": "y"
        },
        {
         "hovertemplate": "<b>%{hovertext}</b><br><br>ASIN=B079J38TJY<br>Price=%{x}<br>Rating=%{y}<extra></extra>",
         "hovertext": [
          "B079J38TJY"
         ],
         "legendgroup": "B079J38TJY",
         "marker": {
          "color": "#19d3f3",
          "symbol": "circle"
         },
         "mode": "markers",
         "name": "B079J38TJY",
         "orientation": "v",
         "showlegend": true,
         "type": "scatter",
         "x": {
          "bdata": "AAAAAADARkA=",
          "dtype": "f8"
         },
         "xaxis": "x",
         "y": {
          "bdata": "ZmZmZmZmEkA=",
          "dtype": "f8"
         },
         "yaxis": "y"
        },
        {
         "hovertemplate": "<b>%{hovertext}</b><br><br>ASIN=B00FQCSMUM<br>Price=%{x}<br>Rating=%{y}<extra></extra>",
         "hovertext": [
          "B00FQCSMUM"
         ],
         "legendgroup": "B00FQCSMUM",
         "marker": {
          "color": "#FF6692",
          "symbol": "circle"
         },
         "mode": "markers",
         "name": "B00FQCSMUM",
         "orientation": "v",
         "showlegend": true,
         "type": "scatter",
         "x": {
          "bdata": "AAAAAADAM0A=",
          "dtype": "f8"
         },
         "xaxis": "x",
         "y": {
          "bdata": "AAAAAAAAEkA=",
          "dtype": "f8"
         },
         "yaxis": "y"
        },
        {
         "hovertemplate": "<b>%{hovertext}</b><br><br>ASIN=B00352L1SA<br>Price=%{x}<br>Rating=%{y}<extra></extra>",
         "hovertext": [
          "B00352L1SA"
         ],
         "legendgroup": "B00352L1SA",
         "marker": {
          "color": "#B6E880",
          "symbol": "circle"
         },
         "mode": "markers",
         "name": "B00352L1SA",
         "orientation": "v",
         "showlegend": true,
         "type": "scatter",
         "x": {
          "bdata": "UrgehevxQ0A=",
          "dtype": "f8"
         },
         "xaxis": "x",
         "y": {
          "bdata": "AAAAAAAAEkA=",
          "dtype": "f8"
         },
         "yaxis": "y"
        },
        {
         "hovertemplate": "<b>%{hovertext}</b><br><br>ASIN=B07BHR54RW<br>Price=%{x}<br>Rating=%{y}<extra></extra>",
         "hovertext": [
          "B07BHR54RW",
          "B07BHR54RW"
         ],
         "legendgroup": "B07BHR54RW",
         "marker": {
          "color": "#FF97FF",
          "symbol": "circle"
         },
         "mode": "markers",
         "name": "B07BHR54RW",
         "orientation": "v",
         "showlegend": true,
         "type": "scatter",
         "x": {
          "bdata": "9ihcj8L1Q0D2KFyPwvVDQA==",
          "dtype": "f8"
         },
         "xaxis": "x",
         "y": {
          "bdata": "AAAAAAAAEkAAAAAAAAASQA==",
          "dtype": "f8"
         },
         "yaxis": "y"
        },
        {
         "hovertemplate": "<b>%{hovertext}</b><br><br>ASIN=B071DQ3M36<br>Price=%{x}<br>Rating=%{y}<extra></extra>",
         "hovertext": [
          "B071DQ3M36"
         ],
         "legendgroup": "B071DQ3M36",
         "marker": {
          "color": "#FECB52",
          "symbol": "circle"
         },
         "mode": "markers",
         "name": "B071DQ3M36",
         "orientation": "v",
         "showlegend": true,
         "type": "scatter",
         "x": {
          "bdata": "9ihcj8L1RkA=",
          "dtype": "f8"
         },
         "xaxis": "x",
         "y": {
          "bdata": "mpmZmZmZEUA=",
          "dtype": "f8"
         },
         "yaxis": "y"
        },
        {
         "hovertemplate": "<b>%{hovertext}</b><br><br>ASIN=B006ZTJEPC<br>Price=%{x}<br>Rating=%{y}<extra></extra>",
         "hovertext": [
          "B006ZTJEPC"
         ],
         "legendgroup": "B006ZTJEPC",
         "marker": {
          "color": "#636efa",
          "symbol": "circle"
         },
         "mode": "markers",
         "name": "B006ZTJEPC",
         "orientation": "v",
         "showlegend": true,
         "type": "scatter",
         "x": {
          "bdata": "PQrXo3B9NkA=",
          "dtype": "f8"
         },
         "xaxis": "x",
         "y": {
          "bdata": "AAAAAAAAEkA=",
          "dtype": "f8"
         },
         "yaxis": "y"
        },
        {
         "hovertemplate": "<b>%{hovertext}</b><br><br>ASIN=B001E4DYEK<br>Price=%{x}<br>Rating=%{y}<extra></extra>",
         "hovertext": [
          "B001E4DYEK"
         ],
         "legendgroup": "B001E4DYEK",
         "marker": {
          "color": "#EF553B",
          "symbol": "circle"
         },
         "mode": "markers",
         "name": "B001E4DYEK",
         "orientation": "v",
         "showlegend": true,
         "type": "scatter",
         "x": {
          "bdata": "pHA9CtfDR0A=",
          "dtype": "f8"
         },
         "xaxis": "x",
         "y": {
          "bdata": "AAAAAAAAEkA=",
          "dtype": "f8"
         },
         "yaxis": "y"
        },
        {
         "hovertemplate": "<b>%{hovertext}</b><br><br>ASIN=B075V89JMP<br>Price=%{x}<br>Rating=%{y}<extra></extra>",
         "hovertext": [
          "B075V89JMP"
         ],
         "legendgroup": "B075V89JMP",
         "marker": {
          "color": "#00cc96",
          "symbol": "circle"
         },
         "mode": "markers",
         "name": "B075V89JMP",
         "orientation": "v",
         "showlegend": true,
         "type": "scatter",
         "x": {
          "bdata": "CtejcD1KMkA=",
          "dtype": "f8"
         },
         "xaxis": "x",
         "y": {
          "bdata": "MzMzMzMzEUA=",
          "dtype": "f8"
         },
         "yaxis": "y"
        },
        {
         "hovertemplate": "<b>%{hovertext}</b><br><br>ASIN=B0DPMMPZL5<br>Price=%{x}<br>Rating=%{y}<extra></extra>",
         "hovertext": [
          "B0DPMMPZL5"
         ],
         "legendgroup": "B0DPMMPZL5",
         "marker": {
          "color": "#ab63fa",
          "symbol": "circle"
         },
         "mode": "markers",
         "name": "B0DPMMPZL5",
         "orientation": "v",
         "showlegend": true,
         "type": "scatter",
         "x": {
          "bdata": "H4XrUbj+SEA=",
          "dtype": "f8"
         },
         "xaxis": "x",
         "y": {
          "bdata": "mpmZmZmZEUA=",
          "dtype": "f8"
         },
         "yaxis": "y"
        },
        {
         "hovertemplate": "<b>%{hovertext}</b><br><br>ASIN=B07G4Z8MHC<br>Price=%{x}<br>Rating=%{y}<extra></extra>",
         "hovertext": [
          "B07G4Z8MHC"
         ],
         "legendgroup": "B07G4Z8MHC",
         "marker": {
          "color": "#FFA15A",
          "symbol": "circle"
         },
         "mode": "markers",
         "name": "B07G4Z8MHC",
         "orientation": "v",
         "showlegend": true,
         "type": "scatter",
         "x": {
          "bdata": "H4XrUbj+QUA=",
          "dtype": "f8"
         },
         "xaxis": "x",
         "y": {
          "bdata": "MzMzMzMzEUA=",
          "dtype": "f8"
         },
         "yaxis": "y"
        },
        {
         "hovertemplate": "<b>%{hovertext}</b><br><br>ASIN=B0000TIJ72<br>Price=%{x}<br>Rating=%{y}<extra></extra>",
         "hovertext": [
          "B0000TIJ72"
         ],
         "legendgroup": "B0000TIJ72",
         "marker": {
          "color": "#19d3f3",
          "symbol": "circle"
         },
         "mode": "markers",
         "name": "B0000TIJ72",
         "orientation": "v",
         "showlegend": true,
         "type": "scatter",
         "x": {
          "bdata": "mpmZmZmZP0A=",
          "dtype": "f8"
         },
         "xaxis": "x",
         "y": {
          "bdata": "mpmZmZmZEUA=",
          "dtype": "f8"
         },
         "yaxis": "y"
        },
        {
         "hovertemplate": "<b>%{hovertext}</b><br><br>ASIN=B0C8S52FPY<br>Price=%{x}<br>Rating=%{y}<extra></extra>",
         "hovertext": [
          "B0C8S52FPY"
         ],
         "legendgroup": "B0C8S52FPY",
         "marker": {
          "color": "#FF6692",
          "symbol": "circle"
         },
         "mode": "markers",
         "name": "B0C8S52FPY",
         "orientation": "v",
         "showlegend": true,
         "type": "scatter",
         "x": {
          "bdata": "cT0K16NwQ0A=",
          "dtype": "f8"
         },
         "xaxis": "x",
         "y": {
          "bdata": "AAAAAAAAEEA=",
          "dtype": "f8"
         },
         "yaxis": "y"
        },
        {
         "hovertemplate": "<b>%{hovertext}</b><br><br>ASIN=B08CZY6J87<br>Price=%{x}<br>Rating=%{y}<extra></extra>",
         "hovertext": [
          "B08CZY6J87"
         ],
         "legendgroup": "B08CZY6J87",
         "marker": {
          "color": "#B6E880",
          "symbol": "circle"
         },
         "mode": "markers",
         "name": "B08CZY6J87",
         "orientation": "v",
         "showlegend": true,
         "type": "scatter",
         "x": {
          "bdata": "PQrXo3D9NUA=",
          "dtype": "f8"
         },
         "xaxis": "x",
         "y": {
          "bdata": "zczMzMzMEEA=",
          "dtype": "f8"
         },
         "yaxis": "y"
        },
        {
         "hovertemplate": "<b>%{hovertext}</b><br><br>ASIN=B013M83HUG<br>Price=%{x}<br>Rating=%{y}<extra></extra>",
         "hovertext": [
          "B013M83HUG"
         ],
         "legendgroup": "B013M83HUG",
         "marker": {
          "color": "#FF97FF",
          "symbol": "circle"
         },
         "mode": "markers",
         "name": "B013M83HUG",
         "orientation": "v",
         "showlegend": true,
         "type": "scatter",
         "x": {
          "bdata": "MzMzMzNzR0A=",
          "dtype": "f8"
         },
         "xaxis": "x",
         "y": {
          "bdata": "AAAAAAAAEkA=",
          "dtype": "f8"
         },
         "yaxis": "y"
        },
        {
         "hovertemplate": "<b>%{hovertext}</b><br><br>ASIN=B0CW11842W<br>Price=%{x}<br>Rating=%{y}<extra></extra>",
         "hovertext": [
          "B0CW11842W",
          "B0CW11842W"
         ],
         "legendgroup": "B0CW11842W",
         "marker": {
          "color": "#FECB52",
          "symbol": "circle"
         },
         "mode": "markers",
         "name": "B0CW11842W",
         "orientation": "v",
         "showlegend": true,
         "type": "scatter",
         "x": {
          "bdata": "exSuR+H6L0B7FK5H4fovQA==",
          "dtype": "f8"
         },
         "xaxis": "x",
         "y": {
          "bdata": "mpmZmZmZEUCamZmZmZkRQA==",
          "dtype": "f8"
         },
         "yaxis": "y"
        },
        {
         "hovertemplate": "<b>%{hovertext}</b><br><br>ASIN=B079J9ZWLZ<br>Price=%{x}<br>Rating=%{y}<extra></extra>",
         "hovertext": [
          "B079J9ZWLZ"
         ],
         "legendgroup": "B079J9ZWLZ",
         "marker": {
          "color": "#636efa",
          "symbol": "circle"
         },
         "mode": "markers",
         "name": "B079J9ZWLZ",
         "orientation": "v",
         "showlegend": true,
         "type": "scatter",
         "x": {
          "bdata": "rkfhehSORUA=",
          "dtype": "f8"
         },
         "xaxis": "x",
         "y": {
          "bdata": "AAAAAAAAEkA=",
          "dtype": "f8"
         },
         "yaxis": "y"
        },
        {
         "hovertemplate": "<b>%{hovertext}</b><br><br>ASIN=B0C5RG1MT9<br>Price=%{x}<br>Rating=%{y}<extra></extra>",
         "hovertext": [
          "B0C5RG1MT9",
          "B0C5RG1MT9",
          "B0C5RG1MT9"
         ],
         "legendgroup": "B0C5RG1MT9",
         "marker": {
          "color": "#EF553B",
          "symbol": "circle"
         },
         "mode": "markers",
         "name": "B0C5RG1MT9",
         "orientation": "v",
         "showlegend": true,
         "type": "scatter",
         "x": {
          "bdata": "cT0K16NwQ0BxPQrXo3BDQHE9CtejcENA",
          "dtype": "f8"
         },
         "xaxis": "x",
         "y": {
          "bdata": "ZmZmZmZmEEBmZmZmZmYQQGZmZmZmZhBA",
          "dtype": "f8"
         },
         "yaxis": "y"
        },
        {
         "hovertemplate": "<b>%{hovertext}</b><br><br>ASIN=B0CT4VCLW5<br>Price=%{x}<br>Rating=%{y}<extra></extra>",
         "hovertext": [
          "B0CT4VCLW5"
         ],
         "legendgroup": "B0CT4VCLW5",
         "marker": {
          "color": "#00cc96",
          "symbol": "circle"
         },
         "mode": "markers",
         "name": "B0CT4VCLW5",
         "orientation": "v",
         "showlegend": true,
         "type": "scatter",
         "x": {
          "bdata": "AAAAAADAU0A=",
          "dtype": "f8"
         },
         "xaxis": "x",
         "y": {
          "bdata": "ZmZmZmZmEEA=",
          "dtype": "f8"
         },
         "yaxis": "y"
        },
        {
         "hovertemplate": "<b>%{hovertext}</b><br><br>ASIN=B0B8RYKNVN<br>Price=%{x}<br>Rating=%{y}<extra></extra>",
         "hovertext": [
          "B0B8RYKNVN"
         ],
         "legendgroup": "B0B8RYKNVN",
         "marker": {
          "color": "#ab63fa",
          "symbol": "circle"
         },
         "mode": "markers",
         "name": "B0B8RYKNVN",
         "orientation": "v",
         "showlegend": true,
         "type": "scatter",
         "x": {
          "bdata": "cT0K16NwQ0A=",
          "dtype": "f8"
         },
         "xaxis": "x",
         "y": {
          "bdata": "ZmZmZmZmEEA=",
          "dtype": "f8"
         },
         "yaxis": "y"
        },
        {
         "hovertemplate": "<b>%{hovertext}</b><br><br>ASIN=B000FGDE70<br>Price=%{x}<br>Rating=%{y}<extra></extra>",
         "hovertext": [
          "B000FGDE70"
         ],
         "legendgroup": "B000FGDE70",
         "marker": {
          "color": "#FFA15A",
          "symbol": "circle"
         },
         "mode": "markers",
         "name": "B000FGDE70",
         "orientation": "v",
         "showlegend": true,
         "type": "scatter",
         "x": {
          "bdata": "zczMzMwMRkA=",
          "dtype": "f8"
         },
         "xaxis": "x",
         "y": {
          "bdata": "zczMzMzMEEA=",
          "dtype": "f8"
         },
         "yaxis": "y"
        },
        {
         "hovertemplate": "<b>%{hovertext}</b><br><br>ASIN=B07RHYYFSK<br>Price=%{x}<br>Rating=%{y}<extra></extra>",
         "hovertext": [
          "B07RHYYFSK"
         ],
         "legendgroup": "B07RHYYFSK",
         "marker": {
          "color": "#19d3f3",
          "symbol": "circle"
         },
         "mode": "markers",
         "name": "B07RHYYFSK",
         "orientation": "v",
         "showlegend": true,
         "type": "scatter",
         "x": {
          "bdata": "H4XrUbj+RkA=",
          "dtype": "f8"
         },
         "xaxis": "x",
         "y": {
          "bdata": "ZmZmZmZmEEA=",
          "dtype": "f8"
         },
         "yaxis": "y"
        },
        {
         "hovertemplate": "<b>%{hovertext}</b><br><br>ASIN=B000H6APZM<br>Price=%{x}<br>Rating=%{y}<extra></extra>",
         "hovertext": [
          "B000H6APZM"
         ],
         "legendgroup": "B000H6APZM",
         "marker": {
          "color": "#FF6692",
          "symbol": "circle"
         },
         "mode": "markers",
         "name": "B000H6APZM",
         "orientation": "v",
         "showlegend": true,
         "type": "scatter",
         "x": {
          "bdata": "9ihcj8L1REA=",
          "dtype": "f8"
         },
         "xaxis": "x",
         "y": {
          "bdata": "AAAAAAAAEkA=",
          "dtype": "f8"
         },
         "yaxis": "y"
        },
        {
         "hovertemplate": "<b>%{hovertext}</b><br><br>ASIN=B0DGKX2PD6<br>Price=%{x}<br>Rating=%{y}<extra></extra>",
         "hovertext": [
          "B0DGKX2PD6",
          "B0DGKX2PD6"
         ],
         "legendgroup": "B0DGKX2PD6",
         "marker": {
          "color": "#B6E880",
          "symbol": "circle"
         },
         "mode": "markers",
         "name": "B0DGKX2PD6",
         "orientation": "v",
         "showlegend": true,
         "type": "scatter",
         "x": {
          "bdata": "AAAAAAAAd0AAAAAAAAB3QA==",
          "dtype": "f8"
         },
         "xaxis": "x",
         "y": {
          "bdata": "AAAAAAAAFEAAAAAAAAAUQA==",
          "dtype": "f8"
         },
         "yaxis": "y"
        },
        {
         "hovertemplate": "<b>%{hovertext}</b><br><br>ASIN=B0CY8LSSRG<br>Price=%{x}<br>Rating=%{y}<extra></extra>",
         "hovertext": [
          "B0CY8LSSRG"
         ],
         "legendgroup": "B0CY8LSSRG",
         "marker": {
          "color": "#FF97FF",
          "symbol": "circle"
         },
         "mode": "markers",
         "name": "B0CY8LSSRG",
         "orientation": "v",
         "showlegend": true,
         "type": "scatter",
         "x": {
          "bdata": "uB6F61H4M0A=",
          "dtype": "f8"
         },
         "xaxis": "x",
         "y": {
          "bdata": "mpmZmZmZEUA=",
          "dtype": "f8"
         },
         "yaxis": "y"
        },
        {
         "hovertemplate": "<b>%{hovertext}</b><br><br>ASIN=B07CSQQJS3<br>Price=%{x}<br>Rating=%{y}<extra></extra>",
         "hovertext": [
          "B07CSQQJS3"
         ],
         "legendgroup": "B07CSQQJS3",
         "marker": {
          "color": "#FECB52",
          "symbol": "circle"
         },
         "mode": "markers",
         "name": "B07CSQQJS3",
         "orientation": "v",
         "showlegend": true,
         "type": "scatter",
         "x": {
          "bdata": "AAAAAABwV0A=",
          "dtype": "f8"
         },
         "xaxis": "x",
         "y": {
          "bdata": "ZmZmZmZmEkA=",
          "dtype": "f8"
         },
         "yaxis": "y"
        },
        {
         "hovertemplate": "<b>%{hovertext}</b><br><br>ASIN=B07VX1ZTBC<br>Price=%{x}<br>Rating=%{y}<extra></extra>",
         "hovertext": [
          "B07VX1ZTBC"
         ],
         "legendgroup": "B07VX1ZTBC",
         "marker": {
          "color": "#636efa",
          "symbol": "circle"
         },
         "mode": "markers",
         "name": "B07VX1ZTBC",
         "orientation": "v",
         "showlegend": true,
         "type": "scatter",
         "x": {
          "bdata": "FK5H4XpUQ0A=",
          "dtype": "f8"
         },
         "xaxis": "x",
         "y": {
          "bdata": "ZmZmZmZmEEA=",
          "dtype": "f8"
         },
         "yaxis": "y"
        },
        {
         "hovertemplate": "<b>%{hovertext}</b><br><br>ASIN=B0C8D8728D<br>Price=%{x}<br>Rating=%{y}<extra></extra>",
         "hovertext": [
          "B0C8D8728D"
         ],
         "legendgroup": "B0C8D8728D",
         "marker": {
          "color": "#EF553B",
          "symbol": "circle"
         },
         "mode": "markers",
         "name": "B0C8D8728D",
         "orientation": "v",
         "showlegend": true,
         "type": "scatter",
         "x": {
          "bdata": "cT0K16NwQ0A=",
          "dtype": "f8"
         },
         "xaxis": "x",
         "y": {
          "bdata": "zczMzMzMEEA=",
          "dtype": "f8"
         },
         "yaxis": "y"
        },
        {
         "hovertemplate": "<b>%{hovertext}</b><br><br>ASIN=B00STAYV6C<br>Price=%{x}<br>Rating=%{y}<extra></extra>",
         "hovertext": [
          "B00STAYV6C"
         ],
         "legendgroup": "B00STAYV6C",
         "marker": {
          "color": "#00cc96",
          "symbol": "circle"
         },
         "mode": "markers",
         "name": "B00STAYV6C",
         "orientation": "v",
         "showlegend": true,
         "type": "scatter",
         "x": {
          "bdata": "FK5H4XrkWkA=",
          "dtype": "f8"
         },
         "xaxis": "x",
         "y": {
          "bdata": "ZmZmZmZmEkA=",
          "dtype": "f8"
         },
         "yaxis": "y"
        },
        {
         "hovertemplate": "<b>%{hovertext}</b><br><br>ASIN=B07Z62B354<br>Price=%{x}<br>Rating=%{y}<extra></extra>",
         "hovertext": [
          "B07Z62B354",
          "B07Z62B354"
         ],
         "legendgroup": "B07Z62B354",
         "marker": {
          "color": "#ab63fa",
          "symbol": "circle"
         },
         "mode": "markers",
         "name": "B07Z62B354",
         "orientation": "v",
         "showlegend": true,
         "type": "scatter",
         "x": {
          "bdata": "PQrXo3D9NUA9CtejcP01QA==",
          "dtype": "f8"
         },
         "xaxis": "x",
         "y": {
          "bdata": "mpmZmZmZEUCamZmZmZkRQA==",
          "dtype": "f8"
         },
         "yaxis": "y"
        },
        {
         "hovertemplate": "<b>%{hovertext}</b><br><br>ASIN=B08B81K1Q8<br>Price=%{x}<br>Rating=%{y}<extra></extra>",
         "hovertext": [
          "B08B81K1Q8"
         ],
         "legendgroup": "B08B81K1Q8",
         "marker": {
          "color": "#FFA15A",
          "symbol": "circle"
         },
         "mode": "markers",
         "name": "B08B81K1Q8",
         "orientation": "v",
         "showlegend": true,
         "type": "scatter",
         "x": {
          "bdata": "H4XrUbj+Q0A=",
          "dtype": "f8"
         },
         "xaxis": "x",
         "y": {
          "bdata": "mpmZmZmZEUA=",
          "dtype": "f8"
         },
         "yaxis": "y"
        },
        {
         "hovertemplate": "<b>%{hovertext}</b><br><br>ASIN=B06Y2RMLJ2<br>Price=%{x}<br>Rating=%{y}<extra></extra>",
         "hovertext": [
          "B06Y2RMLJ2"
         ],
         "legendgroup": "B06Y2RMLJ2",
         "marker": {
          "color": "#19d3f3",
          "symbol": "circle"
         },
         "mode": "markers",
         "name": "B06Y2RMLJ2",
         "orientation": "v",
         "showlegend": true,
         "type": "scatter",
         "x": {
          "bdata": "pHA9CtejMkA=",
          "dtype": "f8"
         },
         "xaxis": "x",
         "y": {
          "bdata": "AAAAAAAAEkA=",
          "dtype": "f8"
         },
         "yaxis": "y"
        },
        {
         "hovertemplate": "<b>%{hovertext}</b><br><br>ASIN=B0C8CND1GB<br>Price=%{x}<br>Rating=%{y}<extra></extra>",
         "hovertext": [
          "B0C8CND1GB"
         ],
         "legendgroup": "B0C8CND1GB",
         "marker": {
          "color": "#FF6692",
          "symbol": "circle"
         },
         "mode": "markers",
         "name": "B0C8CND1GB",
         "orientation": "v",
         "showlegend": true,
         "type": "scatter",
         "x": {
          "bdata": "cT0K16NwQ0A=",
          "dtype": "f8"
         },
         "xaxis": "x",
         "y": {
          "bdata": "MzMzMzMzEUA=",
          "dtype": "f8"
         },
         "yaxis": "y"
        },
        {
         "hovertemplate": "<b>%{hovertext}</b><br><br>ASIN=B09W9DVMS5<br>Price=%{x}<br>Rating=%{y}<extra></extra>",
         "hovertext": [
          "B09W9DVMS5"
         ],
         "legendgroup": "B09W9DVMS5",
         "marker": {
          "color": "#B6E880",
          "symbol": "circle"
         },
         "mode": "markers",
         "name": "B09W9DVMS5",
         "orientation": "v",
         "showlegend": true,
         "type": "scatter",
         "x": {
          "bdata": "cT0K16NwQ0A=",
          "dtype": "f8"
         },
         "xaxis": "x",
         "y": {
          "bdata": "zczMzMzMEEA=",
          "dtype": "f8"
         },
         "yaxis": "y"
        },
        {
         "hovertemplate": "<b>%{hovertext}</b><br><br>ASIN=B0CHJKD9RR<br>Price=%{x}<br>Rating=%{y}<extra></extra>",
         "hovertext": [
          "B0CHJKD9RR"
         ],
         "legendgroup": "B0CHJKD9RR",
         "marker": {
          "color": "#FF97FF",
          "symbol": "circle"
         },
         "mode": "markers",
         "name": "B0CHJKD9RR",
         "orientation": "v",
         "showlegend": true,
         "type": "scatter",
         "x": {
          "bdata": "exSuR+H6KUA=",
          "dtype": "f8"
         },
         "xaxis": "x",
         "y": {
          "bdata": "ZmZmZmZmDkA=",
          "dtype": "f8"
         },
         "yaxis": "y"
        },
        {
         "hovertemplate": "<b>%{hovertext}</b><br><br>ASIN=B0C58Y4GMB<br>Price=%{x}<br>Rating=%{y}<extra></extra>",
         "hovertext": [
          "B0C58Y4GMB"
         ],
         "legendgroup": "B0C58Y4GMB",
         "marker": {
          "color": "#FECB52",
          "symbol": "circle"
         },
         "mode": "markers",
         "name": "B0C58Y4GMB",
         "orientation": "v",
         "showlegend": true,
         "type": "scatter",
         "x": {
          "bdata": "cT0K16NwQ0A=",
          "dtype": "f8"
         },
         "xaxis": "x",
         "y": {
          "bdata": "ZmZmZmZmEEA=",
          "dtype": "f8"
         },
         "yaxis": "y"
        },
        {
         "hovertemplate": "<b>%{hovertext}</b><br><br>ASIN=B0B4JWSCRL<br>Price=%{x}<br>Rating=%{y}<extra></extra>",
         "hovertext": [
          "B0B4JWSCRL"
         ],
         "legendgroup": "B0B4JWSCRL",
         "marker": {
          "color": "#636efa",
          "symbol": "circle"
         },
         "mode": "markers",
         "name": "B0B4JWSCRL",
         "orientation": "v",
         "showlegend": true,
         "type": "scatter",
         "x": {
          "bdata": "cT0K16NwQ0A=",
          "dtype": "f8"
         },
         "xaxis": "x",
         "y": {
          "bdata": "zczMzMzMEEA=",
          "dtype": "f8"
         },
         "yaxis": "y"
        },
        {
         "hovertemplate": "<b>%{hovertext}</b><br><br>ASIN=B0C9XXMVTR<br>Price=%{x}<br>Rating=%{y}<extra></extra>",
         "hovertext": [
          "B0C9XXMVTR"
         ],
         "legendgroup": "B0C9XXMVTR",
         "marker": {
          "color": "#EF553B",
          "symbol": "circle"
         },
         "mode": "markers",
         "name": "B0C9XXMVTR",
         "orientation": "v",
         "showlegend": true,
         "type": "scatter",
         "x": {
          "bdata": "w/UoXI9iQ0A=",
          "dtype": "f8"
         },
         "xaxis": "x",
         "y": {
          "bdata": "ZmZmZmZmEEA=",
          "dtype": "f8"
         },
         "yaxis": "y"
        },
        {
         "hovertemplate": "<b>%{hovertext}</b><br><br>ASIN=B094QRBZBP<br>Price=%{x}<br>Rating=%{y}<extra></extra>",
         "hovertext": [
          "B094QRBZBP",
          "B094QRBZBP"
         ],
         "legendgroup": "B094QRBZBP",
         "marker": {
          "color": "#00cc96",
          "symbol": "circle"
         },
         "mode": "markers",
         "name": "B094QRBZBP",
         "orientation": "v",
         "showlegend": true,
         "type": "scatter",
         "x": {
          "bdata": "w/UoXI9iQ0DD9Shcj2JDQA==",
          "dtype": "f8"
         },
         "xaxis": "x",
         "y": {
          "bdata": "mpmZmZmZEUCamZmZmZkRQA==",
          "dtype": "f8"
         },
         "yaxis": "y"
        },
        {
         "hovertemplate": "<b>%{hovertext}</b><br><br>ASIN=B074BX41G6<br>Price=%{x}<br>Rating=%{y}<extra></extra>",
         "hovertext": [
          "B074BX41G6"
         ],
         "legendgroup": "B074BX41G6",
         "marker": {
          "color": "#ab63fa",
          "symbol": "circle"
         },
         "mode": "markers",
         "name": "B074BX41G6",
         "orientation": "v",
         "showlegend": true,
         "type": "scatter",
         "x": {
          "bdata": "AAAAAAAAM0A=",
          "dtype": "f8"
         },
         "xaxis": "x",
         "y": {
          "bdata": "mpmZmZmZEUA=",
          "dtype": "f8"
         },
         "yaxis": "y"
        },
        {
         "hovertemplate": "<b>%{hovertext}</b><br><br>ASIN=B00020J0ZE<br>Price=%{x}<br>Rating=%{y}<extra></extra>",
         "hovertext": [
          "B00020J0ZE"
         ],
         "legendgroup": "B00020J0ZE",
         "marker": {
          "color": "#FFA15A",
          "symbol": "circle"
         },
         "mode": "markers",
         "name": "B00020J0ZE",
         "orientation": "v",
         "showlegend": true,
         "type": "scatter",
         "x": {
          "bdata": "FK5H4XqUP0A=",
          "dtype": "f8"
         },
         "xaxis": "x",
         "y": {
          "bdata": "AAAAAAAAEkA=",
          "dtype": "f8"
         },
         "yaxis": "y"
        },
        {
         "hovertemplate": "<b>%{hovertext}</b><br><br>ASIN=B07JKNRFKC<br>Price=%{x}<br>Rating=%{y}<extra></extra>",
         "hovertext": [
          "B07JKNRFKC"
         ],
         "legendgroup": "B07JKNRFKC",
         "marker": {
          "color": "#19d3f3",
          "symbol": "circle"
         },
         "mode": "markers",
         "name": "B07JKNRFKC",
         "orientation": "v",
         "showlegend": true,
         "type": "scatter",
         "x": {
          "bdata": "w/UoXI9iQEA=",
          "dtype": "f8"
         },
         "xaxis": "x",
         "y": {
          "bdata": "ZmZmZmZmEEA=",
          "dtype": "f8"
         },
         "yaxis": "y"
        },
        {
         "hovertemplate": "<b>%{hovertext}</b><br><br>ASIN=B07QNWCTFV<br>Price=%{x}<br>Rating=%{y}<extra></extra>",
         "hovertext": [
          "B07QNWCTFV"
         ],
         "legendgroup": "B07QNWCTFV",
         "marker": {
          "color": "#FF6692",
          "symbol": "circle"
         },
         "mode": "markers",
         "name": "B07QNWCTFV",
         "orientation": "v",
         "showlegend": true,
         "type": "scatter",
         "x": {
          "bdata": "hetRuB4lQEA=",
          "dtype": "f8"
         },
         "xaxis": "x",
         "y": {
          "bdata": "mpmZmZmZEUA=",
          "dtype": "f8"
         },
         "yaxis": "y"
        },
        {
         "hovertemplate": "<b>%{hovertext}</b><br><br>ASIN=B0BNWP7C2P<br>Price=%{x}<br>Rating=%{y}<extra></extra>",
         "hovertext": [
          "B0BNWP7C2P"
         ],
         "legendgroup": "B0BNWP7C2P",
         "marker": {
          "color": "#B6E880",
          "symbol": "circle"
         },
         "mode": "markers",
         "name": "B0BNWP7C2P",
         "orientation": "v",
         "showlegend": true,
         "type": "scatter",
         "x": {
          "bdata": "w/UoXI9iQEA=",
          "dtype": "f8"
         },
         "xaxis": "x",
         "y": {
          "bdata": "zczMzMzMEEA=",
          "dtype": "f8"
         },
         "yaxis": "y"
        },
        {
         "hovertemplate": "<b>%{hovertext}</b><br><br>ASIN=B004CM6EY8<br>Price=%{x}<br>Rating=%{y}<extra></extra>",
         "hovertext": [
          "B004CM6EY8"
         ],
         "legendgroup": "B004CM6EY8",
         "marker": {
          "color": "#FF97FF",
          "symbol": "circle"
         },
         "mode": "markers",
         "name": "B004CM6EY8",
         "orientation": "v",
         "showlegend": true,
         "type": "scatter",
         "x": {
          "bdata": "XI/C9ShMU0A=",
          "dtype": "f8"
         },
         "xaxis": "x",
         "y": {
          "bdata": "zczMzMzMEkA=",
          "dtype": "f8"
         },
         "yaxis": "y"
        },
        {
         "hovertemplate": "<b>%{hovertext}</b><br><br>ASIN=B000JY34IC<br>Price=%{x}<br>Rating=%{y}<extra></extra>",
         "hovertext": [
          "B000JY34IC"
         ],
         "legendgroup": "B000JY34IC",
         "marker": {
          "color": "#FECB52",
          "symbol": "circle"
         },
         "mode": "markers",
         "name": "B000JY34IC",
         "orientation": "v",
         "showlegend": true,
         "type": "scatter",
         "x": {
          "bdata": "cT0K16NQQUA=",
          "dtype": "f8"
         },
         "xaxis": "x",
         "y": {
          "bdata": "mpmZmZmZEUA=",
          "dtype": "f8"
         },
         "yaxis": "y"
        },
        {
         "hovertemplate": "<b>%{hovertext}</b><br><br>ASIN=B0CY9G1997<br>Price=%{x}<br>Rating=%{y}<extra></extra>",
         "hovertext": [
          "B0CY9G1997"
         ],
         "legendgroup": "B0CY9G1997",
         "marker": {
          "color": "#636efa",
          "symbol": "circle"
         },
         "mode": "markers",
         "name": "B0CY9G1997",
         "orientation": "v",
         "showlegend": true,
         "type": "scatter",
         "x": {
          "bdata": "w/UoXI9iQ0A=",
          "dtype": "f8"
         },
         "xaxis": "x",
         "y": {
          "bdata": "mpmZmZmZEUA=",
          "dtype": "f8"
         },
         "yaxis": "y"
        },
        {
         "hovertemplate": "<b>%{hovertext}</b><br><br>ASIN=B0D9XFQ2BY<br>Price=%{x}<br>Rating=%{y}<extra></extra>",
         "hovertext": [
          "B0D9XFQ2BY"
         ],
         "legendgroup": "B0D9XFQ2BY",
         "marker": {
          "color": "#EF553B",
          "symbol": "circle"
         },
         "mode": "markers",
         "name": "B0D9XFQ2BY",
         "orientation": "v",
         "showlegend": true,
         "type": "scatter",
         "x": {
          "bdata": "PQrXo3D9N0A=",
          "dtype": "f8"
         },
         "xaxis": "x",
         "y": {
          "bdata": "AAAAAAAAEEA=",
          "dtype": "f8"
         },
         "yaxis": "y"
        },
        {
         "hovertemplate": "<b>%{hovertext}</b><br><br>ASIN=B07146KPHT<br>Price=%{x}<br>Rating=%{y}<extra></extra>",
         "hovertext": [
          "B07146KPHT"
         ],
         "legendgroup": "B07146KPHT",
         "marker": {
          "color": "#00cc96",
          "symbol": "circle"
         },
         "mode": "markers",
         "name": "B07146KPHT",
         "orientation": "v",
         "showlegend": true,
         "type": "scatter",
         "x": {
          "bdata": "w/UoXI8SWUA=",
          "dtype": "f8"
         },
         "xaxis": "x",
         "y": {
          "bdata": "AAAAAAAAEkA=",
          "dtype": "f8"
         },
         "yaxis": "y"
        },
        {
         "hovertemplate": "<b>%{hovertext}</b><br><br>ASIN=B08SQ7CQV3<br>Price=%{x}<br>Rating=%{y}<extra></extra>",
         "hovertext": [
          "B08SQ7CQV3"
         ],
         "legendgroup": "B08SQ7CQV3",
         "marker": {
          "color": "#ab63fa",
          "symbol": "circle"
         },
         "mode": "markers",
         "name": "B08SQ7CQV3",
         "orientation": "v",
         "showlegend": true,
         "type": "scatter",
         "x": {
          "bdata": "4XoUrkfhMEA=",
          "dtype": "f8"
         },
         "xaxis": "x",
         "y": {
          "bdata": "AAAAAAAAEkA=",
          "dtype": "f8"
         },
         "yaxis": "y"
        },
        {
         "hovertemplate": "<b>%{hovertext}</b><br><br>ASIN=B0DB1F5K73<br>Price=%{x}<br>Rating=%{y}<extra></extra>",
         "hovertext": [
          "B0DB1F5K73"
         ],
         "legendgroup": "B0DB1F5K73",
         "marker": {
          "color": "#FFA15A",
          "symbol": "circle"
         },
         "mode": "markers",
         "name": "B0DB1F5K73",
         "orientation": "v",
         "showlegend": true,
         "type": "scatter",
         "x": {
          "bdata": "PQrXo3D9OUA=",
          "dtype": "f8"
         },
         "xaxis": "x",
         "y": {
          "bdata": "MzMzMzMzD0A=",
          "dtype": "f8"
         },
         "yaxis": "y"
        },
        {
         "hovertemplate": "<b>%{hovertext}</b><br><br>ASIN=B003DZ7VZG<br>Price=%{x}<br>Rating=%{y}<extra></extra>",
         "hovertext": [
          "B003DZ7VZG"
         ],
         "legendgroup": "B003DZ7VZG",
         "marker": {
          "color": "#19d3f3",
          "symbol": "circle"
         },
         "mode": "markers",
         "name": "B003DZ7VZG",
         "orientation": "v",
         "showlegend": true,
         "type": "scatter",
         "x": {
          "bdata": "AAAAAAAAPUA=",
          "dtype": "f8"
         },
         "xaxis": "x",
         "y": {
          "bdata": "AAAAAAAAEkA=",
          "dtype": "f8"
         },
         "yaxis": "y"
        },
        {
         "hovertemplate": "<b>%{hovertext}</b><br><br>ASIN=B00YTYFKZS<br>Price=%{x}<br>Rating=%{y}<extra></extra>",
         "hovertext": [
          "B00YTYFKZS"
         ],
         "legendgroup": "B00YTYFKZS",
         "marker": {
          "color": "#FF6692",
          "symbol": "circle"
         },
         "mode": "markers",
         "name": "B00YTYFKZS",
         "orientation": "v",
         "showlegend": true,
         "type": "scatter",
         "x": {
          "bdata": "MzMzMzNzQEA=",
          "dtype": "f8"
         },
         "xaxis": "x",
         "y": {
          "bdata": "MzMzMzMzEUA=",
          "dtype": "f8"
         },
         "yaxis": "y"
        },
        {
         "hovertemplate": "<b>%{hovertext}</b><br><br>ASIN=B07CZVQS9P<br>Price=%{x}<br>Rating=%{y}<extra></extra>",
         "hovertext": [
          "B07CZVQS9P",
          "B07CZVQS9P"
         ],
         "legendgroup": "B07CZVQS9P",
         "marker": {
          "color": "#B6E880",
          "symbol": "circle"
         },
         "mode": "markers",
         "name": "B07CZVQS9P",
         "orientation": "v",
         "showlegend": true,
         "type": "scatter",
         "x": {
          "bdata": "PQrXo3D9PEA9CtejcP08QA==",
          "dtype": "f8"
         },
         "xaxis": "x",
         "y": {
          "bdata": "zczMzMzMEEDNzMzMzMwQQA==",
          "dtype": "f8"
         },
         "yaxis": "y"
        },
        {
         "hovertemplate": "<b>%{hovertext}</b><br><br>ASIN=B0CHY7B7LP<br>Price=%{x}<br>Rating=%{y}<extra></extra>",
         "hovertext": [
          "B0CHY7B7LP"
         ],
         "legendgroup": "B0CHY7B7LP",
         "marker": {
          "color": "#FF97FF",
          "symbol": "circle"
         },
         "mode": "markers",
         "name": "B0CHY7B7LP",
         "orientation": "v",
         "showlegend": true,
         "type": "scatter",
         "x": {
          "bdata": "exSuR+H6I0A=",
          "dtype": "f8"
         },
         "xaxis": "x",
         "y": {
          "bdata": "ZmZmZmZmEEA=",
          "dtype": "f8"
         },
         "yaxis": "y"
        },
        {
         "hovertemplate": "<b>%{hovertext}</b><br><br>ASIN=B0BVG5NC3Z<br>Price=%{x}<br>Rating=%{y}<extra></extra>",
         "hovertext": [
          "B0BVG5NC3Z"
         ],
         "legendgroup": "B0BVG5NC3Z",
         "marker": {
          "color": "#FECB52",
          "symbol": "circle"
         },
         "mode": "markers",
         "name": "B0BVG5NC3Z",
         "orientation": "v",
         "showlegend": true,
         "type": "scatter",
         "x": {
          "bdata": "w/UoXI/iQ0A=",
          "dtype": "f8"
         },
         "xaxis": "x",
         "y": {
          "bdata": "ZmZmZmZmDkA=",
          "dtype": "f8"
         },
         "yaxis": "y"
        },
        {
         "hovertemplate": "<b>%{hovertext}</b><br><br>ASIN=B09Y8ZY9NK<br>Price=%{x}<br>Rating=%{y}<extra></extra>",
         "hovertext": [
          "B09Y8ZY9NK"
         ],
         "legendgroup": "B09Y8ZY9NK",
         "marker": {
          "color": "#636efa",
          "symbol": "circle"
         },
         "mode": "markers",
         "name": "B09Y8ZY9NK",
         "orientation": "v",
         "showlegend": true,
         "type": "scatter",
         "x": {
          "bdata": "MzMzMzPTREA=",
          "dtype": "f8"
         },
         "xaxis": "x",
         "y": {
          "bdata": "mpmZmZmZEUA=",
          "dtype": "f8"
         },
         "yaxis": "y"
        },
        {
         "hovertemplate": "<b>%{hovertext}</b><br><br>ASIN=B0D3QZQVLJ<br>Price=%{x}<br>Rating=%{y}<extra></extra>",
         "hovertext": [
          "B0D3QZQVLJ",
          "B0D3QZQVLJ"
         ],
         "legendgroup": "B0D3QZQVLJ",
         "marker": {
          "color": "#EF553B",
          "symbol": "circle"
         },
         "mode": "markers",
         "name": "B0D3QZQVLJ",
         "orientation": "v",
         "showlegend": true,
         "type": "scatter",
         "x": {
          "bdata": "MzMzMzPzQ0AzMzMzM/NDQA==",
          "dtype": "f8"
         },
         "xaxis": "x",
         "y": {
          "bdata": "mpmZmZmZE0CamZmZmZkTQA==",
          "dtype": "f8"
         },
         "yaxis": "y"
        },
        {
         "hovertemplate": "<b>%{hovertext}</b><br><br>ASIN=B0DGDSVVG6<br>Price=%{x}<br>Rating=%{y}<extra></extra>",
         "hovertext": [
          "B0DGDSVVG6"
         ],
         "legendgroup": "B0DGDSVVG6",
         "marker": {
          "color": "#00cc96",
          "symbol": "circle"
         },
         "mode": "markers",
         "name": "B0DGDSVVG6",
         "orientation": "v",
         "showlegend": true,
         "type": "scatter",
         "x": {
          "bdata": "w/UoXI/iQ0A=",
          "dtype": "f8"
         },
         "xaxis": "x",
         "y": {
          "bdata": "MzMzMzMzEUA=",
          "dtype": "f8"
         },
         "yaxis": "y"
        },
        {
         "hovertemplate": "<b>%{hovertext}</b><br><br>ASIN=B00PUE48Z4<br>Price=%{x}<br>Rating=%{y}<extra></extra>",
         "hovertext": [
          "B00PUE48Z4"
         ],
         "legendgroup": "B00PUE48Z4",
         "marker": {
          "color": "#ab63fa",
          "symbol": "circle"
         },
         "mode": "markers",
         "name": "B00PUE48Z4",
         "orientation": "v",
         "showlegend": true,
         "type": "scatter",
         "x": {
          "bdata": "cT0K16MwQ0A=",
          "dtype": "f8"
         },
         "xaxis": "x",
         "y": {
          "bdata": "mpmZmZmZEUA=",
          "dtype": "f8"
         },
         "yaxis": "y"
        },
        {
         "hovertemplate": "<b>%{hovertext}</b><br><br>ASIN=B0DBDM3LFW<br>Price=%{x}<br>Rating=%{y}<extra></extra>",
         "hovertext": [
          "B0DBDM3LFW"
         ],
         "legendgroup": "B0DBDM3LFW",
         "marker": {
          "color": "#FFA15A",
          "symbol": "circle"
         },
         "mode": "markers",
         "name": "B0DBDM3LFW",
         "orientation": "v",
         "showlegend": true,
         "type": "scatter",
         "x": {
          "bdata": "w/UoXI/iQ0A=",
          "dtype": "f8"
         },
         "xaxis": "x",
         "y": {
          "bdata": "zczMzMzMEEA=",
          "dtype": "f8"
         },
         "yaxis": "y"
        },
        {
         "hovertemplate": "<b>%{hovertext}</b><br><br>ASIN=B08P329Q63<br>Price=%{x}<br>Rating=%{y}<extra></extra>",
         "hovertext": [
          "B08P329Q63"
         ],
         "legendgroup": "B08P329Q63",
         "marker": {
          "color": "#19d3f3",
          "symbol": "circle"
         },
         "mode": "markers",
         "name": "B08P329Q63",
         "orientation": "v",
         "showlegend": true,
         "type": "scatter",
         "x": {
          "bdata": "exSuR+H6I0A=",
          "dtype": "f8"
         },
         "xaxis": "x",
         "y": {
          "bdata": "MzMzMzMzD0A=",
          "dtype": "f8"
         },
         "yaxis": "y"
        },
        {
         "hovertemplate": "<b>%{hovertext}</b><br><br>ASIN=B0CP8PNWP6<br>Price=%{x}<br>Rating=%{y}<extra></extra>",
         "hovertext": [
          "B0CP8PNWP6"
         ],
         "legendgroup": "B0CP8PNWP6",
         "marker": {
          "color": "#FF6692",
          "symbol": "circle"
         },
         "mode": "markers",
         "name": "B0CP8PNWP6",
         "orientation": "v",
         "showlegend": true,
         "type": "scatter",
         "x": {
          "bdata": "exSuR+H6I0A=",
          "dtype": "f8"
         },
         "xaxis": "x",
         "y": {
          "bdata": "AAAAAAAAEEA=",
          "dtype": "f8"
         },
         "yaxis": "y"
        },
        {
         "hovertemplate": "<b>%{hovertext}</b><br><br>ASIN=B0BD98C8YB<br>Price=%{x}<br>Rating=%{y}<extra></extra>",
         "hovertext": [
          "B0BD98C8YB"
         ],
         "legendgroup": "B0BD98C8YB",
         "marker": {
          "color": "#B6E880",
          "symbol": "circle"
         },
         "mode": "markers",
         "name": "B0BD98C8YB",
         "orientation": "v",
         "showlegend": true,
         "type": "scatter",
         "x": {
          "bdata": "AAAAAACAQEA=",
          "dtype": "f8"
         },
         "xaxis": "x",
         "y": {
          "bdata": "MzMzMzMzD0A=",
          "dtype": "f8"
         },
         "yaxis": "y"
        },
        {
         "hovertemplate": "<b>%{hovertext}</b><br><br>ASIN=B07JH5ZR4N<br>Price=%{x}<br>Rating=%{y}<extra></extra>",
         "hovertext": [
          "B07JH5ZR4N",
          "B07JH5ZR4N"
         ],
         "legendgroup": "B07JH5ZR4N",
         "marker": {
          "color": "#FF97FF",
          "symbol": "circle"
         },
         "mode": "markers",
         "name": "B07JH5ZR4N",
         "orientation": "v",
         "showlegend": true,
         "type": "scatter",
         "x": {
          "bdata": "H4XrUbjeTUAfhetRuN5NQA==",
          "dtype": "f8"
         },
         "xaxis": "x",
         "y": {
          "bdata": "AAAAAAAAEkAAAAAAAAASQA==",
          "dtype": "f8"
         },
         "yaxis": "y"
        },
        {
         "hovertemplate": "<b>%{hovertext}</b><br><br>ASIN=B000AYYIWW<br>Price=%{x}<br>Rating=%{y}<extra></extra>",
         "hovertext": [
          "B000AYYIWW"
         ],
         "legendgroup": "B000AYYIWW",
         "marker": {
          "color": "#FECB52",
          "symbol": "circle"
         },
         "mode": "markers",
         "name": "B000AYYIWW",
         "orientation": "v",
         "showlegend": true,
         "type": "scatter",
         "x": {
          "bdata": "exSuR+H6QEA=",
          "dtype": "f8"
         },
         "xaxis": "x",
         "y": {
          "bdata": "AAAAAAAAEkA=",
          "dtype": "f8"
         },
         "yaxis": "y"
        },
        {
         "hovertemplate": "<b>%{hovertext}</b><br><br>ASIN=B074ZHN54C<br>Price=%{x}<br>Rating=%{y}<extra></extra>",
         "hovertext": [
          "B074ZHN54C"
         ],
         "legendgroup": "B074ZHN54C",
         "marker": {
          "color": "#636efa",
          "symbol": "circle"
         },
         "mode": "markers",
         "name": "B074ZHN54C",
         "orientation": "v",
         "showlegend": true,
         "type": "scatter",
         "x": {
          "bdata": "AAAAAAAgYkA=",
          "dtype": "f8"
         },
         "xaxis": "x",
         "y": {
          "bdata": "ZmZmZmZmEkA=",
          "dtype": "f8"
         },
         "yaxis": "y"
        },
        {
         "hovertemplate": "<b>%{hovertext}</b><br><br>ASIN=B002DKVG9E<br>Price=%{x}<br>Rating=%{y}<extra></extra>",
         "hovertext": [
          "B002DKVG9E"
         ],
         "legendgroup": "B002DKVG9E",
         "marker": {
          "color": "#EF553B",
          "symbol": "circle"
         },
         "mode": "markers",
         "name": "B002DKVG9E",
         "orientation": "v",
         "showlegend": true,
         "type": "scatter",
         "x": {
          "bdata": "AAAAAAAANEA=",
          "dtype": "f8"
         },
         "xaxis": "x",
         "y": {
          "bdata": "AAAAAAAAEkA=",
          "dtype": "f8"
         },
         "yaxis": "y"
        },
        {
         "hovertemplate": "<b>%{hovertext}</b><br><br>ASIN=B004IYZ17Q<br>Price=%{x}<br>Rating=%{y}<extra></extra>",
         "hovertext": [
          "B004IYZ17Q"
         ],
         "legendgroup": "B004IYZ17Q",
         "marker": {
          "color": "#00cc96",
          "symbol": "circle"
         },
         "mode": "markers",
         "name": "B004IYZ17Q",
         "orientation": "v",
         "showlegend": true,
         "type": "scatter",
         "x": {
          "bdata": "9ihcj8J1SkA=",
          "dtype": "f8"
         },
         "xaxis": "x",
         "y": {
          "bdata": "zczMzMzMEkA=",
          "dtype": "f8"
         },
         "yaxis": "y"
        },
        {
         "hovertemplate": "<b>%{hovertext}</b><br><br>ASIN=B0CZSGWLCY<br>Price=%{x}<br>Rating=%{y}<extra></extra>",
         "hovertext": [
          "B0CZSGWLCY"
         ],
         "legendgroup": "B0CZSGWLCY",
         "marker": {
          "color": "#ab63fa",
          "symbol": "circle"
         },
         "mode": "markers",
         "name": "B0CZSGWLCY",
         "orientation": "v",
         "showlegend": true,
         "type": "scatter",
         "x": {
          "bdata": "AAAAAACAW0A=",
          "dtype": "f8"
         },
         "xaxis": "x",
         "y": {
          "bdata": "mpmZmZmZEUA=",
          "dtype": "f8"
         },
         "yaxis": "y"
        },
        {
         "hovertemplate": "<b>%{hovertext}</b><br><br>ASIN=B099KV9JCB<br>Price=%{x}<br>Rating=%{y}<extra></extra>",
         "hovertext": [
          "B099KV9JCB"
         ],
         "legendgroup": "B099KV9JCB",
         "marker": {
          "color": "#FFA15A",
          "symbol": "circle"
         },
         "mode": "markers",
         "name": "B099KV9JCB",
         "orientation": "v",
         "showlegend": true,
         "type": "scatter",
         "x": {
          "bdata": "AAAAAAC4ekA=",
          "dtype": "f8"
         },
         "xaxis": "x",
         "y": {
          "bdata": "AAAAAAAAEkA=",
          "dtype": "f8"
         },
         "yaxis": "y"
        },
        {
         "hovertemplate": "<b>%{hovertext}</b><br><br>ASIN=B0D2XSL28P<br>Price=%{x}<br>Rating=%{y}<extra></extra>",
         "hovertext": [
          "B0D2XSL28P"
         ],
         "legendgroup": "B0D2XSL28P",
         "marker": {
          "color": "#19d3f3",
          "symbol": "circle"
         },
         "mode": "markers",
         "name": "B0D2XSL28P",
         "orientation": "v",
         "showlegend": true,
         "type": "scatter",
         "x": {
          "bdata": "PQrXo3D9R0A=",
          "dtype": "f8"
         },
         "xaxis": "x",
         "y": {
          "bdata": "mpmZmZmZEUA=",
          "dtype": "f8"
         },
         "yaxis": "y"
        },
        {
         "hovertemplate": "<b>%{hovertext}</b><br><br>ASIN=B001RNOALO<br>Price=%{x}<br>Rating=%{y}<extra></extra>",
         "hovertext": [
          "B001RNOALO"
         ],
         "legendgroup": "B001RNOALO",
         "marker": {
          "color": "#FF6692",
          "symbol": "circle"
         },
         "mode": "markers",
         "name": "B001RNOALO",
         "orientation": "v",
         "showlegend": true,
         "type": "scatter",
         "x": {
          "bdata": "4XoUrkehQ0A=",
          "dtype": "f8"
         },
         "xaxis": "x",
         "y": {
          "bdata": "mpmZmZmZEUA=",
          "dtype": "f8"
         },
         "yaxis": "y"
        },
        {
         "hovertemplate": "<b>%{hovertext}</b><br><br>ASIN=B01JPU4MO0<br>Price=%{x}<br>Rating=%{y}<extra></extra>",
         "hovertext": [
          "B01JPU4MO0"
         ],
         "legendgroup": "B01JPU4MO0",
         "marker": {
          "color": "#B6E880",
          "symbol": "circle"
         },
         "mode": "markers",
         "name": "B01JPU4MO0",
         "orientation": "v",
         "showlegend": true,
         "type": "scatter",
         "x": {
          "bdata": "zczMzMz8WkA=",
          "dtype": "f8"
         },
         "xaxis": "x",
         "y": {
          "bdata": "ZmZmZmZmEkA=",
          "dtype": "f8"
         },
         "yaxis": "y"
        },
        {
         "hovertemplate": "<b>%{hovertext}</b><br><br>ASIN=B07TJW59YZ<br>Price=%{x}<br>Rating=%{y}<extra></extra>",
         "hovertext": [
          "B07TJW59YZ"
         ],
         "legendgroup": "B07TJW59YZ",
         "marker": {
          "color": "#FF97FF",
          "symbol": "circle"
         },
         "mode": "markers",
         "name": "B07TJW59YZ",
         "orientation": "v",
         "showlegend": true,
         "type": "scatter",
         "x": {
          "bdata": "PQrXo3D9Q0A=",
          "dtype": "f8"
         },
         "xaxis": "x",
         "y": {
          "bdata": "mpmZmZmZEUA=",
          "dtype": "f8"
         },
         "yaxis": "y"
        },
        {
         "hovertemplate": "<b>%{hovertext}</b><br><br>ASIN=B0053EXMX0<br>Price=%{x}<br>Rating=%{y}<extra></extra>",
         "hovertext": [
          "B0053EXMX0"
         ],
         "legendgroup": "B0053EXMX0",
         "marker": {
          "color": "#FECB52",
          "symbol": "circle"
         },
         "mode": "markers",
         "name": "B0053EXMX0",
         "orientation": "v",
         "showlegend": true,
         "type": "scatter",
         "x": {
          "bdata": "w/UoXI/yYEA=",
          "dtype": "f8"
         },
         "xaxis": "x",
         "y": {
          "bdata": "zczMzMzMEEA=",
          "dtype": "f8"
         },
         "yaxis": "y"
        },
        {
         "hovertemplate": "<b>%{hovertext}</b><br><br>ASIN=B01AFTLZKY<br>Price=%{x}<br>Rating=%{y}<extra></extra>",
         "hovertext": [
          "B01AFTLZKY"
         ],
         "legendgroup": "B01AFTLZKY",
         "marker": {
          "color": "#636efa",
          "symbol": "circle"
         },
         "mode": "markers",
         "name": "B01AFTLZKY",
         "orientation": "v",
         "showlegend": true,
         "type": "scatter",
         "x": {
          "bdata": "zczMzMx8V0A=",
          "dtype": "f8"
         },
         "xaxis": "x",
         "y": {
          "bdata": "ZmZmZmZmEkA=",
          "dtype": "f8"
         },
         "yaxis": "y"
        },
        {
         "hovertemplate": "<b>%{hovertext}</b><br><br>ASIN=B00A9WVTJ0<br>Price=%{x}<br>Rating=%{y}<extra></extra>",
         "hovertext": [
          "B00A9WVTJ0"
         ],
         "legendgroup": "B00A9WVTJ0",
         "marker": {
          "color": "#EF553B",
          "symbol": "circle"
         },
         "mode": "markers",
         "name": "B00A9WVTJ0",
         "orientation": "v",
         "showlegend": true,
         "type": "scatter",
         "x": {
          "bdata": "cT0K16OgV0A=",
          "dtype": "f8"
         },
         "xaxis": "x",
         "y": {
          "bdata": "ZmZmZmZmEkA=",
          "dtype": "f8"
         },
         "yaxis": "y"
        },
        {
         "hovertemplate": "<b>%{hovertext}</b><br><br>ASIN=B07GMSXZBM<br>Price=%{x}<br>Rating=%{y}<extra></extra>",
         "hovertext": [
          "B07GMSXZBM"
         ],
         "legendgroup": "B07GMSXZBM",
         "marker": {
          "color": "#00cc96",
          "symbol": "circle"
         },
         "mode": "markers",
         "name": "B07GMSXZBM",
         "orientation": "v",
         "showlegend": true,
         "type": "scatter",
         "x": {
          "bdata": "PQrXo3B9Q0A=",
          "dtype": "f8"
         },
         "xaxis": "x",
         "y": {
          "bdata": "ZmZmZmZmEkA=",
          "dtype": "f8"
         },
         "yaxis": "y"
        },
        {
         "hovertemplate": "<b>%{hovertext}</b><br><br>ASIN=B0D7C5SNB6<br>Price=%{x}<br>Rating=%{y}<extra></extra>",
         "hovertext": [
          "B0D7C5SNB6"
         ],
         "legendgroup": "B0D7C5SNB6",
         "marker": {
          "color": "#ab63fa",
          "symbol": "circle"
         },
         "mode": "markers",
         "name": "B0D7C5SNB6",
         "orientation": "v",
         "showlegend": true,
         "type": "scatter",
         "x": {
          "bdata": "cT0K16NwQ0A=",
          "dtype": "f8"
         },
         "xaxis": "x",
         "y": {
          "bdata": "MzMzMzMzEUA=",
          "dtype": "f8"
         },
         "yaxis": "y"
        },
        {
         "hovertemplate": "<b>%{hovertext}</b><br><br>ASIN=B08Z3337B6<br>Price=%{x}<br>Rating=%{y}<extra></extra>",
         "hovertext": [
          "B08Z3337B6"
         ],
         "legendgroup": "B08Z3337B6",
         "marker": {
          "color": "#FFA15A",
          "symbol": "circle"
         },
         "mode": "markers",
         "name": "B08Z3337B6",
         "orientation": "v",
         "showlegend": true,
         "type": "scatter",
         "x": {
          "bdata": "FK5H4XpUQ0A=",
          "dtype": "f8"
         },
         "xaxis": "x",
         "y": {
          "bdata": "AAAAAAAAEEA=",
          "dtype": "f8"
         },
         "yaxis": "y"
        },
        {
         "hovertemplate": "<b>%{hovertext}</b><br><br>ASIN=B087YZ3G9D<br>Price=%{x}<br>Rating=%{y}<extra></extra>",
         "hovertext": [
          "B087YZ3G9D"
         ],
         "legendgroup": "B087YZ3G9D",
         "marker": {
          "color": "#19d3f3",
          "symbol": "circle"
         },
         "mode": "markers",
         "name": "B087YZ3G9D",
         "orientation": "v",
         "showlegend": true,
         "type": "scatter",
         "x": {
          "bdata": "7FG4HoXrNUA=",
          "dtype": "f8"
         },
         "xaxis": "x",
         "y": {
          "bdata": "ZmZmZmZmEkA=",
          "dtype": "f8"
         },
         "yaxis": "y"
        },
        {
         "hovertemplate": "<b>%{hovertext}</b><br><br>ASIN=B004VR9HP2<br>Price=%{x}<br>Rating=%{y}<extra></extra>",
         "hovertext": [
          "B004VR9HP2"
         ],
         "legendgroup": "B004VR9HP2",
         "marker": {
          "color": "#FF6692",
          "symbol": "circle"
         },
         "mode": "markers",
         "name": "B004VR9HP2",
         "orientation": "v",
         "showlegend": true,
         "type": "scatter",
         "x": {
          "bdata": "PQrXo3C9QkA=",
          "dtype": "f8"
         },
         "xaxis": "x",
         "y": {
          "bdata": "AAAAAAAAEkA=",
          "dtype": "f8"
         },
         "yaxis": "y"
        },
        {
         "hovertemplate": "<b>%{hovertext}</b><br><br>ASIN=B000GAYQL8<br>Price=%{x}<br>Rating=%{y}<extra></extra>",
         "hovertext": [
          "B000GAYQL8"
         ],
         "legendgroup": "B000GAYQL8",
         "marker": {
          "color": "#B6E880",
          "symbol": "circle"
         },
         "mode": "markers",
         "name": "B000GAYQL8",
         "orientation": "v",
         "showlegend": true,
         "type": "scatter",
         "x": {
          "bdata": "AAAAAABAS0A=",
          "dtype": "f8"
         },
         "xaxis": "x",
         "y": {
          "bdata": "zczMzMzMEkA=",
          "dtype": "f8"
         },
         "yaxis": "y"
        },
        {
         "hovertemplate": "<b>%{hovertext}</b><br><br>ASIN=B01N9HTWNE<br>Price=%{x}<br>Rating=%{y}<extra></extra>",
         "hovertext": [
          "B01N9HTWNE"
         ],
         "legendgroup": "B01N9HTWNE",
         "marker": {
          "color": "#FF97FF",
          "symbol": "circle"
         },
         "mode": "markers",
         "name": "B01N9HTWNE",
         "orientation": "v",
         "showlegend": true,
         "type": "scatter",
         "x": {
          "bdata": "ZmZmZmbmQkA=",
          "dtype": "f8"
         },
         "xaxis": "x",
         "y": {
          "bdata": "mpmZmZmZEUA=",
          "dtype": "f8"
         },
         "yaxis": "y"
        },
        {
         "hovertemplate": "<b>%{hovertext}</b><br><br>ASIN=B000JQJS6M<br>Price=%{x}<br>Rating=%{y}<extra></extra>",
         "hovertext": [
          "B000JQJS6M"
         ],
         "legendgroup": "B000JQJS6M",
         "marker": {
          "color": "#FECB52",
          "symbol": "circle"
         },
         "mode": "markers",
         "name": "B000JQJS6M",
         "orientation": "v",
         "showlegend": true,
         "type": "scatter",
         "x": {
          "bdata": "7FG4HoUrVUA=",
          "dtype": "f8"
         },
         "xaxis": "x",
         "y": {
          "bdata": "AAAAAAAAEkA=",
          "dtype": "f8"
         },
         "yaxis": "y"
        },
        {
         "hovertemplate": "<b>%{hovertext}</b><br><br>ASIN=B09GW31VR3<br>Price=%{x}<br>Rating=%{y}<extra></extra>",
         "hovertext": [
          "B09GW31VR3"
         ],
         "legendgroup": "B09GW31VR3",
         "marker": {
          "color": "#636efa",
          "symbol": "circle"
         },
         "mode": "markers",
         "name": "B09GW31VR3",
         "orientation": "v",
         "showlegend": true,
         "type": "scatter",
         "x": {
          "bdata": "uB6F61EgYEA=",
          "dtype": "f8"
         },
         "xaxis": "x",
         "y": {
          "bdata": "zczMzMzMEkA=",
          "dtype": "f8"
         },
         "yaxis": "y"
        },
        {
         "hovertemplate": "<b>%{hovertext}</b><br><br>ASIN=B0733PJGWX<br>Price=%{x}<br>Rating=%{y}<extra></extra>",
         "hovertext": [
          "B0733PJGWX"
         ],
         "legendgroup": "B0733PJGWX",
         "marker": {
          "color": "#EF553B",
          "symbol": "circle"
         },
         "mode": "markers",
         "name": "B0733PJGWX",
         "orientation": "v",
         "showlegend": true,
         "type": "scatter",
         "x": {
          "bdata": "H4XrUbh+bUA=",
          "dtype": "f8"
         },
         "xaxis": "x",
         "y": {
          "bdata": "ZmZmZmZmEkA=",
          "dtype": "f8"
         },
         "yaxis": "y"
        },
        {
         "hovertemplate": "<b>%{hovertext}</b><br><br>ASIN=B07MQWCNHB<br>Price=%{x}<br>Rating=%{y}<extra></extra>",
         "hovertext": [
          "B07MQWCNHB"
         ],
         "legendgroup": "B07MQWCNHB",
         "marker": {
          "color": "#00cc96",
          "symbol": "circle"
         },
         "mode": "markers",
         "name": "B07MQWCNHB",
         "orientation": "v",
         "showlegend": true,
         "type": "scatter",
         "x": {
          "bdata": "ZmZmZmZeakA=",
          "dtype": "f8"
         },
         "xaxis": "x",
         "y": {
          "bdata": "zczMzMzMEkA=",
          "dtype": "f8"
         },
         "yaxis": "y"
        },
        {
         "hovertemplate": "<b>%{hovertext}</b><br><br>ASIN=B076B2MR5B<br>Price=%{x}<br>Rating=%{y}<extra></extra>",
         "hovertext": [
          "B076B2MR5B"
         ],
         "legendgroup": "B076B2MR5B",
         "marker": {
          "color": "#ab63fa",
          "symbol": "circle"
         },
         "mode": "markers",
         "name": "B076B2MR5B",
         "orientation": "v",
         "showlegend": true,
         "type": "scatter",
         "x": {
          "bdata": "w/UoXI9KZUA=",
          "dtype": "f8"
         },
         "xaxis": "x",
         "y": {
          "bdata": "AAAAAAAAEkA=",
          "dtype": "f8"
         },
         "yaxis": "y"
        },
        {
         "hovertemplate": "<b>%{hovertext}</b><br><br>ASIN=B000GAYQLI<br>Price=%{x}<br>Rating=%{y}<extra></extra>",
         "hovertext": [
          "B000GAYQLI"
         ],
         "legendgroup": "B000GAYQLI",
         "marker": {
          "color": "#FFA15A",
          "symbol": "circle"
         },
         "mode": "markers",
         "name": "B000GAYQLI",
         "orientation": "v",
         "showlegend": true,
         "type": "scatter",
         "x": {
          "bdata": "cT0K16PwSEA=",
          "dtype": "f8"
         },
         "xaxis": "x",
         "y": {
          "bdata": "ZmZmZmZmEkA=",
          "dtype": "f8"
         },
         "yaxis": "y"
        },
        {
         "hovertemplate": "<b>%{hovertext}</b><br><br>ASIN=B00DUCIMCI<br>Price=%{x}<br>Rating=%{y}<extra></extra>",
         "hovertext": [
          "B00DUCIMCI"
         ],
         "legendgroup": "B00DUCIMCI",
         "marker": {
          "color": "#19d3f3",
          "symbol": "circle"
         },
         "mode": "markers",
         "name": "B00DUCIMCI",
         "orientation": "v",
         "showlegend": true,
         "type": "scatter",
         "x": {
          "bdata": "AAAAAAAAW0A=",
          "dtype": "f8"
         },
         "xaxis": "x",
         "y": {
          "bdata": "ZmZmZmZmEkA=",
          "dtype": "f8"
         },
         "yaxis": "y"
        },
        {
         "hovertemplate": "<b>%{hovertext}</b><br><br>ASIN=B0D7C6CRNC<br>Price=%{x}<br>Rating=%{y}<extra></extra>",
         "hovertext": [
          "B0D7C6CRNC"
         ],
         "legendgroup": "B0D7C6CRNC",
         "marker": {
          "color": "#FF6692",
          "symbol": "circle"
         },
         "mode": "markers",
         "name": "B0D7C6CRNC",
         "orientation": "v",
         "showlegend": true,
         "type": "scatter",
         "x": {
          "bdata": "cT0K16NwQ0A=",
          "dtype": "f8"
         },
         "xaxis": "x",
         "y": {
          "bdata": "MzMzMzMzEUA=",
          "dtype": "f8"
         },
         "yaxis": "y"
        },
        {
         "hovertemplate": "<b>%{hovertext}</b><br><br>ASIN=B0D3QVFBMF<br>Price=%{x}<br>Rating=%{y}<extra></extra>",
         "hovertext": [
          "B0D3QVFBMF"
         ],
         "legendgroup": "B0D3QVFBMF",
         "marker": {
          "color": "#B6E880",
          "symbol": "circle"
         },
         "mode": "markers",
         "name": "B0D3QVFBMF",
         "orientation": "v",
         "showlegend": true,
         "type": "scatter",
         "x": {
          "bdata": "PQrXo3D9O0A=",
          "dtype": "f8"
         },
         "xaxis": "x",
         "y": {
          "bdata": "zczMzMzMEEA=",
          "dtype": "f8"
         },
         "yaxis": "y"
        },
        {
         "hovertemplate": "<b>%{hovertext}</b><br><br>ASIN=B000SQM5AY<br>Price=%{x}<br>Rating=%{y}<extra></extra>",
         "hovertext": [
          "B000SQM5AY"
         ],
         "legendgroup": "B000SQM5AY",
         "marker": {
          "color": "#FF97FF",
          "symbol": "circle"
         },
         "mode": "markers",
         "name": "B000SQM5AY",
         "orientation": "v",
         "showlegend": true,
         "type": "scatter",
         "x": {
          "bdata": "ZmZmZmYmSEA=",
          "dtype": "f8"
         },
         "xaxis": "x",
         "y": {
          "bdata": "mpmZmZmZEUA=",
          "dtype": "f8"
         },
         "yaxis": "y"
        },
        {
         "hovertemplate": "<b>%{hovertext}</b><br><br>ASIN=B004VRD6FY<br>Price=%{x}<br>Rating=%{y}<extra></extra>",
         "hovertext": [
          "B004VRD6FY"
         ],
         "legendgroup": "B004VRD6FY",
         "marker": {
          "color": "#FECB52",
          "symbol": "circle"
         },
         "mode": "markers",
         "name": "B004VRD6FY",
         "orientation": "v",
         "showlegend": true,
         "type": "scatter",
         "x": {
          "bdata": "9ihcj8L1RUA=",
          "dtype": "f8"
         },
         "xaxis": "x",
         "y": {
          "bdata": "mpmZmZmZEUA=",
          "dtype": "f8"
         },
         "yaxis": "y"
        },
        {
         "hovertemplate": "<b>%{hovertext}</b><br><br>ASIN=B00CB9A47W<br>Price=%{x}<br>Rating=%{y}<extra></extra>",
         "hovertext": [
          "B00CB9A47W"
         ],
         "legendgroup": "B00CB9A47W",
         "marker": {
          "color": "#636efa",
          "symbol": "circle"
         },
         "mode": "markers",
         "name": "B00CB9A47W",
         "orientation": "v",
         "showlegend": true,
         "type": "scatter",
         "x": {
          "bdata": "AAAAAADAZUA=",
          "dtype": "f8"
         },
         "xaxis": "x",
         "y": {
          "bdata": "AAAAAAAAEkA=",
          "dtype": "f8"
         },
         "yaxis": "y"
        },
        {
         "hovertemplate": "<b>%{hovertext}</b><br><br>ASIN=B07CGPZD27<br>Price=%{x}<br>Rating=%{y}<extra></extra>",
         "hovertext": [
          "B07CGPZD27",
          "B07CGPZD27"
         ],
         "legendgroup": "B07CGPZD27",
         "marker": {
          "color": "#EF553B",
          "symbol": "circle"
         },
         "mode": "markers",
         "name": "B07CGPZD27",
         "orientation": "v",
         "showlegend": true,
         "type": "scatter",
         "x": {
          "bdata": "mpmZmZkpZ0CamZmZmSlnQA==",
          "dtype": "f8"
         },
         "xaxis": "x",
         "y": {
          "bdata": "ZmZmZmZmEkBmZmZmZmYSQA==",
          "dtype": "f8"
         },
         "yaxis": "y"
        },
        {
         "hovertemplate": "<b>%{hovertext}</b><br><br>ASIN=B01L0APB5C<br>Price=%{x}<br>Rating=%{y}<extra></extra>",
         "hovertext": [
          "B01L0APB5C"
         ],
         "legendgroup": "B01L0APB5C",
         "marker": {
          "color": "#00cc96",
          "symbol": "circle"
         },
         "mode": "markers",
         "name": "B01L0APB5C",
         "orientation": "v",
         "showlegend": true,
         "type": "scatter",
         "x": {
          "bdata": "7FG4HoXrOkA=",
          "dtype": "f8"
         },
         "xaxis": "x",
         "y": {
          "bdata": "mpmZmZmZEUA=",
          "dtype": "f8"
         },
         "yaxis": "y"
        },
        {
         "hovertemplate": "<b>%{hovertext}</b><br><br>ASIN=B07YQRKJP4<br>Price=%{x}<br>Rating=%{y}<extra></extra>",
         "hovertext": [
          "B07YQRKJP4"
         ],
         "legendgroup": "B07YQRKJP4",
         "marker": {
          "color": "#ab63fa",
          "symbol": "circle"
         },
         "mode": "markers",
         "name": "B07YQRKJP4",
         "orientation": "v",
         "showlegend": true,
         "type": "scatter",
         "x": {
          "bdata": "PQrXo3D9PkA=",
          "dtype": "f8"
         },
         "xaxis": "x",
         "y": {
          "bdata": "MzMzMzMzEUA=",
          "dtype": "f8"
         },
         "yaxis": "y"
        },
        {
         "hovertemplate": "<b>%{hovertext}</b><br><br>ASIN=B07NVTLGXY<br>Price=%{x}<br>Rating=%{y}<extra></extra>",
         "hovertext": [
          "B07NVTLGXY"
         ],
         "legendgroup": "B07NVTLGXY",
         "marker": {
          "color": "#FFA15A",
          "symbol": "circle"
         },
         "mode": "markers",
         "name": "B07NVTLGXY",
         "orientation": "v",
         "showlegend": true,
         "type": "scatter",
         "x": {
          "bdata": "AAAAAAAAVUA=",
          "dtype": "f8"
         },
         "xaxis": "x",
         "y": {
          "bdata": "zczMzMzMEEA=",
          "dtype": "f8"
         },
         "yaxis": "y"
        },
        {
         "hovertemplate": "<b>%{hovertext}</b><br><br>ASIN=B079G3P4DB<br>Price=%{x}<br>Rating=%{y}<extra></extra>",
         "hovertext": [
          "B079G3P4DB"
         ],
         "legendgroup": "B079G3P4DB",
         "marker": {
          "color": "#19d3f3",
          "symbol": "circle"
         },
         "mode": "markers",
         "name": "B079G3P4DB",
         "orientation": "v",
         "showlegend": true,
         "type": "scatter",
         "x": {
          "bdata": "j8L1KFxfcUA=",
          "dtype": "f8"
         },
         "xaxis": "x",
         "y": {
          "bdata": "zczMzMzMEkA=",
          "dtype": "f8"
         },
         "yaxis": "y"
        },
        {
         "hovertemplate": "<b>%{hovertext}</b><br><br>ASIN=B08HHNH94K<br>Price=%{x}<br>Rating=%{y}<extra></extra>",
         "hovertext": [
          "B08HHNH94K"
         ],
         "legendgroup": "B08HHNH94K",
         "marker": {
          "color": "#FF6692",
          "symbol": "circle"
         },
         "mode": "markers",
         "name": "B08HHNH94K",
         "orientation": "v",
         "showlegend": true,
         "type": "scatter",
         "x": {
          "bdata": "Urgehes1dUA=",
          "dtype": "f8"
         },
         "xaxis": "x",
         "y": {
          "bdata": "ZmZmZmZmEkA=",
          "dtype": "f8"
         },
         "yaxis": "y"
        },
        {
         "hovertemplate": "<b>%{hovertext}</b><br><br>ASIN=B002DL2GHE<br>Price=%{x}<br>Rating=%{y}<extra></extra>",
         "hovertext": [
          "B002DL2GHE"
         ],
         "legendgroup": "B002DL2GHE",
         "marker": {
          "color": "#B6E880",
          "symbol": "circle"
         },
         "mode": "markers",
         "name": "B002DL2GHE",
         "orientation": "v",
         "showlegend": true,
         "type": "scatter",
         "x": {
          "bdata": "SOF6FK6HQUA=",
          "dtype": "f8"
         },
         "xaxis": "x",
         "y": {
          "bdata": "ZmZmZmZmEkA=",
          "dtype": "f8"
         },
         "yaxis": "y"
        },
        {
         "hovertemplate": "<b>%{hovertext}</b><br><br>ASIN=B00LW3RP0W<br>Price=%{x}<br>Rating=%{y}<extra></extra>",
         "hovertext": [
          "B00LW3RP0W"
         ],
         "legendgroup": "B00LW3RP0W",
         "marker": {
          "color": "#FF97FF",
          "symbol": "circle"
         },
         "mode": "markers",
         "name": "B00LW3RP0W",
         "orientation": "v",
         "showlegend": true,
         "type": "scatter",
         "x": {
          "bdata": "ZmZmZmamS0A=",
          "dtype": "f8"
         },
         "xaxis": "x",
         "y": {
          "bdata": "mpmZmZmZEUA=",
          "dtype": "f8"
         },
         "yaxis": "y"
        },
        {
         "hovertemplate": "<b>%{hovertext}</b><br><br>ASIN=B092RCLKHN<br>Price=%{x}<br>Rating=%{y}<extra></extra>",
         "hovertext": [
          "B092RCLKHN",
          "B092RCLKHN"
         ],
         "legendgroup": "B092RCLKHN",
         "marker": {
          "color": "#FECB52",
          "symbol": "circle"
         },
         "mode": "markers",
         "name": "B092RCLKHN",
         "orientation": "v",
         "showlegend": true,
         "type": "scatter",
         "x": {
          "bdata": "SOF6FK6fZEBI4XoUrp9kQA==",
          "dtype": "f8"
         },
         "xaxis": "x",
         "y": {
          "bdata": "AAAAAAAAEkAAAAAAAAASQA==",
          "dtype": "f8"
         },
         "yaxis": "y"
        },
        {
         "hovertemplate": "<b>%{hovertext}</b><br><br>ASIN=B07RHBXSR7<br>Price=%{x}<br>Rating=%{y}<extra></extra>",
         "hovertext": [
          "B07RHBXSR7"
         ],
         "legendgroup": "B07RHBXSR7",
         "marker": {
          "color": "#636efa",
          "symbol": "circle"
         },
         "mode": "markers",
         "name": "B07RHBXSR7",
         "orientation": "v",
         "showlegend": true,
         "type": "scatter",
         "x": {
          "bdata": "AAAAAACAT0A=",
          "dtype": "f8"
         },
         "xaxis": "x",
         "y": {
          "bdata": "ZmZmZmZmEkA=",
          "dtype": "f8"
         },
         "yaxis": "y"
        },
        {
         "hovertemplate": "<b>%{hovertext}</b><br><br>ASIN=B09J8SKX9G<br>Price=%{x}<br>Rating=%{y}<extra></extra>",
         "hovertext": [
          "B09J8SKX9G",
          "B09J8SKX9G"
         ],
         "legendgroup": "B09J8SKX9G",
         "marker": {
          "color": "#EF553B",
          "symbol": "circle"
         },
         "mode": "markers",
         "name": "B09J8SKX9G",
         "orientation": "v",
         "showlegend": true,
         "type": "scatter",
         "x": {
          "bdata": "PQrXo3D9PUA9CtejcP09QA==",
          "dtype": "f8"
         },
         "xaxis": "x",
         "y": {
          "bdata": "AAAAAAAAEEAAAAAAAAAQQA==",
          "dtype": "f8"
         },
         "yaxis": "y"
        },
        {
         "hovertemplate": "<b>%{hovertext}</b><br><br>ASIN=B0DPQGBBCL<br>Price=%{x}<br>Rating=%{y}<extra></extra>",
         "hovertext": [
          "B0DPQGBBCL",
          "B0DPQGBBCL"
         ],
         "legendgroup": "B0DPQGBBCL",
         "marker": {
          "color": "#00cc96",
          "symbol": "circle"
         },
         "mode": "markers",
         "name": "B0DPQGBBCL",
         "orientation": "v",
         "showlegend": true,
         "type": "scatter",
         "x": {
          "bdata": "ZmZmZmZmPkBmZmZmZmY+QA==",
          "dtype": "f8"
         },
         "xaxis": "x",
         "y": {
          "bdata": "zczMzMzMEEDNzMzMzMwQQA==",
          "dtype": "f8"
         },
         "yaxis": "y"
        },
        {
         "hovertemplate": "<b>%{hovertext}</b><br><br>ASIN=B01KUFIHAE<br>Price=%{x}<br>Rating=%{y}<extra></extra>",
         "hovertext": [
          "B01KUFIHAE"
         ],
         "legendgroup": "B01KUFIHAE",
         "marker": {
          "color": "#ab63fa",
          "symbol": "circle"
         },
         "mode": "markers",
         "name": "B01KUFIHAE",
         "orientation": "v",
         "showlegend": true,
         "type": "scatter",
         "x": {
          "bdata": "AAAAAAAAbkA=",
          "dtype": "f8"
         },
         "xaxis": "x",
         "y": {
          "bdata": "AAAAAAAAEkA=",
          "dtype": "f8"
         },
         "yaxis": "y"
        },
        {
         "hovertemplate": "<b>%{hovertext}</b><br><br>ASIN=B0088BMX44<br>Price=%{x}<br>Rating=%{y}<extra></extra>",
         "hovertext": [
          "B0088BMX44"
         ],
         "legendgroup": "B0088BMX44",
         "marker": {
          "color": "#FFA15A",
          "symbol": "circle"
         },
         "mode": "markers",
         "name": "B0088BMX44",
         "orientation": "v",
         "showlegend": true,
         "type": "scatter",
         "x": {
          "bdata": "AAAAAACEcUA=",
          "dtype": "f8"
         },
         "xaxis": "x",
         "y": {
          "bdata": "ZmZmZmZmEkA=",
          "dtype": "f8"
         },
         "yaxis": "y"
        },
        {
         "hovertemplate": "<b>%{hovertext}</b><br><br>ASIN=B0733PXTWG<br>Price=%{x}<br>Rating=%{y}<extra></extra>",
         "hovertext": [
          "B0733PXTWG"
         ],
         "legendgroup": "B0733PXTWG",
         "marker": {
          "color": "#19d3f3",
          "symbol": "circle"
         },
         "mode": "markers",
         "name": "B0733PXTWG",
         "orientation": "v",
         "showlegend": true,
         "type": "scatter",
         "x": {
          "bdata": "H4XrUbgeb0A=",
          "dtype": "f8"
         },
         "xaxis": "x",
         "y": {
          "bdata": "ZmZmZmZmEkA=",
          "dtype": "f8"
         },
         "yaxis": "y"
        },
        {
         "hovertemplate": "<b>%{hovertext}</b><br><br>ASIN=B07N6PLDP2<br>Price=%{x}<br>Rating=%{y}<extra></extra>",
         "hovertext": [
          "B07N6PLDP2"
         ],
         "legendgroup": "B07N6PLDP2",
         "marker": {
          "color": "#FF6692",
          "symbol": "circle"
         },
         "mode": "markers",
         "name": "B07N6PLDP2",
         "orientation": "v",
         "showlegend": true,
         "type": "scatter",
         "x": {
          "bdata": "rkfhehSuMUA=",
          "dtype": "f8"
         },
         "xaxis": "x",
         "y": {
          "bdata": "AAAAAAAAEkA=",
          "dtype": "f8"
         },
         "yaxis": "y"
        },
        {
         "hovertemplate": "<b>%{hovertext}</b><br><br>ASIN=B079MFM7YM<br>Price=%{x}<br>Rating=%{y}<extra></extra>",
         "hovertext": [
          "B079MFM7YM"
         ],
         "legendgroup": "B079MFM7YM",
         "marker": {
          "color": "#B6E880",
          "symbol": "circle"
         },
         "mode": "markers",
         "name": "B079MFM7YM",
         "orientation": "v",
         "showlegend": true,
         "type": "scatter",
         "x": {
          "bdata": "zczMzMy8XUA=",
          "dtype": "f8"
         },
         "xaxis": "x",
         "y": {
          "bdata": "ZmZmZmZmEkA=",
          "dtype": "f8"
         },
         "yaxis": "y"
        },
        {
         "hovertemplate": "<b>%{hovertext}</b><br><br>ASIN=B07RHBY8MG<br>Price=%{x}<br>Rating=%{y}<extra></extra>",
         "hovertext": [
          "B07RHBY8MG"
         ],
         "legendgroup": "B07RHBY8MG",
         "marker": {
          "color": "#FF97FF",
          "symbol": "circle"
         },
         "mode": "markers",
         "name": "B07RHBY8MG",
         "orientation": "v",
         "showlegend": true,
         "type": "scatter",
         "x": {
          "bdata": "MzMzMzPzTUA=",
          "dtype": "f8"
         },
         "xaxis": "x",
         "y": {
          "bdata": "ZmZmZmZmEkA=",
          "dtype": "f8"
         },
         "yaxis": "y"
        },
        {
         "hovertemplate": "<b>%{hovertext}</b><br><br>ASIN=B00189VBSM<br>Price=%{x}<br>Rating=%{y}<extra></extra>",
         "hovertext": [
          "B00189VBSM"
         ],
         "legendgroup": "B00189VBSM",
         "marker": {
          "color": "#FECB52",
          "symbol": "circle"
         },
         "mode": "markers",
         "name": "B00189VBSM",
         "orientation": "v",
         "showlegend": true,
         "type": "scatter",
         "x": {
          "bdata": "SOF6FK5fYEA=",
          "dtype": "f8"
         },
         "xaxis": "x",
         "y": {
          "bdata": "MzMzMzMzD0A=",
          "dtype": "f8"
         },
         "yaxis": "y"
        },
        {
         "hovertemplate": "<b>%{hovertext}</b><br><br>ASIN=B0718XFS5P<br>Price=%{x}<br>Rating=%{y}<extra></extra>",
         "hovertext": [
          "B0718XFS5P"
         ],
         "legendgroup": "B0718XFS5P",
         "marker": {
          "color": "#636efa",
          "symbol": "circle"
         },
         "mode": "markers",
         "name": "B0718XFS5P",
         "orientation": "v",
         "showlegend": true,
         "type": "scatter",
         "x": {
          "bdata": "9ihcj8L1O0A=",
          "dtype": "f8"
         },
         "xaxis": "x",
         "y": {
          "bdata": "mpmZmZmZEUA=",
          "dtype": "f8"
         },
         "yaxis": "y"
        },
        {
         "hovertemplate": "<b>%{hovertext}</b><br><br>ASIN=B079D9VSZD<br>Price=%{x}<br>Rating=%{y}<extra></extra>",
         "hovertext": [
          "B079D9VSZD"
         ],
         "legendgroup": "B079D9VSZD",
         "marker": {
          "color": "#EF553B",
          "symbol": "circle"
         },
         "mode": "markers",
         "name": "B079D9VSZD",
         "orientation": "v",
         "showlegend": true,
         "type": "scatter",
         "x": {
          "bdata": "PQrXo3DNW0A=",
          "dtype": "f8"
         },
         "xaxis": "x",
         "y": {
          "bdata": "ZmZmZmZmEkA=",
          "dtype": "f8"
         },
         "yaxis": "y"
        },
        {
         "hovertemplate": "<b>%{hovertext}</b><br><br>ASIN=B09WVHWN73<br>Price=%{x}<br>Rating=%{y}<extra></extra>",
         "hovertext": [
          "B09WVHWN73"
         ],
         "legendgroup": "B09WVHWN73",
         "marker": {
          "color": "#00cc96",
          "symbol": "circle"
         },
         "mode": "markers",
         "name": "B09WVHWN73",
         "orientation": "v",
         "showlegend": true,
         "type": "scatter",
         "x": {
          "bdata": "PQrXo3D9NUA=",
          "dtype": "f8"
         },
         "xaxis": "x",
         "y": {
          "bdata": "zczMzMzMEEA=",
          "dtype": "f8"
         },
         "yaxis": "y"
        },
        {
         "hovertemplate": "<b>%{hovertext}</b><br><br>ASIN=B0DJNVXK1S<br>Price=%{x}<br>Rating=%{y}<extra></extra>",
         "hovertext": [
          "B0DJNVXK1S"
         ],
         "legendgroup": "B0DJNVXK1S",
         "marker": {
          "color": "#ab63fa",
          "symbol": "circle"
         },
         "mode": "markers",
         "name": "B0DJNVXK1S",
         "orientation": "v",
         "showlegend": true,
         "type": "scatter",
         "x": {
          "bdata": "H4XrUbj+TUA=",
          "dtype": "f8"
         },
         "xaxis": "x",
         "y": {
          "bdata": "AAAAAAAAEkA=",
          "dtype": "f8"
         },
         "yaxis": "y"
        },
        {
         "hovertemplate": "<b>%{hovertext}</b><br><br>ASIN=B00OU5Y318<br>Price=%{x}<br>Rating=%{y}<extra></extra>",
         "hovertext": [
          "B00OU5Y318"
         ],
         "legendgroup": "B00OU5Y318",
         "marker": {
          "color": "#FFA15A",
          "symbol": "circle"
         },
         "mode": "markers",
         "name": "B00OU5Y318",
         "orientation": "v",
         "showlegend": true,
         "type": "scatter",
         "x": {
          "bdata": "4XoUrkfhPEA=",
          "dtype": "f8"
         },
         "xaxis": "x",
         "y": {
          "bdata": "mpmZmZmZEUA=",
          "dtype": "f8"
         },
         "yaxis": "y"
        },
        {
         "hovertemplate": "<b>%{hovertext}</b><br><br>ASIN=B0D9KPLRY4<br>Price=%{x}<br>Rating=%{y}<extra></extra>",
         "hovertext": [
          "B0D9KPLRY4"
         ],
         "legendgroup": "B0D9KPLRY4",
         "marker": {
          "color": "#19d3f3",
          "symbol": "circle"
         },
         "mode": "markers",
         "name": "B0D9KPLRY4",
         "orientation": "v",
         "showlegend": true,
         "type": "scatter",
         "x": {
          "bdata": "PQrXo3D9OUA=",
          "dtype": "f8"
         },
         "xaxis": "x",
         "y": {
          "bdata": "ZmZmZmZmEEA=",
          "dtype": "f8"
         },
         "yaxis": "y"
        },
        {
         "hovertemplate": "<b>%{hovertext}</b><br><br>ASIN=B01N1IYFI1<br>Price=%{x}<br>Rating=%{y}<extra></extra>",
         "hovertext": [
          "B01N1IYFI1"
         ],
         "legendgroup": "B01N1IYFI1",
         "marker": {
          "color": "#FF6692",
          "symbol": "circle"
         },
         "mode": "markers",
         "name": "B01N1IYFI1",
         "orientation": "v",
         "showlegend": true,
         "type": "scatter",
         "x": {
          "bdata": "AAAAAABgQ0A=",
          "dtype": "f8"
         },
         "xaxis": "x",
         "y": {
          "bdata": "mpmZmZmZEUA=",
          "dtype": "f8"
         },
         "yaxis": "y"
        },
        {
         "hovertemplate": "<b>%{hovertext}</b><br><br>ASIN=B0CF5XZR93<br>Price=%{x}<br>Rating=%{y}<extra></extra>",
         "hovertext": [
          "B0CF5XZR93"
         ],
         "legendgroup": "B0CF5XZR93",
         "marker": {
          "color": "#B6E880",
          "symbol": "circle"
         },
         "mode": "markers",
         "name": "B0CF5XZR93",
         "orientation": "v",
         "showlegend": true,
         "type": "scatter",
         "x": {
          "bdata": "7FG4HoVTYkA=",
          "dtype": "f8"
         },
         "xaxis": "x",
         "y": {
          "bdata": "mpmZmZmZEUA=",
          "dtype": "f8"
         },
         "yaxis": "y"
        },
        {
         "hovertemplate": "<b>%{hovertext}</b><br><br>ASIN=B0BW2VKGXX<br>Price=%{x}<br>Rating=%{y}<extra></extra>",
         "hovertext": [
          "B0BW2VKGXX"
         ],
         "legendgroup": "B0BW2VKGXX",
         "marker": {
          "color": "#FF97FF",
          "symbol": "circle"
         },
         "mode": "markers",
         "name": "B0BW2VKGXX",
         "orientation": "v",
         "showlegend": true,
         "type": "scatter",
         "x": {
          "bdata": "cT0K16PMfkA=",
          "dtype": "f8"
         },
         "xaxis": "x",
         "y": {
          "bdata": "ZmZmZmZmEkA=",
          "dtype": "f8"
         },
         "yaxis": "y"
        },
        {
         "hovertemplate": "<b>%{hovertext}</b><br><br>ASIN=B07H2RCNVL<br>Price=%{x}<br>Rating=%{y}<extra></extra>",
         "hovertext": [
          "B07H2RCNVL"
         ],
         "legendgroup": "B07H2RCNVL",
         "marker": {
          "color": "#FECB52",
          "symbol": "circle"
         },
         "mode": "markers",
         "name": "B07H2RCNVL",
         "orientation": "v",
         "showlegend": true,
         "type": "scatter",
         "x": {
          "bdata": "AAAAAACAVEA=",
          "dtype": "f8"
         },
         "xaxis": "x",
         "y": {
          "bdata": "ZmZmZmZmEkA=",
          "dtype": "f8"
         },
         "yaxis": "y"
        },
        {
         "hovertemplate": "<b>%{hovertext}</b><br><br>ASIN=B01MROZPRJ<br>Price=%{x}<br>Rating=%{y}<extra></extra>",
         "hovertext": [
          "B01MROZPRJ"
         ],
         "legendgroup": "B01MROZPRJ",
         "marker": {
          "color": "#636efa",
          "symbol": "circle"
         },
         "mode": "markers",
         "name": "B01MROZPRJ",
         "orientation": "v",
         "showlegend": true,
         "type": "scatter",
         "x": {
          "bdata": "mpmZmZl5UUA=",
          "dtype": "f8"
         },
         "xaxis": "x",
         "y": {
          "bdata": "AAAAAAAAEkA=",
          "dtype": "f8"
         },
         "yaxis": "y"
        },
        {
         "hovertemplate": "<b>%{hovertext}</b><br><br>ASIN=B0DK6Q977V<br>Price=%{x}<br>Rating=%{y}<extra></extra>",
         "hovertext": [
          "B0DK6Q977V"
         ],
         "legendgroup": "B0DK6Q977V",
         "marker": {
          "color": "#EF553B",
          "symbol": "circle"
         },
         "mode": "markers",
         "name": "B0DK6Q977V",
         "orientation": "v",
         "showlegend": true,
         "type": "scatter",
         "x": {
          "bdata": "cT0K16NwQ0A=",
          "dtype": "f8"
         },
         "xaxis": "x",
         "y": {
          "bdata": "MzMzMzMzD0A=",
          "dtype": "f8"
         },
         "yaxis": "y"
        },
        {
         "hovertemplate": "<b>%{hovertext}</b><br><br>ASIN=B0BKVT4KNC<br>Price=%{x}<br>Rating=%{y}<extra></extra>",
         "hovertext": [
          "B0BKVT4KNC"
         ],
         "legendgroup": "B0BKVT4KNC",
         "marker": {
          "color": "#00cc96",
          "symbol": "circle"
         },
         "mode": "markers",
         "name": "B0BKVT4KNC",
         "orientation": "v",
         "showlegend": true,
         "type": "scatter",
         "x": {
          "bdata": "w/UoXI/iQ0A=",
          "dtype": "f8"
         },
         "xaxis": "x",
         "y": {
          "bdata": "zczMzMzMEEA=",
          "dtype": "f8"
         },
         "yaxis": "y"
        },
        {
         "hovertemplate": "<b>%{hovertext}</b><br><br>ASIN=B00ZFTFX7G<br>Price=%{x}<br>Rating=%{y}<extra></extra>",
         "hovertext": [
          "B00ZFTFX7G"
         ],
         "legendgroup": "B00ZFTFX7G",
         "marker": {
          "color": "#ab63fa",
          "symbol": "circle"
         },
         "mode": "markers",
         "name": "B00ZFTFX7G",
         "orientation": "v",
         "showlegend": true,
         "type": "scatter",
         "x": {
          "bdata": "zczMzMw8VUA=",
          "dtype": "f8"
         },
         "xaxis": "x",
         "y": {
          "bdata": "AAAAAAAAEkA=",
          "dtype": "f8"
         },
         "yaxis": "y"
        },
        {
         "hovertemplate": "<b>%{hovertext}</b><br><br>ASIN=B000J39T2S<br>Price=%{x}<br>Rating=%{y}<extra></extra>",
         "hovertext": [
          "B000J39T2S"
         ],
         "legendgroup": "B000J39T2S",
         "marker": {
          "color": "#FFA15A",
          "symbol": "circle"
         },
         "mode": "markers",
         "name": "B000J39T2S",
         "orientation": "v",
         "showlegend": true,
         "type": "scatter",
         "x": {
          "bdata": "mpmZmZm5R0A=",
          "dtype": "f8"
         },
         "xaxis": "x",
         "y": {
          "bdata": "mpmZmZmZEUA=",
          "dtype": "f8"
         },
         "yaxis": "y"
        },
        {
         "hovertemplate": "<b>%{hovertext}</b><br><br>ASIN=B010EA7QFW<br>Price=%{x}<br>Rating=%{y}<extra></extra>",
         "hovertext": [
          "B010EA7QFW"
         ],
         "legendgroup": "B010EA7QFW",
         "marker": {
          "color": "#19d3f3",
          "symbol": "circle"
         },
         "mode": "markers",
         "name": "B010EA7QFW",
         "orientation": "v",
         "showlegend": true,
         "type": "scatter",
         "x": {
          "bdata": "zczMzMx8UUA=",
          "dtype": "f8"
         },
         "xaxis": "x",
         "y": {
          "bdata": "ZmZmZmZmEkA=",
          "dtype": "f8"
         },
         "yaxis": "y"
        },
        {
         "hovertemplate": "<b>%{hovertext}</b><br><br>ASIN=B0D7ZYXTWR<br>Price=%{x}<br>Rating=%{y}<extra></extra>",
         "hovertext": [
          "B0D7ZYXTWR"
         ],
         "legendgroup": "B0D7ZYXTWR",
         "marker": {
          "color": "#FF6692",
          "symbol": "circle"
         },
         "mode": "markers",
         "name": "B0D7ZYXTWR",
         "orientation": "v",
         "showlegend": true,
         "type": "scatter",
         "x": {
          "bdata": "w/UoXI/iQ0A=",
          "dtype": "f8"
         },
         "xaxis": "x",
         "y": {
          "bdata": "ZmZmZmZmEEA=",
          "dtype": "f8"
         },
         "yaxis": "y"
        },
        {
         "hovertemplate": "<b>%{hovertext}</b><br><br>ASIN=B0BWN32Y3J<br>Price=%{x}<br>Rating=%{y}<extra></extra>",
         "hovertext": [
          "B0BWN32Y3J"
         ],
         "legendgroup": "B0BWN32Y3J",
         "marker": {
          "color": "#B6E880",
          "symbol": "circle"
         },
         "mode": "markers",
         "name": "B0BWN32Y3J",
         "orientation": "v",
         "showlegend": true,
         "type": "scatter",
         "x": {
          "bdata": "UrgeheshUUA=",
          "dtype": "f8"
         },
         "xaxis": "x",
         "y": {
          "bdata": "ZmZmZmZmEkA=",
          "dtype": "f8"
         },
         "yaxis": "y"
        },
        {
         "hovertemplate": "<b>%{hovertext}</b><br><br>ASIN=B099R6KGX9<br>Price=%{x}<br>Rating=%{y}<extra></extra>",
         "hovertext": [
          "B099R6KGX9"
         ],
         "legendgroup": "B099R6KGX9",
         "marker": {
          "color": "#FF97FF",
          "symbol": "circle"
         },
         "mode": "markers",
         "name": "B099R6KGX9",
         "orientation": "v",
         "showlegend": true,
         "type": "scatter",
         "x": {
          "bdata": "ZmZmZmbmWUA=",
          "dtype": "f8"
         },
         "xaxis": "x",
         "y": {
          "bdata": "MzMzMzMzEUA=",
          "dtype": "f8"
         },
         "yaxis": "y"
        },
        {
         "hovertemplate": "<b>%{hovertext}</b><br><br>ASIN=B0C591P3PM<br>Price=%{x}<br>Rating=%{y}<extra></extra>",
         "hovertext": [
          "B0C591P3PM"
         ],
         "legendgroup": "B0C591P3PM",
         "marker": {
          "color": "#FECB52",
          "symbol": "circle"
         },
         "mode": "markers",
         "name": "B0C591P3PM",
         "orientation": "v",
         "showlegend": true,
         "type": "scatter",
         "x": {
          "bdata": "cT0K16NwQ0A=",
          "dtype": "f8"
         },
         "xaxis": "x",
         "y": {
          "bdata": "ZmZmZmZmEEA=",
          "dtype": "f8"
         },
         "yaxis": "y"
        },
        {
         "hovertemplate": "<b>%{hovertext}</b><br><br>ASIN=B07KMCZ4PG<br>Price=%{x}<br>Rating=%{y}<extra></extra>",
         "hovertext": [
          "B07KMCZ4PG"
         ],
         "legendgroup": "B07KMCZ4PG",
         "marker": {
          "color": "#636efa",
          "symbol": "circle"
         },
         "mode": "markers",
         "name": "B07KMCZ4PG",
         "orientation": "v",
         "showlegend": true,
         "type": "scatter",
         "x": {
          "bdata": "H4XrUbj+SEA=",
          "dtype": "f8"
         },
         "xaxis": "x",
         "y": {
          "bdata": "MzMzMzMzEUA=",
          "dtype": "f8"
         },
         "yaxis": "y"
        },
        {
         "hovertemplate": "<b>%{hovertext}</b><br><br>ASIN=B0933MMM6X<br>Price=%{x}<br>Rating=%{y}<extra></extra>",
         "hovertext": [
          "B0933MMM6X"
         ],
         "legendgroup": "B0933MMM6X",
         "marker": {
          "color": "#EF553B",
          "symbol": "circle"
         },
         "mode": "markers",
         "name": "B0933MMM6X",
         "orientation": "v",
         "showlegend": true,
         "type": "scatter",
         "x": {
          "bdata": "AAAAAAAATkA=",
          "dtype": "f8"
         },
         "xaxis": "x",
         "y": {
          "bdata": "MzMzMzMzEUA=",
          "dtype": "f8"
         },
         "yaxis": "y"
        },
        {
         "hovertemplate": "<b>%{hovertext}</b><br><br>ASIN=B0DJJN938X<br>Price=%{x}<br>Rating=%{y}<extra></extra>",
         "hovertext": [
          "B0DJJN938X"
         ],
         "legendgroup": "B0DJJN938X",
         "marker": {
          "color": "#00cc96",
          "symbol": "circle"
         },
         "mode": "markers",
         "name": "B0DJJN938X",
         "orientation": "v",
         "showlegend": true,
         "type": "scatter",
         "x": {
          "bdata": "PQrXo3D9MEA=",
          "dtype": "f8"
         },
         "xaxis": "x",
         "y": {
          "bdata": "MzMzMzMzD0A=",
          "dtype": "f8"
         },
         "yaxis": "y"
        },
        {
         "hovertemplate": "<b>%{hovertext}</b><br><br>ASIN=B01N0OXZAN<br>Price=%{x}<br>Rating=%{y}<extra></extra>",
         "hovertext": [
          "B01N0OXZAN"
         ],
         "legendgroup": "B01N0OXZAN",
         "marker": {
          "color": "#ab63fa",
          "symbol": "circle"
         },
         "mode": "markers",
         "name": "B01N0OXZAN",
         "orientation": "v",
         "showlegend": true,
         "type": "scatter",
         "x": {
          "bdata": "SOF6FK4XYEA=",
          "dtype": "f8"
         },
         "xaxis": "x",
         "y": {
          "bdata": "ZmZmZmZmEkA=",
          "dtype": "f8"
         },
         "yaxis": "y"
        },
        {
         "hovertemplate": "<b>%{hovertext}</b><br><br>ASIN=B0D4RDHLQN<br>Price=%{x}<br>Rating=%{y}<extra></extra>",
         "hovertext": [
          "B0D4RDHLQN"
         ],
         "legendgroup": "B0D4RDHLQN",
         "marker": {
          "color": "#FFA15A",
          "symbol": "circle"
         },
         "mode": "markers",
         "name": "B0D4RDHLQN",
         "orientation": "v",
         "showlegend": true,
         "type": "scatter",
         "x": {
          "bdata": "j8L1KFz/U0A=",
          "dtype": "f8"
         },
         "xaxis": "x",
         "y": {
          "bdata": "AAAAAAAAEEA=",
          "dtype": "f8"
         },
         "yaxis": "y"
        },
        {
         "hovertemplate": "<b>%{hovertext}</b><br><br>ASIN=B005D3YMKI<br>Price=%{x}<br>Rating=%{y}<extra></extra>",
         "hovertext": [
          "B005D3YMKI"
         ],
         "legendgroup": "B005D3YMKI",
         "marker": {
          "color": "#19d3f3",
          "symbol": "circle"
         },
         "mode": "markers",
         "name": "B005D3YMKI",
         "orientation": "v",
         "showlegend": true,
         "type": "scatter",
         "x": {
          "bdata": "KVyPwvU4UkA=",
          "dtype": "f8"
         },
         "xaxis": "x",
         "y": {
          "bdata": "ZmZmZmZmEkA=",
          "dtype": "f8"
         },
         "yaxis": "y"
        },
        {
         "hovertemplate": "<b>%{hovertext}</b><br><br>ASIN=B0C8CHJLH1<br>Price=%{x}<br>Rating=%{y}<extra></extra>",
         "hovertext": [
          "B0C8CHJLH1"
         ],
         "legendgroup": "B0C8CHJLH1",
         "marker": {
          "color": "#FF6692",
          "symbol": "circle"
         },
         "mode": "markers",
         "name": "B0C8CHJLH1",
         "orientation": "v",
         "showlegend": true,
         "type": "scatter",
         "x": {
          "bdata": "PQrXo3D9O0A=",
          "dtype": "f8"
         },
         "xaxis": "x",
         "y": {
          "bdata": "ZmZmZmZmEEA=",
          "dtype": "f8"
         },
         "yaxis": "y"
        },
        {
         "hovertemplate": "<b>%{hovertext}</b><br><br>ASIN=B0D5ZNGJQS<br>Price=%{x}<br>Rating=%{y}<extra></extra>",
         "hovertext": [
          "B0D5ZNGJQS"
         ],
         "legendgroup": "B0D5ZNGJQS",
         "marker": {
          "color": "#B6E880",
          "symbol": "circle"
         },
         "mode": "markers",
         "name": "B0D5ZNGJQS",
         "orientation": "v",
         "showlegend": true,
         "type": "scatter",
         "x": {
          "bdata": "cT0K16NQRkA=",
          "dtype": "f8"
         },
         "xaxis": "x",
         "y": {
          "bdata": "zczMzMzMEkA=",
          "dtype": "f8"
         },
         "yaxis": "y"
        },
        {
         "hovertemplate": "<b>%{hovertext}</b><br><br>ASIN=B001J1772I<br>Price=%{x}<br>Rating=%{y}<extra></extra>",
         "hovertext": [
          "B001J1772I"
         ],
         "legendgroup": "B001J1772I",
         "marker": {
          "color": "#FF97FF",
          "symbol": "circle"
         },
         "mode": "markers",
         "name": "B001J1772I",
         "orientation": "v",
         "showlegend": true,
         "type": "scatter",
         "x": {
          "bdata": "CtejcD1KX0A=",
          "dtype": "f8"
         },
         "xaxis": "x",
         "y": {
          "bdata": "AAAAAAAAEkA=",
          "dtype": "f8"
         },
         "yaxis": "y"
        },
        {
         "hovertemplate": "<b>%{hovertext}</b><br><br>ASIN=B09X1B645K<br>Price=%{x}<br>Rating=%{y}<extra></extra>",
         "hovertext": [
          "B09X1B645K"
         ],
         "legendgroup": "B09X1B645K",
         "marker": {
          "color": "#FECB52",
          "symbol": "circle"
         },
         "mode": "markers",
         "name": "B09X1B645K",
         "orientation": "v",
         "showlegend": true,
         "type": "scatter",
         "x": {
          "bdata": "AAAAAACAa0A=",
          "dtype": "f8"
         },
         "xaxis": "x",
         "y": {
          "bdata": "mpmZmZmZEUA=",
          "dtype": "f8"
         },
         "yaxis": "y"
        },
        {
         "hovertemplate": "<b>%{hovertext}</b><br><br>ASIN=B0BYRMQ3NJ<br>Price=%{x}<br>Rating=%{y}<extra></extra>",
         "hovertext": [
          "B0BYRMQ3NJ"
         ],
         "legendgroup": "B0BYRMQ3NJ",
         "marker": {
          "color": "#636efa",
          "symbol": "circle"
         },
         "mode": "markers",
         "name": "B0BYRMQ3NJ",
         "orientation": "v",
         "showlegend": true,
         "type": "scatter",
         "x": {
          "bdata": "H4XrUbj+S0A=",
          "dtype": "f8"
         },
         "xaxis": "x",
         "y": {
          "bdata": "zczMzMzMEEA=",
          "dtype": "f8"
         },
         "yaxis": "y"
        },
        {
         "hovertemplate": "<b>%{hovertext}</b><br><br>ASIN=B0733PT6VC<br>Price=%{x}<br>Rating=%{y}<extra></extra>",
         "hovertext": [
          "B0733PT6VC"
         ],
         "legendgroup": "B0733PT6VC",
         "marker": {
          "color": "#EF553B",
          "symbol": "circle"
         },
         "mode": "markers",
         "name": "B0733PT6VC",
         "orientation": "v",
         "showlegend": true,
         "type": "scatter",
         "x": {
          "bdata": "AAAAAAAAcEA=",
          "dtype": "f8"
         },
         "xaxis": "x",
         "y": {
          "bdata": "ZmZmZmZmEkA=",
          "dtype": "f8"
         },
         "yaxis": "y"
        },
        {
         "hovertemplate": "<b>%{hovertext}</b><br><br>ASIN=B09VGFS21M<br>Price=%{x}<br>Rating=%{y}<extra></extra>",
         "hovertext": [
          "B09VGFS21M"
         ],
         "legendgroup": "B09VGFS21M",
         "marker": {
          "color": "#00cc96",
          "symbol": "circle"
         },
         "mode": "markers",
         "name": "B09VGFS21M",
         "orientation": "v",
         "showlegend": true,
         "type": "scatter",
         "x": {
          "bdata": "H4XrUbj+SEA=",
          "dtype": "f8"
         },
         "xaxis": "x",
         "y": {
          "bdata": "AAAAAAAAEEA=",
          "dtype": "f8"
         },
         "yaxis": "y"
        },
        {
         "hovertemplate": "<b>%{hovertext}</b><br><br>ASIN=B0BTBX691N<br>Price=%{x}<br>Rating=%{y}<extra></extra>",
         "hovertext": [
          "B0BTBX691N"
         ],
         "legendgroup": "B0BTBX691N",
         "marker": {
          "color": "#ab63fa",
          "symbol": "circle"
         },
         "mode": "markers",
         "name": "B0BTBX691N",
         "orientation": "v",
         "showlegend": true,
         "type": "scatter",
         "x": {
          "bdata": "j8L1KFx/U0A=",
          "dtype": "f8"
         },
         "xaxis": "x",
         "y": {
          "bdata": "ZmZmZmZmEEA=",
          "dtype": "f8"
         },
         "yaxis": "y"
        },
        {
         "hovertemplate": "<b>%{hovertext}</b><br><br>ASIN=B07G5Q8LKH<br>Price=%{x}<br>Rating=%{y}<extra></extra>",
         "hovertext": [
          "B07G5Q8LKH"
         ],
         "legendgroup": "B07G5Q8LKH",
         "marker": {
          "color": "#FFA15A",
          "symbol": "circle"
         },
         "mode": "markers",
         "name": "B07G5Q8LKH",
         "orientation": "v",
         "showlegend": true,
         "type": "scatter",
         "x": {
          "bdata": "j8L1KFzfckA=",
          "dtype": "f8"
         },
         "xaxis": "x",
         "y": {
          "bdata": "zczMzMzMEkA=",
          "dtype": "f8"
         },
         "yaxis": "y"
        },
        {
         "hovertemplate": "<b>%{hovertext}</b><br><br>ASIN=B06XMQH34J<br>Price=%{x}<br>Rating=%{y}<extra></extra>",
         "hovertext": [
          "B06XMQH34J"
         ],
         "legendgroup": "B06XMQH34J",
         "marker": {
          "color": "#19d3f3",
          "symbol": "circle"
         },
         "mode": "markers",
         "name": "B06XMQH34J",
         "orientation": "v",
         "showlegend": true,
         "type": "scatter",
         "x": {
          "bdata": "ZmZmZmYGV0A=",
          "dtype": "f8"
         },
         "xaxis": "x",
         "y": {
          "bdata": "mpmZmZmZEUA=",
          "dtype": "f8"
         },
         "yaxis": "y"
        }
       ],
       "layout": {
        "annotations": [
         {
          "showarrow": false,
          "text": "Low Rating Threshold",
          "x": 1,
          "xanchor": "right",
          "xref": "x domain",
          "y": 4.2,
          "yanchor": "bottom",
          "yref": "y"
         },
         {
          "showarrow": false,
          "text": "High Rating Threshold",
          "x": 1,
          "xanchor": "right",
          "xref": "x domain",
          "y": 4.6,
          "yanchor": "bottom",
          "yref": "y"
         },
         {
          "showarrow": false,
          "text": "Low Price Threshold",
          "x": 38.66,
          "xanchor": "left",
          "xref": "x",
          "y": 1,
          "yanchor": "top",
          "yref": "y domain"
         },
         {
          "showarrow": false,
          "text": "High Price Threshold",
          "x": 78.495,
          "xanchor": "left",
          "xref": "x",
          "y": 1,
          "yanchor": "top",
          "yref": "y domain"
         }
        ],
        "legend": {
         "title": {
          "text": "ASIN"
         },
         "tracegroupgap": 0
        },
        "shapes": [
         {
          "line": {
           "color": "red",
           "dash": "dash"
          },
          "type": "line",
          "x0": 0,
          "x1": 1,
          "xref": "x domain",
          "y0": 4.2,
          "y1": 4.2,
          "yref": "y"
         },
         {
          "line": {
           "color": "green",
           "dash": "dash"
          },
          "type": "line",
          "x0": 0,
          "x1": 1,
          "xref": "x domain",
          "y0": 4.6,
          "y1": 4.6,
          "yref": "y"
         },
         {
          "line": {
           "color": "blue",
           "dash": "dash"
          },
          "type": "line",
          "x0": 38.66,
          "x1": 38.66,
          "xref": "x",
          "y0": 0,
          "y1": 1,
          "yref": "y domain"
         },
         {
          "line": {
           "color": "orange",
           "dash": "dash"
          },
          "type": "line",
          "x0": 78.495,
          "x1": 78.495,
          "xref": "x",
          "y0": 0,
          "y1": 1,
          "yref": "y domain"
         }
        ],
        "template": {
         "data": {
          "bar": [
           {
            "error_x": {
             "color": "#2a3f5f"
            },
            "error_y": {
             "color": "#2a3f5f"
            },
            "marker": {
             "line": {
              "color": "#E5ECF6",
              "width": 0.5
             },
             "pattern": {
              "fillmode": "overlay",
              "size": 10,
              "solidity": 0.2
             }
            },
            "type": "bar"
           }
          ],
          "barpolar": [
           {
            "marker": {
             "line": {
              "color": "#E5ECF6",
              "width": 0.5
             },
             "pattern": {
              "fillmode": "overlay",
              "size": 10,
              "solidity": 0.2
             }
            },
            "type": "barpolar"
           }
          ],
          "carpet": [
           {
            "aaxis": {
             "endlinecolor": "#2a3f5f",
             "gridcolor": "white",
             "linecolor": "white",
             "minorgridcolor": "white",
             "startlinecolor": "#2a3f5f"
            },
            "baxis": {
             "endlinecolor": "#2a3f5f",
             "gridcolor": "white",
             "linecolor": "white",
             "minorgridcolor": "white",
             "startlinecolor": "#2a3f5f"
            },
            "type": "carpet"
           }
          ],
          "choropleth": [
           {
            "colorbar": {
             "outlinewidth": 0,
             "ticks": ""
            },
            "type": "choropleth"
           }
          ],
          "contour": [
           {
            "colorbar": {
             "outlinewidth": 0,
             "ticks": ""
            },
            "colorscale": [
             [
              0,
              "#0d0887"
             ],
             [
              0.1111111111111111,
              "#46039f"
             ],
             [
              0.2222222222222222,
              "#7201a8"
             ],
             [
              0.3333333333333333,
              "#9c179e"
             ],
             [
              0.4444444444444444,
              "#bd3786"
             ],
             [
              0.5555555555555556,
              "#d8576b"
             ],
             [
              0.6666666666666666,
              "#ed7953"
             ],
             [
              0.7777777777777778,
              "#fb9f3a"
             ],
             [
              0.8888888888888888,
              "#fdca26"
             ],
             [
              1,
              "#f0f921"
             ]
            ],
            "type": "contour"
           }
          ],
          "contourcarpet": [
           {
            "colorbar": {
             "outlinewidth": 0,
             "ticks": ""
            },
            "type": "contourcarpet"
           }
          ],
          "heatmap": [
           {
            "colorbar": {
             "outlinewidth": 0,
             "ticks": ""
            },
            "colorscale": [
             [
              0,
              "#0d0887"
             ],
             [
              0.1111111111111111,
              "#46039f"
             ],
             [
              0.2222222222222222,
              "#7201a8"
             ],
             [
              0.3333333333333333,
              "#9c179e"
             ],
             [
              0.4444444444444444,
              "#bd3786"
             ],
             [
              0.5555555555555556,
              "#d8576b"
             ],
             [
              0.6666666666666666,
              "#ed7953"
             ],
             [
              0.7777777777777778,
              "#fb9f3a"
             ],
             [
              0.8888888888888888,
              "#fdca26"
             ],
             [
              1,
              "#f0f921"
             ]
            ],
            "type": "heatmap"
           }
          ],
          "histogram": [
           {
            "marker": {
             "pattern": {
              "fillmode": "overlay",
              "size": 10,
              "solidity": 0.2
             }
            },
            "type": "histogram"
           }
          ],
          "histogram2d": [
           {
            "colorbar": {
             "outlinewidth": 0,
             "ticks": ""
            },
            "colorscale": [
             [
              0,
              "#0d0887"
             ],
             [
              0.1111111111111111,
              "#46039f"
             ],
             [
              0.2222222222222222,
              "#7201a8"
             ],
             [
              0.3333333333333333,
              "#9c179e"
             ],
             [
              0.4444444444444444,
              "#bd3786"
             ],
             [
              0.5555555555555556,
              "#d8576b"
             ],
             [
              0.6666666666666666,
              "#ed7953"
             ],
             [
              0.7777777777777778,
              "#fb9f3a"
             ],
             [
              0.8888888888888888,
              "#fdca26"
             ],
             [
              1,
              "#f0f921"
             ]
            ],
            "type": "histogram2d"
           }
          ],
          "histogram2dcontour": [
           {
            "colorbar": {
             "outlinewidth": 0,
             "ticks": ""
            },
            "colorscale": [
             [
              0,
              "#0d0887"
             ],
             [
              0.1111111111111111,
              "#46039f"
             ],
             [
              0.2222222222222222,
              "#7201a8"
             ],
             [
              0.3333333333333333,
              "#9c179e"
             ],
             [
              0.4444444444444444,
              "#bd3786"
             ],
             [
              0.5555555555555556,
              "#d8576b"
             ],
             [
              0.6666666666666666,
              "#ed7953"
             ],
             [
              0.7777777777777778,
              "#fb9f3a"
             ],
             [
              0.8888888888888888,
              "#fdca26"
             ],
             [
              1,
              "#f0f921"
             ]
            ],
            "type": "histogram2dcontour"
           }
          ],
          "mesh3d": [
           {
            "colorbar": {
             "outlinewidth": 0,
             "ticks": ""
            },
            "type": "mesh3d"
           }
          ],
          "parcoords": [
           {
            "line": {
             "colorbar": {
              "outlinewidth": 0,
              "ticks": ""
             }
            },
            "type": "parcoords"
           }
          ],
          "pie": [
           {
            "automargin": true,
            "type": "pie"
           }
          ],
          "scatter": [
           {
            "fillpattern": {
             "fillmode": "overlay",
             "size": 10,
             "solidity": 0.2
            },
            "type": "scatter"
           }
          ],
          "scatter3d": [
           {
            "line": {
             "colorbar": {
              "outlinewidth": 0,
              "ticks": ""
             }
            },
            "marker": {
             "colorbar": {
              "outlinewidth": 0,
              "ticks": ""
             }
            },
            "type": "scatter3d"
           }
          ],
          "scattercarpet": [
           {
            "marker": {
             "colorbar": {
              "outlinewidth": 0,
              "ticks": ""
             }
            },
            "type": "scattercarpet"
           }
          ],
          "scattergeo": [
           {
            "marker": {
             "colorbar": {
              "outlinewidth": 0,
              "ticks": ""
             }
            },
            "type": "scattergeo"
           }
          ],
          "scattergl": [
           {
            "marker": {
             "colorbar": {
              "outlinewidth": 0,
              "ticks": ""
             }
            },
            "type": "scattergl"
           }
          ],
          "scattermap": [
           {
            "marker": {
             "colorbar": {
              "outlinewidth": 0,
              "ticks": ""
             }
            },
            "type": "scattermap"
           }
          ],
          "scattermapbox": [
           {
            "marker": {
             "colorbar": {
              "outlinewidth": 0,
              "ticks": ""
             }
            },
            "type": "scattermapbox"
           }
          ],
          "scatterpolar": [
           {
            "marker": {
             "colorbar": {
              "outlinewidth": 0,
              "ticks": ""
             }
            },
            "type": "scatterpolar"
           }
          ],
          "scatterpolargl": [
           {
            "marker": {
             "colorbar": {
              "outlinewidth": 0,
              "ticks": ""
             }
            },
            "type": "scatterpolargl"
           }
          ],
          "scatterternary": [
           {
            "marker": {
             "colorbar": {
              "outlinewidth": 0,
              "ticks": ""
             }
            },
            "type": "scatterternary"
           }
          ],
          "surface": [
           {
            "colorbar": {
             "outlinewidth": 0,
             "ticks": ""
            },
            "colorscale": [
             [
              0,
              "#0d0887"
             ],
             [
              0.1111111111111111,
              "#46039f"
             ],
             [
              0.2222222222222222,
              "#7201a8"
             ],
             [
              0.3333333333333333,
              "#9c179e"
             ],
             [
              0.4444444444444444,
              "#bd3786"
             ],
             [
              0.5555555555555556,
              "#d8576b"
             ],
             [
              0.6666666666666666,
              "#ed7953"
             ],
             [
              0.7777777777777778,
              "#fb9f3a"
             ],
             [
              0.8888888888888888,
              "#fdca26"
             ],
             [
              1,
              "#f0f921"
             ]
            ],
            "type": "surface"
           }
          ],
          "table": [
           {
            "cells": {
             "fill": {
              "color": "#EBF0F8"
             },
             "line": {
              "color": "white"
             }
            },
            "header": {
             "fill": {
              "color": "#C8D4E3"
             },
             "line": {
              "color": "white"
             }
            },
            "type": "table"
           }
          ]
         },
         "layout": {
          "annotationdefaults": {
           "arrowcolor": "#2a3f5f",
           "arrowhead": 0,
           "arrowwidth": 1
          },
          "autotypenumbers": "strict",
          "coloraxis": {
           "colorbar": {
            "outlinewidth": 0,
            "ticks": ""
           }
          },
          "colorscale": {
           "diverging": [
            [
             0,
             "#8e0152"
            ],
            [
             0.1,
             "#c51b7d"
            ],
            [
             0.2,
             "#de77ae"
            ],
            [
             0.3,
             "#f1b6da"
            ],
            [
             0.4,
             "#fde0ef"
            ],
            [
             0.5,
             "#f7f7f7"
            ],
            [
             0.6,
             "#e6f5d0"
            ],
            [
             0.7,
             "#b8e186"
            ],
            [
             0.8,
             "#7fbc41"
            ],
            [
             0.9,
             "#4d9221"
            ],
            [
             1,
             "#276419"
            ]
           ],
           "sequential": [
            [
             0,
             "#0d0887"
            ],
            [
             0.1111111111111111,
             "#46039f"
            ],
            [
             0.2222222222222222,
             "#7201a8"
            ],
            [
             0.3333333333333333,
             "#9c179e"
            ],
            [
             0.4444444444444444,
             "#bd3786"
            ],
            [
             0.5555555555555556,
             "#d8576b"
            ],
            [
             0.6666666666666666,
             "#ed7953"
            ],
            [
             0.7777777777777778,
             "#fb9f3a"
            ],
            [
             0.8888888888888888,
             "#fdca26"
            ],
            [
             1,
             "#f0f921"
            ]
           ],
           "sequentialminus": [
            [
             0,
             "#0d0887"
            ],
            [
             0.1111111111111111,
             "#46039f"
            ],
            [
             0.2222222222222222,
             "#7201a8"
            ],
            [
             0.3333333333333333,
             "#9c179e"
            ],
            [
             0.4444444444444444,
             "#bd3786"
            ],
            [
             0.5555555555555556,
             "#d8576b"
            ],
            [
             0.6666666666666666,
             "#ed7953"
            ],
            [
             0.7777777777777778,
             "#fb9f3a"
            ],
            [
             0.8888888888888888,
             "#fdca26"
            ],
            [
             1,
             "#f0f921"
            ]
           ]
          },
          "colorway": [
           "#636efa",
           "#EF553B",
           "#00cc96",
           "#ab63fa",
           "#FFA15A",
           "#19d3f3",
           "#FF6692",
           "#B6E880",
           "#FF97FF",
           "#FECB52"
          ],
          "font": {
           "color": "#2a3f5f"
          },
          "geo": {
           "bgcolor": "white",
           "lakecolor": "white",
           "landcolor": "#E5ECF6",
           "showlakes": true,
           "showland": true,
           "subunitcolor": "white"
          },
          "hoverlabel": {
           "align": "left"
          },
          "hovermode": "closest",
          "mapbox": {
           "style": "light"
          },
          "paper_bgcolor": "white",
          "plot_bgcolor": "#E5ECF6",
          "polar": {
           "angularaxis": {
            "gridcolor": "white",
            "linecolor": "white",
            "ticks": ""
           },
           "bgcolor": "#E5ECF6",
           "radialaxis": {
            "gridcolor": "white",
            "linecolor": "white",
            "ticks": ""
           }
          },
          "scene": {
           "xaxis": {
            "backgroundcolor": "#E5ECF6",
            "gridcolor": "white",
            "gridwidth": 2,
            "linecolor": "white",
            "showbackground": true,
            "ticks": "",
            "zerolinecolor": "white"
           },
           "yaxis": {
            "backgroundcolor": "#E5ECF6",
            "gridcolor": "white",
            "gridwidth": 2,
            "linecolor": "white",
            "showbackground": true,
            "ticks": "",
            "zerolinecolor": "white"
           },
           "zaxis": {
            "backgroundcolor": "#E5ECF6",
            "gridcolor": "white",
            "gridwidth": 2,
            "linecolor": "white",
            "showbackground": true,
            "ticks": "",
            "zerolinecolor": "white"
           }
          },
          "shapedefaults": {
           "line": {
            "color": "#2a3f5f"
           }
          },
          "ternary": {
           "aaxis": {
            "gridcolor": "white",
            "linecolor": "white",
            "ticks": ""
           },
           "baxis": {
            "gridcolor": "white",
            "linecolor": "white",
            "ticks": ""
           },
           "bgcolor": "#E5ECF6",
           "caxis": {
            "gridcolor": "white",
            "linecolor": "white",
            "ticks": ""
           }
          },
          "title": {
           "x": 0.05
          },
          "xaxis": {
           "automargin": true,
           "gridcolor": "white",
           "linecolor": "white",
           "ticks": "",
           "title": {
            "standoff": 15
           },
           "zerolinecolor": "white",
           "zerolinewidth": 2
          },
          "yaxis": {
           "automargin": true,
           "gridcolor": "white",
           "linecolor": "white",
           "ticks": "",
           "title": {
            "standoff": 15
           },
           "zerolinecolor": "white",
           "zerolinewidth": 2
          }
         }
        },
        "title": {
         "text": "Price vs. Rating: Identifying Value-for-Money and Overpriced Products"
        },
        "xaxis": {
         "anchor": "y",
         "domain": [
          0,
          1
         ],
         "title": {
          "text": "Price"
         }
        },
        "yaxis": {
         "anchor": "x",
         "domain": [
          0,
          1
         ],
         "title": {
          "text": "Rating"
         }
        }
       }
      }
     },
     "metadata": {},
     "output_type": "display_data"
    }
   ],
   "source": [
    "import plotly.express as px\n",
    "\n",
    "# Create an interactive scatter plot\n",
    "fig = px.scatter(df, x='Price', y='Rating', color='ASIN', hover_name='ASIN',\n",
    "                 title='Price vs. Rating: Identifying Value-for-Money and Overpriced Products',\n",
    "                 labels={'Price': 'Price', 'Rating': 'Rating'})\n",
    "\n",
    "# Add threshold lines\n",
    "fig.add_hline(y=low_rating_threshold, line_dash=\"dash\", line_color=\"red\", annotation_text=\"Low Rating Threshold\")\n",
    "fig.add_hline(y=high_rating_threshold, line_dash=\"dash\", line_color=\"green\", annotation_text=\"High Rating Threshold\")\n",
    "fig.add_vline(x=low_price_threshold, line_dash=\"dash\", line_color=\"blue\", annotation_text=\"Low Price Threshold\")\n",
    "fig.add_vline(x=high_price_threshold, line_dash=\"dash\", line_color=\"orange\", annotation_text=\"High Price Threshold\")\n",
    "\n",
    "# Show the plot\n",
    "fig.show()"
   ]
  }
 ],
 "metadata": {
  "kernelspec": {
   "display_name": "Python 3",
   "language": "python",
   "name": "python3"
  },
  "language_info": {
   "codemirror_mode": {
    "name": "ipython",
    "version": 3
   },
   "file_extension": ".py",
   "mimetype": "text/x-python",
   "name": "python",
   "nbconvert_exporter": "python",
   "pygments_lexer": "ipython3",
   "version": "3.12.3"
  }
 },
 "nbformat": 4,
 "nbformat_minor": 2
}
